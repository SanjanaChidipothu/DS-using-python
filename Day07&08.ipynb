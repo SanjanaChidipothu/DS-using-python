{
 "cells": [
  {
   "cell_type": "markdown",
   "id": "8e2abdf8",
   "metadata": {},
   "source": [
    "# Conditional statements\n",
    "\n",
    "- Conditional statements\n",
    "    - if\n",
    "    - if-else\n",
    "    - if-elif-else\n",
    "- Loops in python\n",
    "    - For\n",
    "    - While\n",
    "- Strings\n",
    "    - Declaring a string\n",
    "    - Accessing the elements fron string\n",
    "    - String methods"
   ]
  },
  {
   "cell_type": "markdown",
   "id": "fce0f809",
   "metadata": {},
   "source": [
    "## Conditional statements\n",
    "\n",
    "- for controlling flow of execution\n",
    "\n",
    "\n",
    "### If syntax\n",
    "\n",
    "```python\n",
    "\n",
    "if condition:\n",
    "    block of code\n",
    "```\n",
    "\n",
    "\n",
    "### If-else syntax\n",
    "\n",
    "```python\n",
    "if condition:\n",
    "    block of code\n",
    "else:\n",
    "    block of code\n",
    "```\n",
    "\n",
    "\n",
    "### If-elif-else syntax\n",
    "\n",
    "```python\n",
    "if condition:\n",
    "    block of code\n",
    "elif condition:\n",
    "    block of code\n",
    "else:\n",
    "    block of code\n",
    "```\n"
   ]
  },
  {
   "cell_type": "code",
   "execution_count": 1,
   "id": "f508618a",
   "metadata": {},
   "outputs": [
    {
     "name": "stdout",
     "output_type": "stream",
     "text": [
      "10 is greater\n"
     ]
    }
   ],
   "source": [
    "## Biggest of 2 numbers\n",
    "\n",
    "\n",
    "a = 5\n",
    "b = 10\n",
    "\n",
    "if a > b:\n",
    "    print(a,\"is greater\")\n",
    "else:\n",
    "    print(b,\"is greater\")"
   ]
  },
  {
   "cell_type": "code",
   "execution_count": 2,
   "id": "42af2a00",
   "metadata": {},
   "outputs": [
    {
     "ename": "IndentationError",
     "evalue": "expected an indented block (<ipython-input-2-5e32045e726c>, line 10)",
     "output_type": "error",
     "traceback": [
      "\u001b[1;36m  File \u001b[1;32m\"<ipython-input-2-5e32045e726c>\"\u001b[1;36m, line \u001b[1;32m10\u001b[0m\n\u001b[1;33m    print(b,\"is greater\")\u001b[0m\n\u001b[1;37m    ^\u001b[0m\n\u001b[1;31mIndentationError\u001b[0m\u001b[1;31m:\u001b[0m expected an indented block\n"
     ]
    }
   ],
   "source": [
    "## Indentation error\n",
    "\n",
    "\n",
    "a = 5\n",
    "b = 10\n",
    "\n",
    "if a > b:\n",
    "    print(a,\"is greater\")\n",
    "else:\n",
    "print(b,\"is greater\")"
   ]
  },
  {
   "cell_type": "code",
   "execution_count": 3,
   "id": "a6ca384e",
   "metadata": {},
   "outputs": [
    {
     "name": "stdout",
     "output_type": "stream",
     "text": [
      "10 is greater\n"
     ]
    }
   ],
   "source": [
    "## relation of 2 numbers\n",
    "\n",
    "\n",
    "a = 5\n",
    "b = 10\n",
    "\n",
    "if a > b :\n",
    "    print(a,\"is greater\")\n",
    "elif b > a:\n",
    "    print(b,\"is greater\")\n",
    "else:\n",
    "    print(\"both are equal\")"
   ]
  },
  {
   "cell_type": "code",
   "execution_count": 5,
   "id": "e73ef4eb",
   "metadata": {},
   "outputs": [
    {
     "name": "stdout",
     "output_type": "stream",
     "text": [
      "10 is greater\n"
     ]
    }
   ],
   "source": [
    "## Biggest of 3 numbers\n",
    "\n",
    "a = 5\n",
    "b = 10\n",
    "c = 8\n",
    "\n",
    "if a > b and a > c:\n",
    "    print(a,\"is greater\")\n",
    "elif b > c:\n",
    "    print(b,\"is greater\")\n",
    "else:\n",
    "    print(c,\"is greater\")"
   ]
  },
  {
   "cell_type": "code",
   "execution_count": 6,
   "id": "c972f7e4",
   "metadata": {},
   "outputs": [
    {
     "name": "stdout",
     "output_type": "stream",
     "text": [
      "Enter a number:6758\n",
      "6758 is even\n"
     ]
    }
   ],
   "source": [
    "## Check the input is even or not\n",
    "\n",
    "n = int(input(\"Enter a number:\"))\n",
    "if n % 2 == 0:\n",
    "    print(n,\"is even\")\n",
    "else:\n",
    "    print(n,\"is not even\")"
   ]
  },
  {
   "cell_type": "code",
   "execution_count": 7,
   "id": "7294834a",
   "metadata": {},
   "outputs": [
    {
     "name": "stdout",
     "output_type": "stream",
     "text": [
      "Enter year:2020\n",
      "2020 is a leap year\n"
     ]
    }
   ],
   "source": [
    "## Verify year is leap or not\n",
    "\n",
    "# - it should be divisible by 4 and remainder as 0\n",
    "# - it shouldn't be divisible by 100\n",
    "# - divisible by 400\n",
    "\n",
    "year = int(input(\"Enter year:\"))\n",
    "if (year % 400 ==0) or (year % 4 ==0 and year % 100 !=0):\n",
    "    print(year,\"is a leap year\")\n",
    "else:\n",
    "    print(year,\"is not a leap year\")"
   ]
  },
  {
   "cell_type": "code",
   "execution_count": 8,
   "id": "9ebd57dc",
   "metadata": {},
   "outputs": [
    {
     "name": "stdout",
     "output_type": "stream",
     "text": [
      "Enter number:10\n",
      "Enter number:5\n",
      "Enter operation to be performed:/\n",
      "2.0\n"
     ]
    }
   ],
   "source": [
    "## Calculator application\n",
    "\n",
    "a = int(input(\"Enter number:\"))\n",
    "b = int(input(\"Enter number:\"))\n",
    "arith = input(\"Enter operation to be performed:\")\n",
    "if arith == \"+\":\n",
    "    print(a + b)\n",
    "elif arith == \"-\":\n",
    "    print(a - b)\n",
    "elif arith == \"*\":\n",
    "    print(a * b)\n",
    "else:\n",
    "    print(a / b)"
   ]
  },
  {
   "cell_type": "markdown",
   "id": "09fb1dc0",
   "metadata": {},
   "source": [
    "### Loops in python\n",
    "\n",
    "executes blocks of code multiple times\n",
    "\n",
    "### For Syntax\n",
    "\n",
    "```python\n",
    "for iterativeItem in GroupData:\n",
    "    Block of code\n",
    "```\n",
    "\n",
    "\n",
    "### While Syntax\n",
    "\n",
    "```python\n",
    "\n",
    "init\n",
    "while condition:\n",
    "    Block of code\n",
    "    inc/dec\n",
    "    \n",
    "```\n",
    "\n",
    "### GroupOfNumbers\n",
    "\n",
    "range(init, cond, inc/dec)\n",
    "\n",
    "cond -> required arg\n",
    "init -> 0\n",
    "inc/dec -> +1"
   ]
  },
  {
   "cell_type": "code",
   "execution_count": 9,
   "id": "80efb407",
   "metadata": {},
   "outputs": [
    {
     "name": "stdout",
     "output_type": "stream",
     "text": [
      "1\t3\t5\t7\t9\t11\t13\t15\t17\t19\t21\t23\t25\t27\t29\t31\t33\t35\t37\t39\t41\t43\t45\t47\t49\t51\t53\t55\t57\t59\t61\t63\t65\t67\t69\t71\t73\t75\t77\t79\t81\t83\t85\t87\t89\t91\t93\t95\t97\t99\t"
     ]
    }
   ],
   "source": [
    "## Display 1 to 100 numbers\n",
    "\n",
    "\n",
    "for i in range(1, 101, 2):\n",
    "    print(i,end =\"\\t\")"
   ]
  },
  {
   "cell_type": "code",
   "execution_count": 10,
   "id": "0037afc6",
   "metadata": {},
   "outputs": [
    {
     "name": "stdout",
     "output_type": "stream",
     "text": [
      "2\t4\t6\t8\t10\t12\t14\t16\t18\t20\t22\t24\t26\t28\t30\t32\t34\t36\t38\t40\t42\t44\t46\t48\t50\t52\t54\t56\t58\t60\t62\t64\t66\t68\t70\t72\t74\t76\t78\t80\t82\t84\t86\t88\t90\t92\t94\t96\t98\t100\t102\t104\t106\t108\t110\t112\t114\t116\t118\t120\t122\t124\t126\t128\t130\t132\t134\t136\t138\t140\t142\t144\t146\t148\t150\t152\t154\t156\t158\t160\t162\t164\t166\t168\t170\t172\t174\t176\t178\t180\t182\t184\t186\t188\t190\t192\t194\t196\t198\t200\t202\t204\t206\t208\t210\t212\t214\t216\t218\t220\t222\t224\t226\t228\t230\t232\t234\t236\t238\t240\t242\t244\t246\t248\t250\t252\t254\t256\t258\t260\t262\t264\t266\t268\t270\t272\t274\t276\t278\t280\t282\t284\t286\t288\t290\t292\t294\t296\t298\t300\t302\t304\t306\t308\t310\t312\t314\t316\t318\t320\t322\t324\t326\t328\t330\t332\t334\t336\t338\t340\t342\t344\t346\t348\t350\t352\t354\t356\t358\t360\t362\t364\t366\t368\t370\t372\t374\t376\t378\t380\t382\t384\t386\t388\t390\t392\t394\t396\t398\t400\t402\t404\t406\t408\t410\t412\t414\t416\t418\t420\t422\t424\t426\t428\t430\t432\t434\t436\t438\t440\t442\t444\t446\t448\t450\t452\t454\t456\t458\t460\t462\t464\t466\t468\t470\t472\t474\t476\t478\t480\t482\t484\t486\t488\t490\t492\t494\t496\t498\t500\t502\t504\t506\t508\t510\t512\t514\t516\t518\t520\t522\t524\t526\t528\t530\t532\t534\t536\t538\t540\t542\t544\t546\t548\t550\t552\t554\t556\t558\t560\t562\t564\t566\t568\t570\t572\t574\t576\t578\t580\t582\t584\t586\t588\t590\t592\t594\t596\t598\t600\t602\t604\t606\t608\t610\t612\t614\t616\t618\t620\t622\t624\t626\t628\t630\t632\t634\t636\t638\t640\t642\t644\t646\t648\t650\t652\t654\t656\t658\t660\t662\t664\t666\t668\t670\t672\t674\t676\t678\t680\t682\t684\t686\t688\t690\t692\t694\t696\t698\t700\t702\t704\t706\t708\t710\t712\t714\t716\t718\t720\t722\t724\t726\t728\t730\t732\t734\t736\t738\t740\t742\t744\t746\t748\t750\t752\t754\t756\t758\t760\t762\t764\t766\t768\t770\t772\t774\t776\t778\t780\t782\t784\t786\t788\t790\t792\t794\t796\t798\t800\t802\t804\t806\t808\t810\t812\t814\t816\t818\t820\t822\t824\t826\t828\t830\t832\t834\t836\t838\t840\t842\t844\t846\t848\t850\t852\t854\t856\t858\t860\t862\t864\t866\t868\t870\t872\t874\t876\t878\t880\t882\t884\t886\t888\t890\t892\t894\t896\t898\t900\t902\t904\t906\t908\t910\t912\t914\t916\t918\t920\t922\t924\t926\t928\t930\t932\t934\t936\t938\t940\t942\t944\t946\t948\t950\t952\t954\t956\t958\t960\t962\t964\t966\t968\t970\t972\t974\t976\t978\t980\t982\t984\t986\t988\t990\t992\t994\t996\t998\t1000\t"
     ]
    }
   ],
   "source": [
    "##Even numbers between 1 to 100\n",
    "\n",
    "for i  in range(1, 1001, 1):\n",
    "    if i % 2 == 0:\n",
    "        print(i , end = '\\t')"
   ]
  },
  {
   "cell_type": "code",
   "execution_count": 12,
   "id": "3fa1990b",
   "metadata": {},
   "outputs": [],
   "source": [
    "## Get the leap years between given range\n",
    "\n"
   ]
  },
  {
   "cell_type": "code",
   "execution_count": 13,
   "id": "ac9b5243",
   "metadata": {},
   "outputs": [
    {
     "name": "stdout",
     "output_type": "stream",
     "text": [
      "1\t2\t3\t4\t5\t6\t7\t8\t9\t10\t11\t12\t13\t14\t15\t16\t17\t18\t19\t20\t21\t22\t23\t24\t25\t26\t27\t28\t29\t30\t31\t32\t33\t34\t35\t36\t37\t38\t39\t40\t41\t42\t43\t44\t45\t46\t47\t48\t49\t50\t51\t52\t53\t54\t55\t56\t57\t58\t59\t60\t61\t62\t63\t64\t65\t66\t67\t68\t69\t70\t71\t72\t73\t74\t75\t76\t77\t78\t79\t80\t81\t82\t83\t84\t85\t86\t87\t88\t89\t90\t91\t92\t93\t94\t95\t96\t97\t98\t99\t100\t"
     ]
    }
   ],
   "source": [
    "## While loop\n",
    "\n",
    "i = 1\n",
    "while i < 101:\n",
    "    print(i, end = \"\\t\")\n",
    "    i+= 1"
   ]
  },
  {
   "cell_type": "markdown",
   "id": "84652230",
   "metadata": {},
   "source": [
    "### Break and Continue\n",
    "- Break: To terminate execution of loop \n",
    "- Continue: skip the current execution of the loop"
   ]
  },
  {
   "cell_type": "code",
   "execution_count": 15,
   "id": "000de0ee",
   "metadata": {},
   "outputs": [
    {
     "name": "stdout",
     "output_type": "stream",
     "text": [
      "1\t2\t3\t4\t5\t6\t7\t8\t9\t10\t11\t12\t13\t14\t15\t16\t17\t18\t19\t20\t21\t22\t23\t24\t25\t26\t27\t28\t29\t30\t31\t32\t33\t34\t35\t36\t37\t38\t39\t40\t41\t42\t43\t44\t45\t46\t47\t48\t49\t"
     ]
    }
   ],
   "source": [
    "# Print numbers between 1 to 100 whenever I reach 50 stop travelling\n",
    "\n",
    "\n",
    "for travel in range(1, 101, 1):\n",
    "    if travel == 50:\n",
    "        break\n",
    "    print(travel,end  = \"\\t\")"
   ]
  },
  {
   "cell_type": "code",
   "execution_count": 17,
   "id": "cd365d1d",
   "metadata": {},
   "outputs": [
    {
     "name": "stdout",
     "output_type": "stream",
     "text": [
      "1\t3\t5\t7\t9\t11\t13\t15\t17\t19\t21\t23\t25\t27\t29\t31\t33\t35\t37\t39\t41\t43\t45\t47\t49\t"
     ]
    }
   ],
   "source": [
    "# Print numbers between 1 to 100 whenever I reach 50 stop travelling\n",
    "\n",
    "\n",
    "for travel in range(1, 101, 1):\n",
    "    if travel == 50:\n",
    "        break\n",
    "    elif travel % 2 == 0:\n",
    "        continue\n",
    "    print(travel,end  = \"\\t\")"
   ]
  },
  {
   "cell_type": "code",
   "execution_count": 18,
   "id": "f6b14ab1",
   "metadata": {},
   "outputs": [
    {
     "name": "stdout",
     "output_type": "stream",
     "text": [
      "1\n",
      "1\n",
      "187\n",
      "187\n",
      "cancel\n",
      "Loop terminated\n"
     ]
    }
   ],
   "source": [
    "while True:\n",
    "    inp = input()\n",
    "    if inp == \"cancel\":\n",
    "        print(\"Loop terminated\")\n",
    "        break\n",
    "    print(inp)"
   ]
  },
  {
   "cell_type": "markdown",
   "id": "96bc8015",
   "metadata": {},
   "source": [
    "### Strings\n",
    "\n",
    "itis a group of data enclosed between \"\",'', \"\"\"\"\"\", '''''' are called strings\n",
    "\n",
    "#### Properties of strings\n",
    "\n",
    "- It is an immutable data type\n",
    "- It is iterable"
   ]
  },
  {
   "cell_type": "code",
   "execution_count": 20,
   "id": "cc5bf071",
   "metadata": {},
   "outputs": [
    {
     "name": "stdout",
     "output_type": "stream",
     "text": [
      "I am a single line string\n",
      "I am also a single line string\n",
      "BTS’ new single, “Butter,” arriving May 21, was announced. The song was described in a press release as a “dance pop track brimming with the smooth yet charismatic charm of BTS.” “Butter” will be the boy band’s second song in English since its hit “Dynamite” was released last summer.\n",
      "i'm a\n",
      "multi-line\n",
      "string\n"
     ]
    }
   ],
   "source": [
    "s = 'I am a single line string'\n",
    "s1 = 'I am also a single line string'\n",
    "s3 = '''BTS’ new single, “Butter,” arriving May 21, was announced. The song was described in a press release as a “dance pop track brimming with the smooth yet charismatic charm of BTS.” “Butter” will be the boy band’s second song in English since its hit “Dynamite” was released last summer.'''\n",
    "s4 = \"\"\"i'm a\n",
    "multi-line\n",
    "string\"\"\"\n",
    "print(s)\n",
    "print(s1)\n",
    "print(s3)\n",
    "print(s4)"
   ]
  },
  {
   "cell_type": "code",
   "execution_count": 22,
   "id": "061da48b",
   "metadata": {},
   "outputs": [
    {
     "name": "stdout",
     "output_type": "stream",
     "text": [
      "<class 'str'>\n"
     ]
    }
   ],
   "source": [
    "print(type(s))"
   ]
  },
  {
   "cell_type": "code",
   "execution_count": 24,
   "id": "2ca54ed5",
   "metadata": {},
   "outputs": [
    {
     "name": "stdout",
     "output_type": "stream",
     "text": [
      "i\t'\tm\t \ta\t\n",
      "\tm\tu\tl\tt\ti\t-\tl\ti\tn\te\t\n",
      "\ts\tt\tr\ti\tn\tg\t"
     ]
    }
   ],
   "source": [
    "for char in s4:\n",
    "    print(char, end = \"\\t\")"
   ]
  },
  {
   "cell_type": "code",
   "execution_count": 25,
   "id": "039afdf1",
   "metadata": {},
   "outputs": [
    {
     "name": "stdout",
     "output_type": "stream",
     "text": [
      "e\ta\te\ti\te\te\ti\to\tu\te\to\ti\te\to\to\to\ta\to\tu\te\ti\ti\ta\ti\to\ta\te\ti\te\te\ta\to\ti\te\te\ti\te\ti\te\ta\to\ta\te\ta\te\te\to\te\te\ta\te\ta\te\te\ta\te\to\ti\te\ta\ta\te\ti\ti\te\ti\ta\te\to\te\ti\to\tu\tu\te\te\ta\ti\to\to\tu\te\ta\to\te\to\ti\ti\ta\te\to\te\te\ti\ta\ti\ti\to\ti\te\te\ta\tu\ti\ta\te\ta\ta\ta\tu\te\ti\te\to\to\te\ti\te\to\te\te\ti\ta\ti\ta\te\to\ta\ta\ti\ti\ti\ta\te\ti\ta\ta\ti\ta\to\to\ta\ta\to\te\ti\te\ti\ta\te\to\ta\te\te\t"
     ]
    }
   ],
   "source": [
    "s = \"\"\"Tesla believed it could be possible to photograph thoughts. The inspiration came while he was doing experiments in 1893, Tesla told a newspaper reporter decades later: “I became convinced that a definite image formed in thought must, by reflex action, produce a corresponding image on the retina, which might possibly be read by suitable apparatus.” The inventor conceived of reflecting an image on an artificial retina, taking a photograph and projecting the image on a screen.\"\"\"\n",
    "for char in s:\n",
    "    if char == 'a' or char == 'e' or char == 'i' or char == 'o' or char == 'u':\n",
    "        print(char , end = \"\\t\")"
   ]
  },
  {
   "cell_type": "code",
   "execution_count": 26,
   "id": "f9085f26",
   "metadata": {},
   "outputs": [
    {
     "name": "stdout",
     "output_type": "stream",
     "text": [
      "e\ta\te\ti\te\te\ti\to\tu\te\to\ti\te\to\to\to\ta\to\tu\te\ti\ti\ta\ti\to\ta\te\ti\te\te\ta\to\ti\te\te\ti\te\ti\te\ta\to\ta\te\ta\te\te\to\te\te\ta\te\ta\te\tI\te\ta\te\to\ti\te\ta\ta\te\ti\ti\te\ti\ta\te\to\te\ti\to\tu\tu\te\te\ta\ti\to\to\tu\te\ta\to\te\to\ti\ti\ta\te\to\te\te\ti\ta\ti\ti\to\ti\te\te\ta\tu\ti\ta\te\ta\ta\ta\tu\te\ti\te\to\to\te\ti\te\to\te\te\ti\ta\ti\ta\te\to\ta\ta\ti\ti\ti\ta\te\ti\ta\ta\ti\ta\to\to\ta\ta\to\te\ti\te\ti\ta\te\to\ta\te\te\t"
     ]
    }
   ],
   "source": [
    "for char in s:\n",
    "    if char in \"aeiouAEIOU\":\n",
    "        print(char, end = \"\\t\")"
   ]
  },
  {
   "cell_type": "code",
   "execution_count": 29,
   "id": "98bbd129",
   "metadata": {},
   "outputs": [
    {
     "name": "stdout",
     "output_type": "stream",
     "text": [
      "Upper: 1 Lower: 154 Consonants: 323\t"
     ]
    }
   ],
   "source": [
    "lo = 0\n",
    "uo = 0\n",
    "c = 0\n",
    "for char in s:\n",
    "    if char in \"aeiou\":\n",
    "        lo += 1\n",
    "    elif char in \"AEIOU\":\n",
    "        uo += 1\n",
    "    else:\n",
    "        c += 1\n",
    "print(\"Upper:\",uo,\"Lower:\", lo,\"Consonants:\",c,end = \"\\t\")"
   ]
  },
  {
   "cell_type": "markdown",
   "id": "a0ce043d",
   "metadata": {},
   "source": [
    "### Accessing the character\n",
    "\n"
   ]
  },
  {
   "cell_type": "code",
   "execution_count": 30,
   "id": "2daf93bd",
   "metadata": {},
   "outputs": [
    {
     "name": "stdout",
     "output_type": "stream",
     "text": [
      "T\n"
     ]
    }
   ],
   "source": [
    "print(s[0])"
   ]
  },
  {
   "cell_type": "code",
   "execution_count": 31,
   "id": "3e3c4ba6",
   "metadata": {},
   "outputs": [
    {
     "name": "stdout",
     "output_type": "stream",
     "text": [
      ".\n"
     ]
    }
   ],
   "source": [
    "print(s[-1])"
   ]
  },
  {
   "cell_type": "code",
   "execution_count": 1,
   "id": "b3c0845c",
   "metadata": {},
   "outputs": [
    {
     "ename": "NameError",
     "evalue": "name 's' is not defined",
     "output_type": "error",
     "traceback": [
      "\u001b[1;31m---------------------------------------------------------------------------\u001b[0m",
      "\u001b[1;31mNameError\u001b[0m                                 Traceback (most recent call last)",
      "\u001b[1;32m<ipython-input-1-54033b37705e>\u001b[0m in \u001b[0;36m<module>\u001b[1;34m\u001b[0m\n\u001b[1;32m----> 1\u001b[1;33m \u001b[0mprint\u001b[0m\u001b[1;33m(\u001b[0m\u001b[0ms\u001b[0m\u001b[1;33m[\u001b[0m\u001b[1;33m-\u001b[0m\u001b[1;36m5\u001b[0m\u001b[1;33m]\u001b[0m\u001b[1;33m)\u001b[0m\u001b[1;33m\u001b[0m\u001b[1;33m\u001b[0m\u001b[0m\n\u001b[0m",
      "\u001b[1;31mNameError\u001b[0m: name 's' is not defined"
     ]
    }
   ],
   "source": [
    "print(s[-5])"
   ]
  },
  {
   "cell_type": "code",
   "execution_count": 3,
   "id": "0f8a2854",
   "metadata": {},
   "outputs": [
    {
     "name": "stdout",
     "output_type": "stream",
     "text": [
      "478\n"
     ]
    }
   ],
   "source": [
    "s = \"\"\"Tesla believed it could be possible to photograph thoughts. The inspiration came while he was doing experiments in 1893, Tesla told a newspaper reporter decades later: “I became convinced that a definite image formed in thought must, by reflex action, produce a corresponding image on the retina, which might possibly be read by suitable apparatus.” The inventor conceived of reflecting an image on an artificial retina, taking a photograph and projecting the image on a screen.\"\"\"\n",
    "print(len(s))"
   ]
  },
  {
   "cell_type": "markdown",
   "id": "dada5d15",
   "metadata": {},
   "source": [
    "### String Slicing\n",
    "\n",
    "#### Syntax\n",
    "\n",
    "- string_var[startingIndex: endingIndex]"
   ]
  },
  {
   "cell_type": "code",
   "execution_count": 5,
   "id": "3e7f8aa9",
   "metadata": {},
   "outputs": [
    {
     "name": "stdout",
     "output_type": "stream",
     "text": [
      "Tesla \n"
     ]
    }
   ],
   "source": [
    "print(s[0:6])"
   ]
  },
  {
   "cell_type": "code",
   "execution_count": 6,
   "id": "c185634d",
   "metadata": {},
   "outputs": [
    {
     "name": "stdout",
     "output_type": "stream",
     "text": [
      "Tesla believed it could be possible to photograph thoughts. The inspiration came while he was doing \n"
     ]
    }
   ],
   "source": [
    "print(s[0:100])"
   ]
  },
  {
   "cell_type": "code",
   "execution_count": 7,
   "id": "fb7c7115",
   "metadata": {},
   "outputs": [
    {
     "name": "stdout",
     "output_type": "stream",
     "text": [
      "flecting an image on an artificial retina, taking a photograph and projecting the image on a screen.\n"
     ]
    }
   ],
   "source": [
    "print(s[-100: ])"
   ]
  },
  {
   "cell_type": "code",
   "execution_count": 9,
   "id": "80d9700b",
   "metadata": {},
   "outputs": [
    {
     "name": "stdout",
     "output_type": "stream",
     "text": [
      "Tsablee tcudb osbet htgahtogt.Teisiaincm hl ewsdig\n"
     ]
    }
   ],
   "source": [
    "print(s[0: 100: 2])"
   ]
  },
  {
   "cell_type": "code",
   "execution_count": 10,
   "id": "4cd1afe1",
   "metadata": {},
   "outputs": [
    {
     "name": "stdout",
     "output_type": "stream",
     "text": [
      "eved it could be possible to photograph thoughts. The inspiration came while he was doing experiments in 1893, Tesla told a newspaper reporter decades later: “I became convinced that a definite image formed in thought must, by reflex action, produce a corresponding image on the retina, which might possibly be read by suitable apparatus.” The inventor conceived of reflecting an image on an artificial retina, taking a photograph and projecting the image on a scree\n"
     ]
    }
   ],
   "source": [
    "print(s[10:-2])"
   ]
  },
  {
   "cell_type": "code",
   "execution_count": 12,
   "id": "2ba732e8",
   "metadata": {},
   "outputs": [
    {
     "name": "stdout",
     "output_type": "stream",
     "text": [
      ".neercs a no egami eht gnitcejorp dna hpargotohp a gnikat ,aniter laicifitra na no egami na gnitcelfer fo deviecnoc rotnevni ehT ”.sutarappa elbatius yb daer eb ylbissop thgim hcihw ,aniter eht no egami gnidnopserroc a ecudorp ,noitca xelfer yb ,tsum thguoht ni demrof egami etinifed a taht decnivnoc emaceb I“ :retal sedaced retroper repapswen a dlot alseT ,3981 ni stnemirepxe gniod saw eh elihw emac noitaripsni ehT .sthguoht hpargotohp ot elbissop eb dluoc ti deveileb alseT\n"
     ]
    }
   ],
   "source": [
    "print(s[ : : -1])"
   ]
  },
  {
   "cell_type": "code",
   "execution_count": 13,
   "id": "920078ec",
   "metadata": {},
   "outputs": [
    {
     "name": "stdout",
     "output_type": "stream",
     "text": [
      ".ersan gm h nteopdahagth  nkt,ntrliiir an gm agicle odvencrten h .uaap laisy are lisptgmhiw,ntretn gm ndosro  cdr nic efry tu huh idmo gm tnfdath envo mcbI rtlsdcdrtoe ease  ltasT,91n teiex no a heiwea otrpn h shuh proopo lispe lo idvie le\n"
     ]
    }
   ],
   "source": [
    "print(s[ : : -2])"
   ]
  },
  {
   "cell_type": "markdown",
   "id": "f96d69ed",
   "metadata": {},
   "source": [
    "## String Methods"
   ]
  },
  {
   "cell_type": "code",
   "execution_count": 14,
   "id": "335d9186",
   "metadata": {},
   "outputs": [
    {
     "name": "stdout",
     "output_type": "stream",
     "text": [
      "SANJANA\n"
     ]
    }
   ],
   "source": [
    "s = \"sanjana\"\n",
    "print(s.upper())"
   ]
  },
  {
   "cell_type": "code",
   "execution_count": 15,
   "id": "438bef17",
   "metadata": {},
   "outputs": [
    {
     "name": "stdout",
     "output_type": "stream",
     "text": [
      "sanjana\n",
      "sanjana\n"
     ]
    }
   ],
   "source": [
    "print(s)\n",
    "print(s.lower())"
   ]
  },
  {
   "cell_type": "code",
   "execution_count": 16,
   "id": "9de3b51e",
   "metadata": {},
   "outputs": [
    {
     "name": "stdout",
     "output_type": "stream",
     "text": [
      "sANJANA\n"
     ]
    }
   ],
   "source": [
    "s = \"Sanjana\"\n",
    "print(s.swapcase())"
   ]
  },
  {
   "cell_type": "code",
   "execution_count": 18,
   "id": "d4560d4a",
   "metadata": {},
   "outputs": [
    {
     "name": "stdout",
     "output_type": "stream",
     "text": [
      "True\n",
      "False\n",
      "True\n"
     ]
    }
   ],
   "source": [
    "s1 = \"ASDFG\"\n",
    "s2 = \"asdfg\"\n",
    "s3 = \"999988876543\"\n",
    "print(s2.islower())\n",
    "print(s2.isupper())\n",
    "print(s3.isdigit())"
   ]
  },
  {
   "cell_type": "markdown",
   "id": "6ffc5ebc",
   "metadata": {},
   "source": [
    "## Validating Indian mobile numbers\n",
    "\n",
    "- +91\n",
    "- 10 digit\n",
    "- begins with 9,8,7,6"
   ]
  },
  {
   "cell_type": "code",
   "execution_count": 22,
   "id": "345637c4",
   "metadata": {},
   "outputs": [
    {
     "name": "stdout",
     "output_type": "stream",
     "text": [
      "+919876543210 is a valid indian mobile number\n"
     ]
    }
   ],
   "source": [
    "n1 = \"+919876543210\" \n",
    "# n1 = \"98766543321\"\n",
    "# n1 = \"+9123456789\"\n",
    "# n1 = \"+5678904321\"\n",
    "\n",
    "if n1[0] == \"+\":\n",
    "    if n1[1:3] == \"91\" and len(n1[3: ]) == 10 and n1[3] in \"9876\" :\n",
    "        print(n1 , \"is a valid indian mobile number\")\n",
    "    else:\n",
    "        print(n1 , \"is not valid indian mobile number\")\n",
    "elif len(n1) == 10 and n1[0] in \"9876\" :\n",
    "    print(n1 , \"is a valid indian mobile number\")\n",
    "else:\n",
    "    print(n1 , \"is not valid indian mobile number\")"
   ]
  },
  {
   "cell_type": "code",
   "execution_count": 24,
   "id": "8d69293e",
   "metadata": {},
   "outputs": [
    {
     "name": "stdout",
     "output_type": "stream",
     "text": [
      "9876654332 is a valid indian mobile number\n"
     ]
    }
   ],
   "source": [
    "# n1 = \"+919876543210\" \n",
    "n1 = \"9876654332\"\n",
    "# n1 = \"+9123456789\"\n",
    "# n1 = \"+5678904321\"\n",
    "\n",
    "if n1[0] == \"+\":\n",
    "    if n1[1:3] == \"91\" and len(n1[3: ]) == 10 and n1[3] in \"9876\" :\n",
    "        print(n1 , \"is a valid indian mobile number\")\n",
    "    else:\n",
    "        print(n1 , \"is not valid indian mobile number\")\n",
    "elif len(n1) == 10 and n1[0] in \"9876\" :\n",
    "    print(n1 , \"is a valid indian mobile number\")\n",
    "else:\n",
    "    print(n1 , \"is not valid indian mobile number\")"
   ]
  },
  {
   "cell_type": "code",
   "execution_count": 25,
   "id": "9878983e",
   "metadata": {},
   "outputs": [
    {
     "name": "stdout",
     "output_type": "stream",
     "text": [
      "+9123456789 is not valid indian mobile number\n"
     ]
    }
   ],
   "source": [
    "# n1 = \"+919876543210\" \n",
    "# n1 = \"9876543321\"\n",
    "n1 = \"+9123456789\"\n",
    "# n1 = \"+5678904321\"\n",
    "\n",
    "if n1[0] == \"+\":\n",
    "    if n1[1:3] == \"91\" and len(n1[3: ]) == 10 and n1[3] in \"9876\" :\n",
    "        print(n1 , \"is a valid indian mobile number\")\n",
    "    else:\n",
    "        print(n1 , \"is not valid indian mobile number\")\n",
    "elif len(n1) == 10 and n1[0] in \"9876\" :\n",
    "    print(n1 , \"is a valid indian mobile number\")\n",
    "else:\n",
    "    print(n1 , \"is not valid indian mobile number\")"
   ]
  },
  {
   "cell_type": "code",
   "execution_count": 26,
   "id": "16796dc9",
   "metadata": {},
   "outputs": [
    {
     "name": "stdout",
     "output_type": "stream",
     "text": [
      "+5678904321 is not valid indian mobile number\n"
     ]
    }
   ],
   "source": [
    "# n1 = \"+919876543210\" \n",
    "# n1 = \"98766543321\"\n",
    "# n1 = \"+9123456789\"\n",
    "n1 = \"+5678904321\"\n",
    "\n",
    "if n1[0] == \"+\":\n",
    "    if n1[1:3] == \"91\" and len(n1[3: ]) == 10 and n1[3] in \"9876\" :\n",
    "        print(n1 , \"is a valid indian mobile number\")\n",
    "    else:\n",
    "        print(n1 , \"is not valid indian mobile number\")\n",
    "elif len(n1) == 10 and n1[0] in \"9876\" :\n",
    "    print(n1 , \"is a valid indian mobile number\")\n",
    "else:\n",
    "    print(n1 , \"is not valid indian mobile number\")"
   ]
  },
  {
   "cell_type": "code",
   "execution_count": 28,
   "id": "22ff951c",
   "metadata": {},
   "outputs": [
    {
     "name": "stdout",
     "output_type": "stream",
     "text": [
      "True\n"
     ]
    }
   ],
   "source": [
    "roll = \"18021A0518\"\n",
    "print(roll.startswith(\"18\"))"
   ]
  },
  {
   "cell_type": "code",
   "execution_count": 30,
   "id": "c85b3d91",
   "metadata": {},
   "outputs": [
    {
     "name": "stdout",
     "output_type": "stream",
     "text": [
      "True\n"
     ]
    }
   ],
   "source": [
    "email = \"sanjana@gmail.com\"\n",
    "email1 = \"sanju@gmail.com\"\n",
    "print(email.startswith(\"sanj\"))"
   ]
  },
  {
   "cell_type": "code",
   "execution_count": 31,
   "id": "8c1ac436",
   "metadata": {},
   "outputs": [
    {
     "name": "stdout",
     "output_type": "stream",
     "text": [
      "7\n"
     ]
    }
   ],
   "source": [
    "## getting index of @\n",
    "print(email.index(\"@\"))"
   ]
  },
  {
   "cell_type": "code",
   "execution_count": 33,
   "id": "65a7d846",
   "metadata": {},
   "outputs": [
    {
     "name": "stdout",
     "output_type": "stream",
     "text": [
      "sanjana\n"
     ]
    }
   ],
   "source": [
    "## printing the user name of email id\n",
    "print(email[0: email.index(\"@\")])"
   ]
  },
  {
   "cell_type": "code",
   "execution_count": 34,
   "id": "f04a9426",
   "metadata": {},
   "outputs": [
    {
     "name": "stdout",
     "output_type": "stream",
     "text": [
      "Help on method_descriptor:\n",
      "\n",
      "index(...)\n",
      "    S.index(sub[, start[, end]]) -> int\n",
      "    \n",
      "    Return the lowest index in S where substring sub is found,\n",
      "    such that sub is contained within S[start:end].  Optional\n",
      "    arguments start and end are interpreted as in slice notation.\n",
      "    \n",
      "    Raises ValueError when the substring is not found.\n",
      "\n"
     ]
    }
   ],
   "source": [
    "help(str.index)"
   ]
  },
  {
   "cell_type": "code",
   "execution_count": 35,
   "id": "3f00676c",
   "metadata": {},
   "outputs": [
    {
     "name": "stdout",
     "output_type": "stream",
     "text": [
      "gmail\n"
     ]
    }
   ],
   "source": [
    "print(email[email.index(\"@\")+1 : email.index(\".\")])"
   ]
  },
  {
   "cell_type": "code",
   "execution_count": 36,
   "id": "468b8ac8",
   "metadata": {},
   "outputs": [
    {
     "name": "stdout",
     "output_type": "stream",
     "text": [
      "4\n"
     ]
    }
   ],
   "source": [
    "print(email.count(\"a\"))"
   ]
  },
  {
   "cell_type": "code",
   "execution_count": 37,
   "id": "bf96d776",
   "metadata": {},
   "outputs": [
    {
     "name": "stdout",
     "output_type": "stream",
     "text": [
      "Sanjana Chidipothu         Sanjana Chidipothu Sanjana Chidipothu\n"
     ]
    }
   ],
   "source": [
    "s = \"    Sanjana Chidipothu    \"\n",
    "print(s.lstrip(), s.rstrip(), s.strip())"
   ]
  },
  {
   "cell_type": "code",
   "execution_count": 39,
   "id": "22ecfef7",
   "metadata": {},
   "outputs": [
    {
     "name": "stdout",
     "output_type": "stream",
     "text": [
      "Sanjana))))))))))) (((((((((((Sanjana Sanjana\n"
     ]
    }
   ],
   "source": [
    "s = \"(((((((((((Sanjana)))))))))))\"\n",
    "print(s.lstrip(\"(\"), s.rstrip(\")\"), s.strip(\"()\"))"
   ]
  },
  {
   "cell_type": "code",
   "execution_count": 40,
   "id": "c1c8b501",
   "metadata": {},
   "outputs": [
    {
     "name": "stdout",
     "output_type": "stream",
     "text": [
      "Sanjana\n"
     ]
    }
   ],
   "source": [
    "s = \"{{{{{{{{{{{{(((((((((((Sanjana)))))))))))}}}}}}}}}}}}\"\n",
    "print(s.strip(\"{()}\"))"
   ]
  },
  {
   "cell_type": "code",
   "execution_count": 43,
   "id": "43fa8f65",
   "metadata": {},
   "outputs": [
    {
     "name": "stdout",
     "output_type": "stream",
     "text": [
      "Python is an interpreted high-level general-purpose programming language. Python's design philosophy emphasizes code readability with its notable use of significant indentation. Its language constructs as well as its object-oriented approach aim to help programmers write clear, logical code for small and large-scale projects\n"
     ]
    }
   ],
   "source": [
    "s1 = '''Python is an interpreted high-level general-purpose programming language. Python's design philosophy emphasizes code readability with its notable use of significant indentation. Its language constructs as well as its object-oriented approach aim to help programmers write clear, logical code for small and large-scale projects.'''\n",
    "print(s1.strip(\" .\"))"
   ]
  },
  {
   "cell_type": "code",
   "execution_count": 44,
   "id": "2cc9223b",
   "metadata": {},
   "outputs": [
    {
     "data": {
      "text/plain": [
       "\"P.y.t.h.o.n. .i.s. .a.n. .i.n.t.e.r.p.r.e.t.e.d. .h.i.g.h.-.l.e.v.e.l. .g.e.n.e.r.a.l.-.p.u.r.p.o.s.e. .p.r.o.g.r.a.m.m.i.n.g. .l.a.n.g.u.a.g.e... .P.y.t.h.o.n.'.s. .d.e.s.i.g.n. .p.h.i.l.o.s.o.p.h.y. .e.m.p.h.a.s.i.z.e.s. .c.o.d.e. .r.e.a.d.a.b.i.l.i.t.y. .w.i.t.h. .i.t.s. .n.o.t.a.b.l.e. .u.s.e. .o.f. .s.i.g.n.i.f.i.c.a.n.t. .i.n.d.e.n.t.a.t.i.o.n... .I.t.s. .l.a.n.g.u.a.g.e. .c.o.n.s.t.r.u.c.t.s. .a.s. .w.e.l.l. .a.s. .i.t.s. .o.b.j.e.c.t.-.o.r.i.e.n.t.e.d. .a.p.p.r.o.a.c.h. .a.i.m. .t.o. .h.e.l.p. .p.r.o.g.r.a.m.m.e.r.s. .w.r.i.t.e. .c.l.e.a.r.,. .l.o.g.i.c.a.l. .c.o.d.e. .f.o.r. .s.m.a.l.l. .a.n.d. .l.a.r.g.e.-.s.c.a.l.e. .p.r.o.j.e.c.t.s\""
      ]
     },
     "execution_count": 44,
     "metadata": {},
     "output_type": "execute_result"
    }
   ],
   "source": [
    "s2 = s1.strip(\".\")\n",
    "\".\".join(s2)"
   ]
  },
  {
   "cell_type": "code",
   "execution_count": 46,
   "id": "dbe52d57",
   "metadata": {},
   "outputs": [
    {
     "name": "stdout",
     "output_type": "stream",
     "text": [
      "Python-is-an-interpreted-high-level-general-purpose-programming-language.-Python's-design-philosophy-emphasizes-code-readability-with-its-notable-use-of-significant-indentation.-Its-language-constructs-as-well-as-its-object-oriented-approach-aim-to-help-programmers-write-clear,-logical-code-for-small-and-large-scale-projects.\n"
     ]
    }
   ],
   "source": [
    "print(s1.replace(\" \",\"-\"))"
   ]
  },
  {
   "cell_type": "code",
   "execution_count": 47,
   "id": "92e698fc",
   "metadata": {},
   "outputs": [
    {
     "name": "stdout",
     "output_type": "stream",
     "text": [
      "Python Is An Interpreted High-Level General-Purpose Programming Language. Python'S Design Philosophy Emphasizes Code Readability With Its Notable Use Of Significant Indentation. Its Language Constructs As Well As Its Object-Oriented Approach Aim To Help Programmers Write Clear, Logical Code For Small And Large-Scale Projects.\n"
     ]
    }
   ],
   "source": [
    "## First character of each word is upper case by using title method\n",
    "print(s1.title())"
   ]
  },
  {
   "cell_type": "code",
   "execution_count": 48,
   "id": "d35b3cc6",
   "metadata": {},
   "outputs": [
    {
     "name": "stdout",
     "output_type": "stream",
     "text": [
      "False\n"
     ]
    }
   ],
   "source": [
    "print(s1.istitle())"
   ]
  },
  {
   "cell_type": "code",
   "execution_count": 49,
   "id": "cc1be828",
   "metadata": {},
   "outputs": [
    {
     "name": "stdout",
     "output_type": "stream",
     "text": [
      "python is an interpreted high-level general-purpose programming language. python's design philosophy emphasizes code readability with its notable use of significant indentation. its language constructs as well as its object-oriented approach aim to help programmers write clear, logical code for small and large-scale projects.\n"
     ]
    }
   ],
   "source": [
    "print(s1.lower())"
   ]
  },
  {
   "cell_type": "code",
   "execution_count": 50,
   "id": "30c90d9b",
   "metadata": {},
   "outputs": [
    {
     "name": "stdout",
     "output_type": "stream",
     "text": [
      "python is an interpreted high-level general-purpose programming language. python's design philosophy emphasizes code readability with its notable use of significant indentation. its language constructs as well as its object-oriented approach aim to help programmers write clear, logical code for small and large-scale projects.\n"
     ]
    }
   ],
   "source": [
    "print(s1.casefold())"
   ]
  },
  {
   "cell_type": "code",
   "execution_count": 53,
   "id": "797a46ff",
   "metadata": {},
   "outputs": [
    {
     "name": "stdout",
     "output_type": "stream",
     "text": [
      "Python is an interpreted high-level general-purpose programming language. python's design philosophy emphasizes code readability with its notable use of significant indentation. its language constructs as well as its object-oriented approach aim to help programmers write clear, logical code for small and large-scale projects.\n"
     ]
    }
   ],
   "source": [
    "print(s1.capitalize())"
   ]
  },
  {
   "cell_type": "code",
   "execution_count": 54,
   "id": "1600fd1c",
   "metadata": {},
   "outputs": [
    {
     "name": "stdout",
     "output_type": "stream",
     "text": [
      "True\n"
     ]
    }
   ],
   "source": [
    "s = \"Python Programming\"\n",
    "print(s.istitle())"
   ]
  },
  {
   "cell_type": "code",
   "execution_count": 57,
   "id": "91716fb1",
   "metadata": {},
   "outputs": [
    {
     "name": "stdout",
     "output_type": "stream",
     "text": [
      "This is to certify that Sanjana from jntu, on Program, from 01-june.\n"
     ]
    }
   ],
   "source": [
    "certificate = \"This is to certify that {} from {}, on Program, from {}.\".format(\"Sanjana\", \"jntu\",\"01-june\")\n",
    "print(certificate)"
   ]
  },
  {
   "cell_type": "code",
   "execution_count": 58,
   "id": "cc6382b0",
   "metadata": {},
   "outputs": [
    {
     "name": "stdout",
     "output_type": "stream",
     "text": [
      "This is to certify that Sanjana from jntu, on Program, from 01-june.\n"
     ]
    }
   ],
   "source": [
    "certificate = \"This is to certify that {0} from {1}, on Program, from {2}.\".format(\"Sanjana\", \"jntu\",\"01-june\")\n",
    "print(certificate)"
   ]
  },
  {
   "cell_type": "code",
   "execution_count": 60,
   "id": "5db2fbdf",
   "metadata": {},
   "outputs": [
    {
     "name": "stdout",
     "output_type": "stream",
     "text": [
      "True\n",
      "True\n"
     ]
    }
   ],
   "source": [
    "s = \"asdf\"\n",
    "s3 = \"1234\"\n",
    "print(s.isalpha())\n",
    "print(s3.isalnum())"
   ]
  },
  {
   "cell_type": "code",
   "execution_count": 63,
   "id": "a24b4be5",
   "metadata": {},
   "outputs": [
    {
     "name": "stdout",
     "output_type": "stream",
     "text": [
      "P\ty\tt\th\to\tn\t \ti\ts\t \ta\tn\t \ti\tn\tt\te\tr\tp\tr\te\tt\te\td\t \th\ti\tg\th\t-\tl\te\tv\te\tl\t \tg\te\tn\te\tr\ta\tl\t-\tp\tu\tr\tp\to\ts\te\t \tp\tr\to\tg\tr\ta\tm\tm\ti\tn\tg\t \tl\ta\tn\tg\tu\ta\tg\te\t.\t \tP\ty\tt\th\to\tn\t'\ts\t \td\te\ts\ti\tg\tn\t \tp\th\ti\tl\to\ts\to\tp\th\ty\t \te\tm\tp\th\ta\ts\ti\tz\te\ts\t \tc\to\td\te\t \tr\te\ta\td\ta\tb\ti\tl\ti\tt\ty\t \tw\ti\tt\th\t \ti\tt\ts\t \tn\to\tt\ta\tb\tl\te\t \tu\ts\te\t \to\tf\t \ts\ti\tg\tn\ti\tf\ti\tc\ta\tn\tt\t \ti\tn\td\te\tn\tt\ta\tt\ti\to\tn\t.\t \tI\tt\ts\t \tl\ta\tn\tg\tu\ta\tg\te\t \tc\to\tn\ts\tt\tr\tu\tc\tt\ts\t \ta\ts\t \tw\te\tl\tl\t \ta\ts\t \ti\tt\ts\t \to\tb\tj\te\tc\tt\t-\to\tr\ti\te\tn\tt\te\td\t \ta\tp\tp\tr\to\ta\tc\th\t \ta\ti\tm\t \tt\to\t \th\te\tl\tp\t \tp\tr\to\tg\tr\ta\tm\tm\te\tr\ts\t \tw\tr\ti\tt\te\t \tc\tl\te\ta\tr\t,\t \tl\to\tg\ti\tc\ta\tl\t \tc\to\td\te\t \tf\to\tr\t \ts\tm\ta\tl\tl\t \ta\tn\td\t \tl\ta\tr\tg\te\t-\ts\tc\ta\tl\te\t \tp\tr\to\tj\te\tc\tt\ts\t.\t"
     ]
    }
   ],
   "source": [
    "for char in s1:\n",
    "    print(char, end = '\\t')"
   ]
  },
  {
   "cell_type": "code",
   "execution_count": 66,
   "id": "dd224bc5",
   "metadata": {},
   "outputs": [
    {
     "name": "stdout",
     "output_type": "stream",
     "text": [
      "P\ty\tt\th\to\tn\ti\ts\ta\tn\ti\tn\tt\te\tr\tp\tr\te\tt\te\td\th\ti\tg\th\tl\te\tv\te\tl\tg\te\tn\te\tr\ta\tl\tp\tu\tr\tp\to\ts\te\tp\tr\to\tg\tr\ta\tm\tm\ti\tn\tg\tl\ta\tn\tg\tu\ta\tg\te\tP\ty\tt\th\to\tn\ts\td\te\ts\ti\tg\tn\tp\th\ti\tl\to\ts\to\tp\th\ty\te\tm\tp\th\ta\ts\ti\tz\te\ts\tc\to\td\te\tr\te\ta\td\ta\tb\ti\tl\ti\tt\ty\tw\ti\tt\th\ti\tt\ts\tn\to\tt\ta\tb\tl\te\tu\ts\te\to\tf\ts\ti\tg\tn\ti\tf\ti\tc\ta\tn\tt\ti\tn\td\te\tn\tt\ta\tt\ti\to\tn\tI\tt\ts\tl\ta\tn\tg\tu\ta\tg\te\tc\to\tn\ts\tt\tr\tu\tc\tt\ts\ta\ts\tw\te\tl\tl\ta\ts\ti\tt\ts\to\tb\tj\te\tc\tt\to\tr\ti\te\tn\tt\te\td\ta\tp\tp\tr\to\ta\tc\th\ta\ti\tm\tt\to\th\te\tl\tp\tp\tr\to\tg\tr\ta\tm\tm\te\tr\ts\tw\tr\ti\tt\te\tc\tl\te\ta\tr\tl\to\tg\ti\tc\ta\tl\tc\to\td\te\tf\to\tr\ts\tm\ta\tl\tl\ta\tn\td\tl\ta\tr\tg\te\ts\tc\ta\tl\te\tp\tr\to\tj\te\tc\tt\ts\t"
     ]
    }
   ],
   "source": [
    "for char in s1:\n",
    "    if char.isalpha():\n",
    "        print(char, end = '\\t')"
   ]
  },
  {
   "cell_type": "code",
   "execution_count": 67,
   "id": "0c2a0228",
   "metadata": {},
   "outputs": [
    {
     "name": "stdout",
     "output_type": "stream",
     "text": [
      "o\ti\ta\ti\te\te\te\ti\te\te\te\te\ta\tu\to\te\to\ta\ti\ta\tu\ta\te\to\te\ti\ti\to\to\te\ta\ti\te\to\te\te\ta\ta\ti\ti\ti\ti\to\ta\te\tu\te\to\ti\ti\ti\ta\ti\te\ta\ti\to\tI\ta\tu\ta\te\to\tu\ta\te\ta\ti\to\te\to\ti\te\te\ta\to\ta\ta\ti\to\te\to\ta\te\ti\te\te\ta\to\ti\ta\to\te\to\ta\ta\ta\te\ta\te\to\te\t"
     ]
    }
   ],
   "source": [
    "for char in s1:\n",
    "    if char in 'AEIOUaeiou':\n",
    "        print(char, end = '\\t')"
   ]
  },
  {
   "cell_type": "code",
   "execution_count": 68,
   "id": "95697849",
   "metadata": {},
   "outputs": [
    {
     "name": "stdout",
     "output_type": "stream",
     "text": [
      "P\ty\tt\th\tn\t \ts\t \tn\t \tn\tt\tr\tp\tr\tt\td\t \th\tg\th\t-\tl\tv\tl\t \tg\tn\tr\tl\t-\tp\tr\tp\ts\t \tp\tr\tg\tr\tm\tm\tn\tg\t \tl\tn\tg\tg\t.\t \tP\ty\tt\th\tn\t'\ts\t \td\ts\tg\tn\t \tp\th\tl\ts\tp\th\ty\t \tm\tp\th\ts\tz\ts\t \tc\td\t \tr\td\tb\tl\tt\ty\t \tw\tt\th\t \tt\ts\t \tn\tt\tb\tl\t \ts\t \tf\t \ts\tg\tn\tf\tc\tn\tt\t \tn\td\tn\tt\tt\tn\t.\t \tt\ts\t \tl\tn\tg\tg\t \tc\tn\ts\tt\tr\tc\tt\ts\t \ts\t \tw\tl\tl\t \ts\t \tt\ts\t \tb\tj\tc\tt\t-\tr\tn\tt\td\t \tp\tp\tr\tc\th\t \tm\t \tt\t \th\tl\tp\t \tp\tr\tg\tr\tm\tm\tr\ts\t \tw\tr\tt\t \tc\tl\tr\t,\t \tl\tg\tc\tl\t \tc\td\t \tf\tr\t \ts\tm\tl\tl\t \tn\td\t \tl\tr\tg\t-\ts\tc\tl\t \tp\tr\tj\tc\tt\ts\t.\t"
     ]
    }
   ],
   "source": [
    "for char in s1:\n",
    "    if char not in 'AEIOUaeiou':\n",
    "        print(char, end = '\\t')"
   ]
  },
  {
   "cell_type": "code",
   "execution_count": 69,
   "id": "b08f3c7e",
   "metadata": {},
   "outputs": [
    {
     "name": "stdout",
     "output_type": "stream",
     "text": [
      "Alpha:  276 Number:  0 Special Char:  51\t"
     ]
    }
   ],
   "source": [
    "ac = 0\n",
    "nc = 0\n",
    "sc = 0\n",
    "for char in s1:\n",
    "    if char.isalpha():\n",
    "        ac += 1\n",
    "    elif char.isdigit():\n",
    "        nc += 1\n",
    "    else:\n",
    "        sc += 1\n",
    "print(\"Alpha: \",ac,\"Number: \",nc,\"Special Char: \",sc,end = \"\\t\")"
   ]
  },
  {
   "cell_type": "markdown",
   "id": "325fc3f9",
   "metadata": {},
   "source": [
    "## problems\n",
    "\n",
    "- Sum of digits in the string\n",
    "- Sum of even digits and odd digits in string\n"
   ]
  },
  {
   "cell_type": "markdown",
   "id": "fa3ce061",
   "metadata": {},
   "source": [
    "###  Lists\n",
    "\n",
    "- It is used to store the non-homogeneous group of valid datatypes in python\n",
    "\n",
    "#### Properties\n",
    "\n",
    "- It is declared as []\n",
    "- List is a mutable datatype\n",
    "- List is an ordered data\n",
    "- It is iterable"
   ]
  },
  {
   "cell_type": "code",
   "execution_count": 70,
   "id": "02f3f0c7",
   "metadata": {},
   "outputs": [
    {
     "name": "stdout",
     "output_type": "stream",
     "text": [
      "<class 'list'> <class 'list'>\n"
     ]
    }
   ],
   "source": [
    "l1 = []\n",
    "l2 = list()\n",
    "print(type(l1), type(l2))"
   ]
  },
  {
   "cell_type": "code",
   "execution_count": 71,
   "id": "208995ff",
   "metadata": {},
   "outputs": [
    {
     "name": "stdout",
     "output_type": "stream",
     "text": [
      "[1, 2.3, (5+6j), 'Python', [1, 2, 3]]\n"
     ]
    }
   ],
   "source": [
    "l1 = [1,2.3, 5+6j, \"Python\", [1,2,3]]\n",
    "print(l1)"
   ]
  },
  {
   "cell_type": "code",
   "execution_count": 78,
   "id": "cac52699",
   "metadata": {},
   "outputs": [
    {
     "name": "stdout",
     "output_type": "stream",
     "text": [
      "0202022\n"
     ]
    }
   ],
   "source": [
    "## Sum of digits in a string\n",
    "\n",
    "\n",
    "s = \"Hai I'm Sanjana and I'm 20 years old. I'll get graduated by 2022\"\n",
    "s2 = \"0\"\n",
    "for char in s:\n",
    "    if char.isdigit():\n",
    "        s2 += char\n",
    "print(s2)"
   ]
  },
  {
   "cell_type": "code",
   "execution_count": null,
   "id": "530167f6",
   "metadata": {},
   "outputs": [],
   "source": []
  }
 ],
 "metadata": {
  "kernelspec": {
   "display_name": "Python 3",
   "language": "python",
   "name": "python3"
  },
  "language_info": {
   "codemirror_mode": {
    "name": "ipython",
    "version": 3
   },
   "file_extension": ".py",
   "mimetype": "text/x-python",
   "name": "python",
   "nbconvert_exporter": "python",
   "pygments_lexer": "ipython3",
   "version": "3.8.8"
  }
 },
 "nbformat": 4,
 "nbformat_minor": 5
}
