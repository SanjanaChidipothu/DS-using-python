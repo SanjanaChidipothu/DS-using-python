{
 "cells": [
  {
   "cell_type": "markdown",
   "id": "93d5c7d9",
   "metadata": {},
   "source": [
    "# Topics\n",
    "\n",
    "\n",
    "- Dictionaries\n",
    "    - Accessing elements\n",
    "    - Dictionary methods\n",
    "- Sets\n",
    "    - Set methods\n",
    "    - We cannot access set elements by indexing or slicing because it is an unordered data collection."
   ]
  },
  {
   "cell_type": "markdown",
   "id": "ec07b586",
   "metadata": {},
   "source": [
    "## Dictionaries\n",
    "\n",
    "- It is used to stire non-homogeneous group of data in the form of key: value\n",
    "\n",
    "## Properties\n",
    "\n",
    "- It is used to store data as  K:V in {}\n",
    "- It is iterable\n",
    "- Ordered\n",
    "    - Python 3.6 is unordered\n",
    "    - Python 3.6+ is ordered\n",
    "- Key should be unique and immutable\n",
    "- Value can be anything"
   ]
  },
  {
   "cell_type": "code",
   "execution_count": 1,
   "id": "1f229902",
   "metadata": {},
   "outputs": [
    {
     "name": "stdout",
     "output_type": "stream",
     "text": [
      "<class 'dict'>\n",
      "<class 'dict'>\n"
     ]
    }
   ],
   "source": [
    "d1 = {}\n",
    "d2 = dict()\n",
    "\n",
    "print(type(d1))\n",
    "print(type(d2))"
   ]
  },
  {
   "cell_type": "code",
   "execution_count": 2,
   "id": "70ea2108",
   "metadata": {},
   "outputs": [
    {
     "name": "stdout",
     "output_type": "stream",
     "text": [
      "{'Roll no': [1, 2, 3, 4, 5, 6]}\n"
     ]
    }
   ],
   "source": [
    "d1 = {\"Roll no\": [1,2,3,4,5,6]}\n",
    "\n",
    "print(d1)"
   ]
  },
  {
   "cell_type": "code",
   "execution_count": 26,
   "id": "a61f3492",
   "metadata": {},
   "outputs": [
    {
     "name": "stdout",
     "output_type": "stream",
     "text": [
      "{'1234567890': ['Sanjana', 'Srikakulam', '01/01/2001', '9876543210'], '1234456789': ['Manogna', 'Aldie', '26/03/2013', '9887654321'], '1233456789': ['Jyothsna', 'Vishakapatnam', '17/03/1999', '9876544321']}\n"
     ]
    }
   ],
   "source": [
    "d1 = {\"1234567890\" : [\"Sanjana\",\"Srikakulam\",\"01/01/2001\",\"9876543210\"],\n",
    "     \"1234456789\": [\"Manogna\",\"Aldie\",\"26/03/2013\",\"9887654321\"],\n",
    "     \"1233456789\": [\"Jyothsna\",\"Vishakapatnam\",\"17/03/1999\",\"9876544321\"]}\n",
    "\n",
    "print(d1)"
   ]
  },
  {
   "cell_type": "code",
   "execution_count": 5,
   "id": "4065d75e",
   "metadata": {},
   "outputs": [
    {
     "ename": "TypeError",
     "evalue": "unhashable type: 'list'",
     "output_type": "error",
     "traceback": [
      "\u001b[1;31m---------------------------------------------------------------------------\u001b[0m",
      "\u001b[1;31mTypeError\u001b[0m                                 Traceback (most recent call last)",
      "\u001b[1;32m<ipython-input-5-870e5105044d>\u001b[0m in \u001b[0;36m<module>\u001b[1;34m\u001b[0m\n\u001b[1;32m----> 1\u001b[1;33m \u001b[0md2\u001b[0m \u001b[1;33m=\u001b[0m \u001b[1;33m{\u001b[0m\u001b[1;33m[\u001b[0m\u001b[1;36m1\u001b[0m\u001b[1;33m,\u001b[0m\u001b[1;36m2\u001b[0m\u001b[1;33m,\u001b[0m\u001b[1;36m3\u001b[0m\u001b[1;33m]\u001b[0m\u001b[1;33m:\u001b[0m \u001b[1;34m\"Python\"\u001b[0m\u001b[1;33m}\u001b[0m\u001b[1;33m\u001b[0m\u001b[1;33m\u001b[0m\u001b[0m\n\u001b[0m",
      "\u001b[1;31mTypeError\u001b[0m: unhashable type: 'list'"
     ]
    }
   ],
   "source": [
    "d2 = {[1,2,3]: \"Python\"}\n"
   ]
  },
  {
   "cell_type": "code",
   "execution_count": 7,
   "id": "5138db28",
   "metadata": {},
   "outputs": [
    {
     "name": "stdout",
     "output_type": "stream",
     "text": [
      "{(1, 2, 3): 'Python'}\n"
     ]
    }
   ],
   "source": [
    "d2 = {(1,2,3): \"Python\"}\n",
    "\n",
    "print(d2)"
   ]
  },
  {
   "cell_type": "markdown",
   "id": "284784ef",
   "metadata": {},
   "source": [
    "## Accessing the pairs form the dict"
   ]
  },
  {
   "cell_type": "code",
   "execution_count": 8,
   "id": "cc2ee7c2",
   "metadata": {},
   "outputs": [
    {
     "name": "stdout",
     "output_type": "stream",
     "text": [
      "{'1234567890': ['Sanjana', 'Srikakulam', '01/01/2001', '9876543210'], '1234456789': ['Manogna', 'Aldie', '26/03/2013', '9887654321'], '1233456789': ['Jyothsna', 'Vishakapatnam', '17/03/1999', '9876544321']}\n"
     ]
    }
   ],
   "source": [
    "print(d1)"
   ]
  },
  {
   "cell_type": "code",
   "execution_count": 9,
   "id": "161c8ac1",
   "metadata": {},
   "outputs": [
    {
     "name": "stdout",
     "output_type": "stream",
     "text": [
      "['Sanjana', 'Srikakulam', '01/01/2001', '9876543210']\n"
     ]
    }
   ],
   "source": [
    "print(d1['1234567890'])"
   ]
  },
  {
   "cell_type": "code",
   "execution_count": 10,
   "id": "deb50fbe",
   "metadata": {},
   "outputs": [
    {
     "ename": "KeyError",
     "evalue": "'123456789'",
     "output_type": "error",
     "traceback": [
      "\u001b[1;31m---------------------------------------------------------------------------\u001b[0m",
      "\u001b[1;31mKeyError\u001b[0m                                  Traceback (most recent call last)",
      "\u001b[1;32m<ipython-input-10-f54622f17d58>\u001b[0m in \u001b[0;36m<module>\u001b[1;34m\u001b[0m\n\u001b[1;32m----> 1\u001b[1;33m \u001b[0mprint\u001b[0m\u001b[1;33m(\u001b[0m\u001b[0md1\u001b[0m\u001b[1;33m[\u001b[0m\u001b[1;34m'123456789'\u001b[0m\u001b[1;33m]\u001b[0m\u001b[1;33m)\u001b[0m\u001b[1;33m\u001b[0m\u001b[1;33m\u001b[0m\u001b[0m\n\u001b[0m",
      "\u001b[1;31mKeyError\u001b[0m: '123456789'"
     ]
    }
   ],
   "source": [
    "print(d1['123456789'])"
   ]
  },
  {
   "cell_type": "code",
   "execution_count": 12,
   "id": "40d41e26",
   "metadata": {},
   "outputs": [
    {
     "name": "stdout",
     "output_type": "stream",
     "text": [
      "['Sanjana', 'Sklm', '01/01/2001', '08942278787']\n"
     ]
    }
   ],
   "source": [
    "d1['1234567890'] = ['Sanjana', 'Sklm', '01/01/2001', '08942278787']\n",
    "\n",
    "print(d1['1234567890'])"
   ]
  },
  {
   "cell_type": "code",
   "execution_count": 13,
   "id": "2d74ee9d",
   "metadata": {},
   "outputs": [
    {
     "name": "stdout",
     "output_type": "stream",
     "text": [
      "01/01/2001\n"
     ]
    }
   ],
   "source": [
    "print(d1['1234567890'][2])"
   ]
  },
  {
   "cell_type": "code",
   "execution_count": 17,
   "id": "84ebfdab",
   "metadata": {},
   "outputs": [
    {
     "name": "stdout",
     "output_type": "stream",
     "text": [
      "['Sanjana', 'Sklm', '01/02/2003', '08942278787']\n"
     ]
    }
   ],
   "source": [
    "d1['1234567890'][2] = \"01/02/2003\"\n",
    "\n",
    "print(d1['1234567890'])"
   ]
  },
  {
   "cell_type": "code",
   "execution_count": 19,
   "id": "30340f03",
   "metadata": {},
   "outputs": [
    {
     "name": "stdout",
     "output_type": "stream",
     "text": [
      "['Sanjana', 'Srikakulam', '01/02/2003', '08942278787']\n"
     ]
    }
   ],
   "source": [
    "d1['1234567890'][1] = \"Srikakulam\"\n",
    "\n",
    "print(d1['1234567890'])"
   ]
  },
  {
   "cell_type": "code",
   "execution_count": 20,
   "id": "3ea357ee",
   "metadata": {},
   "outputs": [
    {
     "name": "stdout",
     "output_type": "stream",
     "text": [
      "['Samhitha', 'Srikakulam', '01/02/2003', '08942278787']\n"
     ]
    }
   ],
   "source": [
    "d1['1234567890'][0] = \"Samhitha\"\n",
    "\n",
    "print(d1['1234567890'])"
   ]
  },
  {
   "cell_type": "code",
   "execution_count": 21,
   "id": "405fafa6",
   "metadata": {},
   "outputs": [
    {
     "name": "stdout",
     "output_type": "stream",
     "text": [
      "['01/02/2003', '08942278787', 'Samhitha', 'Srikakulam']\n"
     ]
    }
   ],
   "source": [
    "d1['1234567890'] = sorted(d1['1234567890'])\n",
    "\n",
    "print(d1['1234567890'])"
   ]
  },
  {
   "cell_type": "code",
   "execution_count": 25,
   "id": "334200ba",
   "metadata": {},
   "outputs": [
    {
     "name": "stdout",
     "output_type": "stream",
     "text": [
      "{123: 456, 132: 344}\n"
     ]
    }
   ],
   "source": [
    "d1 = {123:456, 132:344, 123:456}\n",
    "\n",
    "print(d1)"
   ]
  },
  {
   "cell_type": "code",
   "execution_count": 23,
   "id": "afe7e79c",
   "metadata": {},
   "outputs": [
    {
     "name": "stdout",
     "output_type": "stream",
     "text": [
      "456\n"
     ]
    }
   ],
   "source": [
    "print(d1[123])"
   ]
  },
  {
   "cell_type": "code",
   "execution_count": 27,
   "id": "96de0205",
   "metadata": {},
   "outputs": [
    {
     "name": "stdout",
     "output_type": "stream",
     "text": [
      "{'1234567890': ['Sanjana', 'Srikakulam', '01/01/2001', '9876543210'], '1234456789': ['Manogna', 'Aldie', '26/03/2013', '9887654321'], '1233456789': ['Jyothsna', 'Vishakapatnam', '17/03/1999', '9876544321']}\n"
     ]
    }
   ],
   "source": [
    "print(d1)"
   ]
  },
  {
   "cell_type": "code",
   "execution_count": 28,
   "id": "00b41031",
   "metadata": {},
   "outputs": [
    {
     "name": "stdout",
     "output_type": "stream",
     "text": [
      "dict_keys(['1234567890', '1234456789', '1233456789'])\n"
     ]
    }
   ],
   "source": [
    "print(d1.keys())"
   ]
  },
  {
   "cell_type": "code",
   "execution_count": 29,
   "id": "0ea7e397",
   "metadata": {},
   "outputs": [
    {
     "name": "stdout",
     "output_type": "stream",
     "text": [
      "dict_values([['Sanjana', 'Srikakulam', '01/01/2001', '9876543210'], ['Manogna', 'Aldie', '26/03/2013', '9887654321'], ['Jyothsna', 'Vishakapatnam', '17/03/1999', '9876544321']])\n"
     ]
    }
   ],
   "source": [
    "print(d1.values())"
   ]
  },
  {
   "cell_type": "code",
   "execution_count": 30,
   "id": "5da90624",
   "metadata": {},
   "outputs": [
    {
     "name": "stdout",
     "output_type": "stream",
     "text": [
      "dict_items([('1234567890', ['Sanjana', 'Srikakulam', '01/01/2001', '9876543210']), ('1234456789', ['Manogna', 'Aldie', '26/03/2013', '9887654321']), ('1233456789', ['Jyothsna', 'Vishakapatnam', '17/03/1999', '9876544321'])])\n"
     ]
    }
   ],
   "source": [
    "print(d1.items())"
   ]
  },
  {
   "cell_type": "code",
   "execution_count": 31,
   "id": "7c1ee884",
   "metadata": {},
   "outputs": [
    {
     "data": {
      "text/plain": [
       "['Sanjana', 'Srikakulam', '01/01/2001', '9876543210']"
      ]
     },
     "execution_count": 31,
     "metadata": {},
     "output_type": "execute_result"
    }
   ],
   "source": [
    "d1.get('1234567890')"
   ]
  },
  {
   "cell_type": "code",
   "execution_count": 32,
   "id": "722fead8",
   "metadata": {},
   "outputs": [
    {
     "name": "stdout",
     "output_type": "stream",
     "text": [
      "None\n"
     ]
    }
   ],
   "source": [
    "print(d1.get(\"123\"))"
   ]
  },
  {
   "cell_type": "code",
   "execution_count": 33,
   "id": "b563b5ed",
   "metadata": {},
   "outputs": [
    {
     "name": "stdout",
     "output_type": "stream",
     "text": [
      "Key not available\n"
     ]
    }
   ],
   "source": [
    "print(d1.get(\"123\", \"Key not available\"))"
   ]
  },
  {
   "cell_type": "code",
   "execution_count": 34,
   "id": "dbd74a22",
   "metadata": {},
   "outputs": [
    {
     "name": "stdout",
     "output_type": "stream",
     "text": [
      "['Sanjana', 'Srikakulam', '01/01/2001', '9876543210']\n"
     ]
    }
   ],
   "source": [
    "print(d1.get('1234567890', \"key not available\"))"
   ]
  },
  {
   "cell_type": "code",
   "execution_count": 36,
   "id": "19259eda",
   "metadata": {},
   "outputs": [],
   "source": [
    "marks_1 = {\"rollno\": [25,55,65,77,80,60], \"3_1\": [1,2,4,5,6]}\n",
    "supply_2_1_1 = {\"rollno\":[35,55,65,77,80,60]}\n",
    "supply_2_1_2 = {\"rollno\":[50,55,65,77,80,60], \"3_2\": [6,5,4,3,2,1]}"
   ]
  },
  {
   "cell_type": "code",
   "execution_count": 37,
   "id": "29bf45dd",
   "metadata": {},
   "outputs": [
    {
     "name": "stdout",
     "output_type": "stream",
     "text": [
      "{'rollno': [25, 55, 65, 77, 80, 60], '3_1': [1, 2, 4, 5, 6]}\n",
      "{'rollno': [35, 55, 65, 77, 80, 60], '3_1': [1, 2, 4, 5, 6]}\n"
     ]
    }
   ],
   "source": [
    "print(marks_1)\n",
    "marks_1.update(supply_2_1_1)\n",
    "print(marks_1)"
   ]
  },
  {
   "cell_type": "code",
   "execution_count": 38,
   "id": "c1f250d5",
   "metadata": {},
   "outputs": [
    {
     "name": "stdout",
     "output_type": "stream",
     "text": [
      "{'rollno': [35, 55, 65, 77, 80, 60], '3_1': [1, 2, 4, 5, 6]}\n",
      "{'rollno': [50, 55, 65, 77, 80, 60], '3_1': [1, 2, 4, 5, 6], '3_2': [6, 5, 4, 3, 2, 1]}\n"
     ]
    }
   ],
   "source": [
    "print(marks_1)\n",
    "marks_1.update(supply_2_1_2)\n",
    "print(marks_1)"
   ]
  },
  {
   "cell_type": "code",
   "execution_count": 39,
   "id": "2a4ffda3",
   "metadata": {},
   "outputs": [
    {
     "name": "stdout",
     "output_type": "stream",
     "text": [
      "{'rollno': [50, 55, 65, 77, 80, 60], '3_1': [1, 2, 4, 5, 6], '3_2': [6, 5, 4, 3, 2, 1]}\n"
     ]
    }
   ],
   "source": [
    "copy = marks_1.copy()\n",
    "\n",
    "print(copy)"
   ]
  },
  {
   "cell_type": "code",
   "execution_count": 40,
   "id": "7ed96cfd",
   "metadata": {},
   "outputs": [
    {
     "name": "stdout",
     "output_type": "stream",
     "text": [
      "{}\n"
     ]
    }
   ],
   "source": [
    "marks_1.clear()\n",
    "\n",
    "print(marks_1)"
   ]
  },
  {
   "cell_type": "code",
   "execution_count": 41,
   "id": "beb20ee3",
   "metadata": {},
   "outputs": [
    {
     "ename": "NameError",
     "evalue": "name 'marks_1' is not defined",
     "output_type": "error",
     "traceback": [
      "\u001b[1;31m---------------------------------------------------------------------------\u001b[0m",
      "\u001b[1;31mNameError\u001b[0m                                 Traceback (most recent call last)",
      "\u001b[1;32m<ipython-input-41-02d3f4ecc691>\u001b[0m in \u001b[0;36m<module>\u001b[1;34m\u001b[0m\n\u001b[0;32m      1\u001b[0m \u001b[1;32mdel\u001b[0m \u001b[0mmarks_1\u001b[0m\u001b[1;33m\u001b[0m\u001b[1;33m\u001b[0m\u001b[0m\n\u001b[0;32m      2\u001b[0m \u001b[1;33m\u001b[0m\u001b[0m\n\u001b[1;32m----> 3\u001b[1;33m \u001b[0mprint\u001b[0m\u001b[1;33m(\u001b[0m\u001b[0mmarks_1\u001b[0m\u001b[1;33m)\u001b[0m\u001b[1;33m\u001b[0m\u001b[1;33m\u001b[0m\u001b[0m\n\u001b[0m",
      "\u001b[1;31mNameError\u001b[0m: name 'marks_1' is not defined"
     ]
    }
   ],
   "source": [
    "del marks_1\n",
    "\n",
    "print(marks_1)"
   ]
  },
  {
   "cell_type": "code",
   "execution_count": 42,
   "id": "7d761390",
   "metadata": {},
   "outputs": [
    {
     "name": "stdout",
     "output_type": "stream",
     "text": [
      "1 2 3\n"
     ]
    }
   ],
   "source": [
    "l1 = [1,2,3]\n",
    "a, b, c = l1\n",
    "print(a,b,c)"
   ]
  },
  {
   "cell_type": "code",
   "execution_count": 43,
   "id": "324b1ad7",
   "metadata": {},
   "outputs": [
    {
     "ename": "ValueError",
     "evalue": "too many values to unpack (expected 2)",
     "output_type": "error",
     "traceback": [
      "\u001b[1;31m---------------------------------------------------------------------------\u001b[0m",
      "\u001b[1;31mValueError\u001b[0m                                Traceback (most recent call last)",
      "\u001b[1;32m<ipython-input-43-76d070971616>\u001b[0m in \u001b[0;36m<module>\u001b[1;34m\u001b[0m\n\u001b[1;32m----> 1\u001b[1;33m \u001b[0ma\u001b[0m\u001b[1;33m,\u001b[0m \u001b[0mb\u001b[0m \u001b[1;33m=\u001b[0m \u001b[1;33m[\u001b[0m\u001b[1;36m1\u001b[0m\u001b[1;33m,\u001b[0m\u001b[1;36m2\u001b[0m\u001b[1;33m,\u001b[0m\u001b[1;36m3\u001b[0m\u001b[1;33m]\u001b[0m\u001b[1;33m\u001b[0m\u001b[1;33m\u001b[0m\u001b[0m\n\u001b[0m",
      "\u001b[1;31mValueError\u001b[0m: too many values to unpack (expected 2)"
     ]
    }
   ],
   "source": [
    "a, b = [1,2,3]"
   ]
  },
  {
   "cell_type": "code",
   "execution_count": 44,
   "id": "aec56f81",
   "metadata": {},
   "outputs": [
    {
     "ename": "ValueError",
     "evalue": "not enough values to unpack (expected 4, got 3)",
     "output_type": "error",
     "traceback": [
      "\u001b[1;31m---------------------------------------------------------------------------\u001b[0m",
      "\u001b[1;31mValueError\u001b[0m                                Traceback (most recent call last)",
      "\u001b[1;32m<ipython-input-44-cbcfdbb75dde>\u001b[0m in \u001b[0;36m<module>\u001b[1;34m\u001b[0m\n\u001b[1;32m----> 1\u001b[1;33m \u001b[0ma\u001b[0m\u001b[1;33m,\u001b[0m \u001b[0mb\u001b[0m\u001b[1;33m,\u001b[0m \u001b[0mc\u001b[0m\u001b[1;33m,\u001b[0m \u001b[0md\u001b[0m \u001b[1;33m=\u001b[0m \u001b[1;33m[\u001b[0m\u001b[1;36m1\u001b[0m\u001b[1;33m,\u001b[0m\u001b[1;36m2\u001b[0m\u001b[1;33m,\u001b[0m\u001b[1;36m3\u001b[0m\u001b[1;33m]\u001b[0m\u001b[1;33m\u001b[0m\u001b[1;33m\u001b[0m\u001b[0m\n\u001b[0m",
      "\u001b[1;31mValueError\u001b[0m: not enough values to unpack (expected 4, got 3)"
     ]
    }
   ],
   "source": [
    "a, b, c, d = [1,2,3]"
   ]
  },
  {
   "cell_type": "code",
   "execution_count": 47,
   "id": "edae0d5f",
   "metadata": {},
   "outputs": [
    {
     "name": "stdout",
     "output_type": "stream",
     "text": [
      "1 1 2 3\n"
     ]
    }
   ],
   "source": [
    "## unpacking\n",
    "a,b,c,d = (1,1,2,3)\n",
    "\n",
    "print(a,b,c,d)"
   ]
  },
  {
   "cell_type": "code",
   "execution_count": 48,
   "id": "616421cf",
   "metadata": {},
   "outputs": [
    {
     "name": "stdout",
     "output_type": "stream",
     "text": [
      "[1, 1, 2, 3]\n"
     ]
    }
   ],
   "source": [
    "## packing\n",
    "l2 = [a,b,c,d]\n",
    "\n",
    "print(l2)"
   ]
  },
  {
   "cell_type": "code",
   "execution_count": 49,
   "id": "86a5c0e2",
   "metadata": {},
   "outputs": [
    {
     "name": "stdout",
     "output_type": "stream",
     "text": [
      "3\n"
     ]
    }
   ],
   "source": [
    "print(len(d1))"
   ]
  },
  {
   "cell_type": "code",
   "execution_count": 50,
   "id": "6f118564",
   "metadata": {},
   "outputs": [
    {
     "name": "stdout",
     "output_type": "stream",
     "text": [
      "1234567890\n"
     ]
    }
   ],
   "source": [
    "print(max(d1))"
   ]
  },
  {
   "cell_type": "code",
   "execution_count": 51,
   "id": "f91989c4",
   "metadata": {},
   "outputs": [
    {
     "name": "stdout",
     "output_type": "stream",
     "text": [
      "1233456789\n"
     ]
    }
   ],
   "source": [
    "print(min(d1))"
   ]
  },
  {
   "cell_type": "markdown",
   "id": "9989a4cf",
   "metadata": {},
   "source": [
    "## Iterating"
   ]
  },
  {
   "cell_type": "code",
   "execution_count": 52,
   "id": "6185abe7",
   "metadata": {},
   "outputs": [
    {
     "name": "stdout",
     "output_type": "stream",
     "text": [
      "1234567890\n",
      "1234456789\n",
      "1233456789\n"
     ]
    }
   ],
   "source": [
    "for pair in d1:\n",
    "    print(pair)"
   ]
  },
  {
   "cell_type": "code",
   "execution_count": 53,
   "id": "845563b1",
   "metadata": {},
   "outputs": [
    {
     "name": "stdout",
     "output_type": "stream",
     "text": [
      "['Sanjana', 'Srikakulam', '01/01/2001', '9876543210']\n",
      "['Manogna', 'Aldie', '26/03/2013', '9887654321']\n",
      "['Jyothsna', 'Vishakapatnam', '17/03/1999', '9876544321']\n"
     ]
    }
   ],
   "source": [
    "for val in d1.values():\n",
    "    print(val)"
   ]
  },
  {
   "cell_type": "code",
   "execution_count": 54,
   "id": "99d0c41f",
   "metadata": {},
   "outputs": [
    {
     "name": "stdout",
     "output_type": "stream",
     "text": [
      "['Sanjana', 'Srikakulam', '01/01/2001', '9876543210']\n",
      "['Manogna', 'Aldie', '26/03/2013', '9887654321']\n",
      "['Jyothsna', 'Vishakapatnam', '17/03/1999', '9876544321']\n"
     ]
    }
   ],
   "source": [
    "for pair in d1:\n",
    "    print(d1[pair])"
   ]
  },
  {
   "cell_type": "code",
   "execution_count": 55,
   "id": "ab24ec6d",
   "metadata": {},
   "outputs": [
    {
     "name": "stdout",
     "output_type": "stream",
     "text": [
      "['Sanjana', 'Srikakulam', '01/01/2001', '9876543210']\n",
      "['Manogna', 'Aldie', '26/03/2013', '9887654321']\n",
      "['Jyothsna', 'Vishakapatnam', '17/03/1999', '9876544321']\n"
     ]
    }
   ],
   "source": [
    "for pair in d1:\n",
    "    print(d1.get(pair))"
   ]
  },
  {
   "cell_type": "code",
   "execution_count": 56,
   "id": "1df3384d",
   "metadata": {},
   "outputs": [
    {
     "name": "stdout",
     "output_type": "stream",
     "text": [
      "('1234567890', ['Sanjana', 'Srikakulam', '01/01/2001', '9876543210'])\n",
      "('1234456789', ['Manogna', 'Aldie', '26/03/2013', '9887654321'])\n",
      "('1233456789', ['Jyothsna', 'Vishakapatnam', '17/03/1999', '9876544321'])\n"
     ]
    }
   ],
   "source": [
    "for pair in d1.items():\n",
    "    print(pair)"
   ]
  },
  {
   "cell_type": "code",
   "execution_count": 57,
   "id": "c27d0382",
   "metadata": {},
   "outputs": [
    {
     "name": "stdout",
     "output_type": "stream",
     "text": [
      "1234567890\n",
      "1234456789\n",
      "1233456789\n"
     ]
    }
   ],
   "source": [
    "for pair in d1.items():\n",
    "    print(pair[0])"
   ]
  },
  {
   "cell_type": "code",
   "execution_count": 59,
   "id": "dd36e025",
   "metadata": {},
   "outputs": [
    {
     "name": "stdout",
     "output_type": "stream",
     "text": [
      "1234567890\n",
      "['Sanjana', 'Srikakulam', '01/01/2001', '9876543210']\n",
      "**********\n",
      "1234456789\n",
      "['Manogna', 'Aldie', '26/03/2013', '9887654321']\n",
      "**********\n",
      "1233456789\n",
      "['Jyothsna', 'Vishakapatnam', '17/03/1999', '9876544321']\n",
      "**********\n"
     ]
    }
   ],
   "source": [
    "for key,value in d1.items():\n",
    "    print(key)\n",
    "    print(value)\n",
    "    print(\"*\"*10)"
   ]
  },
  {
   "cell_type": "markdown",
   "id": "d4caf603",
   "metadata": {},
   "source": [
    "{1:1,2:4,3:9......,10:100}"
   ]
  },
  {
   "cell_type": "code",
   "execution_count": 61,
   "id": "fcf97c87",
   "metadata": {},
   "outputs": [
    {
     "name": "stdout",
     "output_type": "stream",
     "text": [
      "{1: 1, 2: 4, 3: 9, 4: 16, 5: 25, 6: 36, 7: 49, 8: 64, 9: 81, 10: 100, 11: 121, 12: 144, 13: 169, 14: 196, 15: 225, 16: 256, 17: 289, 18: 324, 19: 361, 20: 400, 21: 441, 22: 484, 23: 529, 24: 576, 25: 625, 26: 676, 27: 729, 28: 784, 29: 841, 30: 900, 31: 961, 32: 1024, 33: 1089, 34: 1156, 35: 1225, 36: 1296, 37: 1369, 38: 1444, 39: 1521, 40: 1600, 41: 1681, 42: 1764, 43: 1849, 44: 1936, 45: 2025, 46: 2116, 47: 2209, 48: 2304, 49: 2401, 50: 2500, 51: 2601, 52: 2704, 53: 2809, 54: 2916, 55: 3025, 56: 3136, 57: 3249, 58: 3364, 59: 3481, 60: 3600, 61: 3721, 62: 3844, 63: 3969, 64: 4096, 65: 4225, 66: 4356, 67: 4489, 68: 4624, 69: 4761, 70: 4900, 71: 5041, 72: 5184, 73: 5329, 74: 5476, 75: 5625, 76: 5776, 77: 5929, 78: 6084, 79: 6241, 80: 6400, 81: 6561, 82: 6724, 83: 6889, 84: 7056, 85: 7225, 86: 7396, 87: 7569, 88: 7744, 89: 7921, 90: 8100, 91: 8281, 92: 8464, 93: 8649, 94: 8836, 95: 9025, 96: 9216, 97: 9409, 98: 9604, 99: 9801, 100: 10000}\n"
     ]
    }
   ],
   "source": [
    "sq = {}\n",
    "\n",
    "\n",
    "for i in range(1, 101):\n",
    "    sq[i] = i**2\n",
    "    \n",
    "print(sq)"
   ]
  },
  {
   "cell_type": "code",
   "execution_count": 62,
   "id": "45304e64",
   "metadata": {},
   "outputs": [
    {
     "name": "stdout",
     "output_type": "stream",
     "text": [
      "4\t16\t36\t64\t100\t144\t196\t256\t324\t400\t484\t576\t676\t784\t900\t1024\t1156\t1296\t1444\t1600\t1764\t1936\t2116\t2304\t2500\t2704\t2916\t3136\t3364\t3600\t3844\t4096\t4356\t4624\t4900\t5184\t5476\t5776\t6084\t6400\t6724\t7056\t7396\t7744\t8100\t8464\t8836\t9216\t9604\t10000\t"
     ]
    }
   ],
   "source": [
    "for key in sq:\n",
    "    if key%2 == 0:\n",
    "        print(sq[key], end = \"\\t\")"
   ]
  },
  {
   "cell_type": "code",
   "execution_count": 64,
   "id": "18f32e90",
   "metadata": {},
   "outputs": [
    {
     "name": "stdout",
     "output_type": "stream",
     "text": [
      "{'P': 4, 'y': 11, 't': 39, 'h': 13, 'o': 33, 'n': 35, ' ': 74, 'i': 39, 's': 32, 'a': 47, 'e': 51, 'r': 38, 'p': 22, 'd': 25, 'g': 23, '-': 7, 'l': 32, 'v': 2, 'u': 16, 'm': 15, '.': 6, \"'\": 1, 'z': 1, 'c': 23, 'b': 8, 'w': 3, 'f': 5, 'I': 2, 'j': 3, ',': 4, '[': 1, '3': 1, '0': 1, ']': 1, '\\n': 1, '(': 1, ')': 1, '\"': 2}\n"
     ]
    }
   ],
   "source": [
    "## Task \n",
    "## character frequency inside a string\n",
    "\n",
    "s = \"\"\"Python is an interpreted high-level general-purpose programming language. Python's design philosophy emphasizes code readability with its notable use of significant indentation. Its language constructs as well as its object-oriented approach aim to help programmers write clear, logical code for small and large-scale projects.[30]\n",
    "Python is dynamically-typed and garbage-collected. It supports multiple programming paradigms, including structured (particularly, procedural), object-oriented and functional programming. Python is often described as a \"batteries included\" language due to its comprehensive standard library.\"\"\"\n",
    "\n",
    "d = {}\n",
    "for char in s:\n",
    "    d[char] = s.count(char)\n",
    "print(d)"
   ]
  },
  {
   "cell_type": "markdown",
   "id": "6de67d42",
   "metadata": {},
   "source": [
    "### Contact Application\n",
    "\n",
    "\n",
    "{\"Name\" : [\"Mobile number\",\"email\",\"DOB\",\"website\"]}\n",
    "\n",
    "Take input from user of choice\n",
    "- 1. Create contact ->key : value\n",
    "- 2. add the contact to existing contact -> key -> name\n",
    "- 3. edit the contact -> key -> value\n",
    "- 4. delete the contact ->name\n",
    "- 5. View contact"
   ]
  },
  {
   "cell_type": "code",
   "execution_count": 9,
   "id": "c852a7ba",
   "metadata": {},
   "outputs": [
    {
     "name": "stdout",
     "output_type": "stream",
     "text": [
      "Press the option\n",
      "1. Create contact  \n",
      "2. add the contact to existing contact  \n",
      "3. edit the contact \n",
      "4. delete the contact\n",
      "5. View contact2\n"
     ]
    }
   ],
   "source": [
    "option = input(\"\"\"Press the option\n",
    "1. Create contact  \n",
    "2. add the contact to existing contact  \n",
    "3. edit the contact \n",
    "4. delete the contact\n",
    "5. View contact\"\"\")\n"
   ]
  },
  {
   "cell_type": "code",
   "execution_count": 3,
   "id": "70f2ea3a",
   "metadata": {},
   "outputs": [],
   "source": [
    "contact = {}"
   ]
  },
  {
   "cell_type": "code",
   "execution_count": 4,
   "id": "8dee443d",
   "metadata": {},
   "outputs": [
    {
     "name": "stdout",
     "output_type": "stream",
     "text": [
      "Enter contact name:sanju\n",
      "Enter details with space seperator518 cse jntuk\n"
     ]
    }
   ],
   "source": [
    "\n",
    "if option == \"1\":\n",
    "    key = input(\"Enter contact name:\")\n",
    "    value = input(\"Enter details with space seperator\").split()\n",
    "    contact[key] = value"
   ]
  },
  {
   "cell_type": "code",
   "execution_count": 5,
   "id": "6c226177",
   "metadata": {},
   "outputs": [
    {
     "name": "stdout",
     "output_type": "stream",
     "text": [
      "{'sanju': ['518', 'cse', 'jntuk']}\n"
     ]
    }
   ],
   "source": [
    "print(contact)"
   ]
  },
  {
   "cell_type": "code",
   "execution_count": 10,
   "id": "18fa4b7b",
   "metadata": {},
   "outputs": [
    {
     "name": "stdout",
     "output_type": "stream",
     "text": [
      "Enter name to add existing contactsanju\n",
      "Enter data to updatesanjana@gmail.com\n"
     ]
    }
   ],
   "source": [
    "if option == \"2\":\n",
    "    name = input(\"Enter name to add existing contact\")\n",
    "    if name in contact:\n",
    "        data = input(\"Enter data to update\").split()\n",
    "        contact[name].extend(data)\n",
    "    else:\n",
    "        print(name, \"contact is not available\")"
   ]
  },
  {
   "cell_type": "code",
   "execution_count": 11,
   "id": "5f78ddc8",
   "metadata": {},
   "outputs": [
    {
     "name": "stdout",
     "output_type": "stream",
     "text": [
      "{'sanju': ['518', 'cse', 'jntuk', 'sanjana@gmail.com']}\n"
     ]
    }
   ],
   "source": [
    "print(contact)"
   ]
  },
  {
   "cell_type": "code",
   "execution_count": 12,
   "id": "34ef91c8",
   "metadata": {},
   "outputs": [],
   "source": [
    "if option == \"3\":\n",
    "    name = input(\"Enter name to edit contact\")\n",
    "    if name in contact:\n",
    "        data = input(\"Enter data to update\").split()\n",
    "        contact[name].update(data)\n",
    "    else:\n",
    "        print(name, \"contact is not available\")"
   ]
  },
  {
   "cell_type": "code",
   "execution_count": 13,
   "id": "7e7990b1",
   "metadata": {},
   "outputs": [
    {
     "name": "stdout",
     "output_type": "stream",
     "text": [
      "{'sanju': ['518', 'cse', 'jntuk', 'sanjana@gmail.com']}\n"
     ]
    }
   ],
   "source": [
    "print(contact)"
   ]
  },
  {
   "cell_type": "code",
   "execution_count": 14,
   "id": "9d7b5910",
   "metadata": {},
   "outputs": [],
   "source": [
    "if option == \"4\":\n",
    "    name = input(\"Enter name to delete contact\")\n",
    "    if name in contact:\n",
    "        contact.pop(name)\n",
    "    else:\n",
    "        print(name, \"contact is not available\")"
   ]
  },
  {
   "cell_type": "code",
   "execution_count": 15,
   "id": "9d21738c",
   "metadata": {},
   "outputs": [
    {
     "name": "stdout",
     "output_type": "stream",
     "text": [
      "{'sanju': ['518', 'cse', 'jntuk', 'sanjana@gmail.com']}\n"
     ]
    }
   ],
   "source": [
    "print(contact)"
   ]
  },
  {
   "cell_type": "code",
   "execution_count": 16,
   "id": "57d01fb3",
   "metadata": {},
   "outputs": [],
   "source": [
    "if option == \"5\":\n",
    "    name = input(\"Enter name to delete contact\")\n",
    "    if name in contact:\n",
    "        print(contact[name])\n",
    "    else:\n",
    "        print(name, \"contact is not available\")"
   ]
  },
  {
   "cell_type": "code",
   "execution_count": 2,
   "id": "5a849a40",
   "metadata": {},
   "outputs": [
    {
     "name": "stdout",
     "output_type": "stream",
     "text": [
      "Press the option\n",
      "1. Create contact  \n",
      "2. add the contact to existing contact  \n",
      "3. edit the contact \n",
      "4. delete the contact\n",
      "5. View contact5\n",
      "Enter name to view contactsanju\n",
      "sanju contact is not available\n"
     ]
    }
   ],
   "source": [
    "## code for contact application\n",
    "\n",
    "\n",
    "option = input(\"\"\"Press the option\n",
    "1. Create contact  \n",
    "2. add the contact to existing contact  \n",
    "3. edit the contact \n",
    "4. delete the contact\n",
    "5. View contact\"\"\")\n",
    "contact = {}\n",
    "if option == \"1\":\n",
    "    key = input(\"Enter contact name:\")\n",
    "    value = input(\"Enter details with space seperator\").split()\n",
    "    contact[key] = value\n",
    "elif option == \"2\":\n",
    "    name = input(\"Enter name to add existing contact\")\n",
    "    if name in contact:\n",
    "        data = input(\"Enter data to update\").split()\n",
    "        contact[name].extend(data)\n",
    "    else:\n",
    "        print(name, \"contact is not available\")\n",
    "elif option == \"3\":\n",
    "    name = input(\"Enter name to edit contact\")\n",
    "    if name in contact:\n",
    "        data = input(\"Enter data to update\").split()\n",
    "        contact[name].update(data)\n",
    "    else:\n",
    "        print(name, \"contact is not available\")\n",
    "elif option == \"4\":\n",
    "    name = input(\"Enter name to delete contact\")\n",
    "    if name in contact:\n",
    "        contact.pop(name)\n",
    "    else:\n",
    "        print(name, \"contact is not available\")\n",
    "elif option == \"5\":\n",
    "    name = input(\"Enter name to view contact\")\n",
    "    if name in contact:\n",
    "        print(contact[name])\n",
    "    else:\n",
    "        print(name, \"contact is not available\")\n"
   ]
  },
  {
   "cell_type": "code",
   "execution_count": null,
   "id": "38354759",
   "metadata": {},
   "outputs": [],
   "source": []
  }
 ],
 "metadata": {
  "kernelspec": {
   "display_name": "Python 3",
   "language": "python",
   "name": "python3"
  },
  "language_info": {
   "codemirror_mode": {
    "name": "ipython",
    "version": 3
   },
   "file_extension": ".py",
   "mimetype": "text/x-python",
   "name": "python",
   "nbconvert_exporter": "python",
   "pygments_lexer": "ipython3",
   "version": "3.8.8"
  }
 },
 "nbformat": 4,
 "nbformat_minor": 5
}
