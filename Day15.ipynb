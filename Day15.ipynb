{
 "cells": [
  {
   "cell_type": "markdown",
   "id": "4d85185f",
   "metadata": {},
   "source": [
    "## Contents\n",
    "\n",
    "- Regex"
   ]
  },
  {
   "cell_type": "code",
   "execution_count": 1,
   "id": "4d08c604",
   "metadata": {},
   "outputs": [],
   "source": [
    "s = \"\"\"Python is an interpreted high-level general-purpose programming language. Python's design philosophy emphasizes code readability with its notable use of significant indentation. Its language constructs as well as its object-oriented approach aim to help programmers write clear, logical code for small and large-scale projects\"\"\""
   ]
  },
  {
   "cell_type": "code",
   "execution_count": 2,
   "id": "f1d6d58b",
   "metadata": {},
   "outputs": [
    {
     "name": "stdout",
     "output_type": "stream",
     "text": [
      "['P', 'y', 't', 'h', 'o', 'n', ' ', 'i', 's', ' ', 'a', 'n', ' ', 'i', 'n', 't', 'e', 'r', 'p', 'r', 'e', 't', 'e', 'd', ' ', 'h', 'i', 'g', 'h', '-', 'l', 'e', 'v', 'e', 'l', ' ', 'g', 'e', 'n', 'e', 'r', 'a', 'l', '-', 'p', 'u', 'r', 'p', 'o', 's', 'e', ' ', 'p', 'r', 'o', 'g', 'r', 'a', 'm', 'm', 'i', 'n', 'g', ' ', 'l', 'a', 'n', 'g', 'u', 'a', 'g', 'e', '.', ' ', 'P', 'y', 't', 'h', 'o', 'n', \"'\", 's', ' ', 'd', 'e', 's', 'i', 'g', 'n', ' ', 'p', 'h', 'i', 'l', 'o', 's', 'o', 'p', 'h', 'y', ' ', 'e', 'm', 'p', 'h', 'a', 's', 'i', 'z', 'e', 's', ' ', 'c', 'o', 'd', 'e', ' ', 'r', 'e', 'a', 'd', 'a', 'b', 'i', 'l', 'i', 't', 'y', ' ', 'w', 'i', 't', 'h', ' ', 'i', 't', 's', ' ', 'n', 'o', 't', 'a', 'b', 'l', 'e', ' ', 'u', 's', 'e', ' ', 'o', 'f', ' ', 's', 'i', 'g', 'n', 'i', 'f', 'i', 'c', 'a', 'n', 't', ' ', 'i', 'n', 'd', 'e', 'n', 't', 'a', 't', 'i', 'o', 'n', '.', ' ', 'I', 't', 's', ' ', 'l', 'a', 'n', 'g', 'u', 'a', 'g', 'e', ' ', 'c', 'o', 'n', 's', 't', 'r', 'u', 'c', 't', 's', ' ', 'a', 's', ' ', 'w', 'e', 'l', 'l', ' ', 'a', 's', ' ', 'i', 't', 's', ' ', 'o', 'b', 'j', 'e', 'c', 't', '-', 'o', 'r', 'i', 'e', 'n', 't', 'e', 'd', ' ', 'a', 'p', 'p', 'r', 'o', 'a', 'c', 'h', ' ', 'a', 'i', 'm', ' ', 't', 'o', ' ', 'h', 'e', 'l', 'p', ' ', 'p', 'r', 'o', 'g', 'r', 'a', 'm', 'm', 'e', 'r', 's', ' ', 'w', 'r', 'i', 't', 'e', ' ', 'c', 'l', 'e', 'a', 'r', ',', ' ', 'l', 'o', 'g', 'i', 'c', 'a', 'l', ' ', 'c', 'o', 'd', 'e', ' ', 'f', 'o', 'r', ' ', 's', 'm', 'a', 'l', 'l', ' ', 'a', 'n', 'd', ' ', 'l', 'a', 'r', 'g', 'e', '-', 's', 'c', 'a', 'l', 'e', ' ', 'p', 'r', 'o', 'j', 'e', 'c', 't', 's']\n"
     ]
    }
   ],
   "source": [
    "print(list(s))"
   ]
  },
  {
   "cell_type": "code",
   "execution_count": 3,
   "id": "80f08387",
   "metadata": {},
   "outputs": [
    {
     "name": "stdout",
     "output_type": "stream",
     "text": [
      "['P', 'P', 'I']\n"
     ]
    }
   ],
   "source": [
    "l1 = []\n",
    "\n",
    "for char in s:\n",
    "    if char.isupper():\n",
    "        l1.append(char)\n",
    "print(l1)"
   ]
  },
  {
   "cell_type": "code",
   "execution_count": 4,
   "id": "72daf1a3",
   "metadata": {},
   "outputs": [
    {
     "name": "stdout",
     "output_type": "stream",
     "text": [
      "[' ', ' ', ' ', ' ', '-', ' ', '-', ' ', ' ', '.', ' ', \"'\", ' ', ' ', ' ', ' ', ' ', ' ', ' ', ' ', ' ', ' ', ' ', ' ', '.', ' ', ' ', ' ', ' ', ' ', ' ', ' ', ' ', '-', ' ', ' ', ' ', ' ', ' ', ' ', ' ', ',', ' ', ' ', ' ', ' ', ' ', ' ', '-', ' ']\n"
     ]
    }
   ],
   "source": [
    "l1 = []\n",
    "\n",
    "for char in s:\n",
    "    if not char.isalnum():\n",
    "        l1.append(char)\n",
    "print(l1)"
   ]
  },
  {
   "cell_type": "code",
   "execution_count": 5,
   "id": "072e9d38",
   "metadata": {},
   "outputs": [
    {
     "name": "stdout",
     "output_type": "stream",
     "text": [
      "326\n"
     ]
    }
   ],
   "source": [
    "print(len(s))"
   ]
  },
  {
   "cell_type": "markdown",
   "id": "32028722",
   "metadata": {},
   "source": [
    "replace all special characters with `**`"
   ]
  },
  {
   "cell_type": "code",
   "execution_count": 6,
   "id": "056b795e",
   "metadata": {},
   "outputs": [
    {
     "name": "stdout",
     "output_type": "stream",
     "text": [
      "Python is an interpreted high-level general-purpose programming language. Python's design philosophy emphasizes code readability with its notable use of significant indentation. Its language constructs as well as its object-oriented approach aim to help programmers write clear, logical code for small and large-scale projects\n"
     ]
    }
   ],
   "source": [
    "print(s)"
   ]
  },
  {
   "cell_type": "code",
   "execution_count": 10,
   "id": "fe0b8ba6",
   "metadata": {},
   "outputs": [
    {
     "name": "stdout",
     "output_type": "stream",
     "text": [
      "Python**is**an**interpreted**high**level**general**purpose**programming**language****Python**s**design**philosophy**emphasizes**code**readability**with**its**notable**use**of**significant**indentation****Its**language**constructs**as**well**as**its**object**oriented**approach**aim**to**help**programmers**write**clear****logical**code**for**small**and**large**scale**projects\n"
     ]
    }
   ],
   "source": [
    "s1 = \"\"\n",
    "\n",
    "l1 = []\n",
    "\n",
    "for char in s:\n",
    "    if not char.isalnum():\n",
    "        s1 += \"**\"\n",
    "    else:\n",
    "        s1 += char\n",
    "print(s1)"
   ]
  },
  {
   "cell_type": "code",
   "execution_count": 11,
   "id": "13af572c",
   "metadata": {},
   "outputs": [
    {
     "name": "stdout",
     "output_type": "stream",
     "text": [
      "Python is an interpreted high**level general**purpose programming language** Python**s design philosophy emphasizes code readability with its notable use of significant indentation** Its language constructs as well as its object**oriented approach aim to help programmers write clear** logical code for small and large**scale projects\n"
     ]
    }
   ],
   "source": [
    "s1 = \"\"\n",
    "\n",
    "l1 = []\n",
    "\n",
    "for char in s:\n",
    "    if not char.isalnum() and char != \" \":\n",
    "        s1 += \"**\"\n",
    "    else:\n",
    "        s1 += char\n",
    "print(s1)"
   ]
  },
  {
   "cell_type": "code",
   "execution_count": 12,
   "id": "2d208c91",
   "metadata": {},
   "outputs": [
    {
     "name": "stdout",
     "output_type": "stream",
     "text": [
      "Python is an interpreted high**level general**purpose programming language** Python**s design philosophy emphasizes code readability with its notable use of significant indentation** Its language constructs as well as its object**oriented approach aim to help programmers write clear** logical code for small and large**scale projects\n"
     ]
    }
   ],
   "source": [
    "s1 = \"\"\n",
    "\n",
    "l1 = []\n",
    "\n",
    "for char in s:\n",
    "    if not char.isalnum() and not char.isspace():\n",
    "        s1 += \"**\"\n",
    "    else:\n",
    "        s1 += char\n",
    "print(s1)"
   ]
  },
  {
   "cell_type": "code",
   "execution_count": 13,
   "id": "0eeb9e93",
   "metadata": {},
   "outputs": [
    {
     "name": "stdout",
     "output_type": "stream",
     "text": [
      "['is', 'an', 'interpreted', 'high-level', 'general-purpose', 'programming', 'language.', 'design', 'philosophy', 'emphasizes', 'code', 'readability', 'with', 'its', 'notable', 'use', 'of', 'significant', 'indentation.', 'language', 'constructs', 'as', 'well', 'as', 'its', 'object-oriented', 'approach', 'aim', 'to', 'help', 'programmers', 'write', 'clear,', 'logical', 'code', 'for', 'small', 'and', 'large-scale', 'projects']\n"
     ]
    }
   ],
   "source": [
    "ss = s.split()\n",
    "\n",
    "l1 = []\n",
    "\n",
    "for char in ss:\n",
    "    if char[0].islower():\n",
    "        l1.append(char)\n",
    "print(l1)\n",
    "        "
   ]
  },
  {
   "cell_type": "markdown",
   "id": "9640170c",
   "metadata": {},
   "source": [
    "## Regular expressions\n",
    "\n",
    "- a group of characters/special characters for matching the pattern"
   ]
  },
  {
   "cell_type": "code",
   "execution_count": 14,
   "id": "27afac31",
   "metadata": {},
   "outputs": [],
   "source": [
    "import re"
   ]
  },
  {
   "cell_type": "code",
   "execution_count": 15,
   "id": "a9a44c4e",
   "metadata": {},
   "outputs": [
    {
     "name": "stdout",
     "output_type": "stream",
     "text": [
      "Support for regular expressions (RE).\n",
      "\n",
      "This module provides regular expression matching operations similar to\n",
      "those found in Perl.  It supports both 8-bit and Unicode strings; both\n",
      "the pattern and the strings being processed can contain null bytes and\n",
      "characters outside the US ASCII range.\n",
      "\n",
      "Regular expressions can contain both special and ordinary characters.\n",
      "Most ordinary characters, like \"A\", \"a\", or \"0\", are the simplest\n",
      "regular expressions; they simply match themselves.  You can\n",
      "concatenate ordinary characters, so last matches the string 'last'.\n",
      "\n",
      "The special characters are:\n",
      "    \".\"      Matches any character except a newline.\n",
      "    \"^\"      Matches the start of the string.\n",
      "    \"$\"      Matches the end of the string or just before the newline at\n",
      "             the end of the string.\n",
      "    \"*\"      Matches 0 or more (greedy) repetitions of the preceding RE.\n",
      "             Greedy means that it will match as many repetitions as possible.\n",
      "    \"+\"      Matches 1 or more (greedy) repetitions of the preceding RE.\n",
      "    \"?\"      Matches 0 or 1 (greedy) of the preceding RE.\n",
      "    *?,+?,?? Non-greedy versions of the previous three special characters.\n",
      "    {m,n}    Matches from m to n repetitions of the preceding RE.\n",
      "    {m,n}?   Non-greedy version of the above.\n",
      "    \"\\\\\"     Either escapes special characters or signals a special sequence.\n",
      "    []       Indicates a set of characters.\n",
      "             A \"^\" as the first character indicates a complementing set.\n",
      "    \"|\"      A|B, creates an RE that will match either A or B.\n",
      "    (...)    Matches the RE inside the parentheses.\n",
      "             The contents can be retrieved or matched later in the string.\n",
      "    (?aiLmsux) The letters set the corresponding flags defined below.\n",
      "    (?:...)  Non-grouping version of regular parentheses.\n",
      "    (?P<name>...) The substring matched by the group is accessible by name.\n",
      "    (?P=name)     Matches the text matched earlier by the group named name.\n",
      "    (?#...)  A comment; ignored.\n",
      "    (?=...)  Matches if ... matches next, but doesn't consume the string.\n",
      "    (?!...)  Matches if ... doesn't match next.\n",
      "    (?<=...) Matches if preceded by ... (must be fixed length).\n",
      "    (?<!...) Matches if not preceded by ... (must be fixed length).\n",
      "    (?(id/name)yes|no) Matches yes pattern if the group with id/name matched,\n",
      "                       the (optional) no pattern otherwise.\n",
      "\n",
      "The special sequences consist of \"\\\\\" and a character from the list\n",
      "below.  If the ordinary character is not on the list, then the\n",
      "resulting RE will match the second character.\n",
      "    \\number  Matches the contents of the group of the same number.\n",
      "    \\A       Matches only at the start of the string.\n",
      "    \\Z       Matches only at the end of the string.\n",
      "    \\b       Matches the empty string, but only at the start or end of a word.\n",
      "    \\B       Matches the empty string, but not at the start or end of a word.\n",
      "    \\d       Matches any decimal digit; equivalent to the set [0-9] in\n",
      "             bytes patterns or string patterns with the ASCII flag.\n",
      "             In string patterns without the ASCII flag, it will match the whole\n",
      "             range of Unicode digits.\n",
      "    \\D       Matches any non-digit character; equivalent to [^\\d].\n",
      "    \\s       Matches any whitespace character; equivalent to [ \\t\\n\\r\\f\\v] in\n",
      "             bytes patterns or string patterns with the ASCII flag.\n",
      "             In string patterns without the ASCII flag, it will match the whole\n",
      "             range of Unicode whitespace characters.\n",
      "    \\S       Matches any non-whitespace character; equivalent to [^\\s].\n",
      "    \\w       Matches any alphanumeric character; equivalent to [a-zA-Z0-9_]\n",
      "             in bytes patterns or string patterns with the ASCII flag.\n",
      "             In string patterns without the ASCII flag, it will match the\n",
      "             range of Unicode alphanumeric characters (letters plus digits\n",
      "             plus underscore).\n",
      "             With LOCALE, it will match the set [0-9_] plus characters defined\n",
      "             as letters for the current locale.\n",
      "    \\W       Matches the complement of \\w.\n",
      "    \\\\       Matches a literal backslash.\n",
      "\n",
      "This module exports the following functions:\n",
      "    match     Match a regular expression pattern to the beginning of a string.\n",
      "    fullmatch Match a regular expression pattern to all of a string.\n",
      "    search    Search a string for the presence of a pattern.\n",
      "    sub       Substitute occurrences of a pattern found in a string.\n",
      "    subn      Same as sub, but also return the number of substitutions made.\n",
      "    split     Split a string by the occurrences of a pattern.\n",
      "    findall   Find all occurrences of a pattern in a string.\n",
      "    finditer  Return an iterator yielding a Match object for each match.\n",
      "    compile   Compile a pattern into a Pattern object.\n",
      "    purge     Clear the regular expression cache.\n",
      "    escape    Backslash all non-alphanumerics in a string.\n",
      "\n",
      "Each function other than purge and escape can take an optional 'flags' argument\n",
      "consisting of one or more of the following module constants, joined by \"|\".\n",
      "A, L, and U are mutually exclusive.\n",
      "    A  ASCII       For string patterns, make \\w, \\W, \\b, \\B, \\d, \\D\n",
      "                   match the corresponding ASCII character categories\n",
      "                   (rather than the whole Unicode categories, which is the\n",
      "                   default).\n",
      "                   For bytes patterns, this flag is the only available\n",
      "                   behaviour and needn't be specified.\n",
      "    I  IGNORECASE  Perform case-insensitive matching.\n",
      "    L  LOCALE      Make \\w, \\W, \\b, \\B, dependent on the current locale.\n",
      "    M  MULTILINE   \"^\" matches the beginning of lines (after a newline)\n",
      "                   as well as the string.\n",
      "                   \"$\" matches the end of lines (before a newline) as well\n",
      "                   as the end of the string.\n",
      "    S  DOTALL      \".\" matches any character at all, including the newline.\n",
      "    X  VERBOSE     Ignore whitespace and comments for nicer looking RE's.\n",
      "    U  UNICODE     For compatibility only. Ignored for string patterns (it\n",
      "                   is the default), and forbidden for bytes patterns.\n",
      "\n",
      "This module also defines an exception 'error'.\n",
      "\n",
      "\n"
     ]
    }
   ],
   "source": [
    "print(re.__doc__)"
   ]
  },
  {
   "cell_type": "markdown",
   "id": "ed7663c8",
   "metadata": {},
   "source": [
    "### syntax\n",
    "\n",
    "- method(pattern, string)"
   ]
  },
  {
   "cell_type": "code",
   "execution_count": 20,
   "id": "8ed59dc0",
   "metadata": {},
   "outputs": [],
   "source": [
    "s = \"\"\"Python is an interpreted high-level general-purpose programming language. Python's design philosophy emphasizes code readability with its notable use of significant indentation. Wikipedia\n",
    "Developer: Python Software Foundation\n",
    "Stable release: 3.9.5 / 3 May 2021; 29 days ago\n",
    "Preview release: 3.10.0b1 / 3 May 2021; 29 days ago\n",
    "Typing discipline: Duck, dynamic, strong typing; gradual (since 3.5, but ignored in CPython)\n",
    "First appeared: February 1991; 30 years ago\n",
    "Paradigm: Multi-paradigm: object-oriented, procedural (imperative), functional, structured, reflective\"\"\""
   ]
  },
  {
   "cell_type": "code",
   "execution_count": 21,
   "id": "fee7545c",
   "metadata": {},
   "outputs": [
    {
     "name": "stdout",
     "output_type": "stream",
     "text": [
      "['P', 'P', 'P', 'P', 'P', 'P']\n"
     ]
    }
   ],
   "source": [
    "print(re.findall(\"P\", s))"
   ]
  },
  {
   "cell_type": "code",
   "execution_count": 22,
   "id": "09f5afea",
   "metadata": {},
   "outputs": [
    {
     "name": "stdout",
     "output_type": "stream",
     "text": [
      "['Pyt', 'Pyt', 'Pyt', 'Pre', 'Pyt', 'Par']\n"
     ]
    }
   ],
   "source": [
    "print(re.findall(\"P..\", s))"
   ]
  },
  {
   "cell_type": "code",
   "execution_count": 23,
   "id": "06af1a45",
   "metadata": {},
   "outputs": [
    {
     "name": "stdout",
     "output_type": "stream",
     "text": [
      "['an ', 'al-', 'amm', 'ang', 'age', 'asi', 'ada', 'abl', 'ant', 'ati', 'are', 'ati', 'abl', 'ase', 'ay ', 'ays', 'ago', 'ase', 'ay ', 'ays', 'ago', 'ami', 'adu', 'al ', 'app', 'are', 'ary', 'ars', 'ago', 'ara', 'ara', 'al ', 'ati', 'al,']\n"
     ]
    }
   ],
   "source": [
    "print(re.findall(\"a..\", s))"
   ]
  },
  {
   "cell_type": "code",
   "execution_count": 24,
   "id": "3df3eeb3",
   "metadata": {},
   "outputs": [
    {
     "name": "stdout",
     "output_type": "stream",
     "text": [
      "Python is an interpreted high-level general-purpose programming language. Python's design philosophy emphasizes code readability with its notable use of significant indentation. Wikipedia\n",
      "Developer: Python Software Foundation\n",
      "Stable release: 3.9.5 / 3 May 2021; 29 days ago\n",
      "Preview release: 3.10.0b1 / 3 May 2021; 29 days ago\n",
      "Typing discipline: Duck, dynamic, strong typing; gradual (since 3.5, but ignored in CPython)\n",
      "First appeared: February 1991; 30 years ago\n",
      "Paradigm: Multi-paradigm: object-oriented, procedural (imperative), functional, structured, reflective\n"
     ]
    }
   ],
   "source": [
    "print(s)"
   ]
  },
  {
   "cell_type": "code",
   "execution_count": 25,
   "id": "a811d962",
   "metadata": {},
   "outputs": [
    {
     "name": "stdout",
     "output_type": "stream",
     "text": [
      "[]\n"
     ]
    }
   ],
   "source": [
    "print(re.findall(\"^a..\", s))"
   ]
  },
  {
   "cell_type": "code",
   "execution_count": 27,
   "id": "b11faee3",
   "metadata": {},
   "outputs": [
    {
     "name": "stdout",
     "output_type": "stream",
     "text": [
      "['Pyt']\n"
     ]
    }
   ],
   "source": [
    "print(re.findall(\"^P..\", s))"
   ]
  },
  {
   "cell_type": "code",
   "execution_count": 28,
   "id": "46fafecb",
   "metadata": {},
   "outputs": [
    {
     "name": "stdout",
     "output_type": "stream",
     "text": [
      "['Py']\n"
     ]
    }
   ],
   "source": [
    "print(re.findall(\"\\A..\", s))"
   ]
  },
  {
   "cell_type": "code",
   "execution_count": 29,
   "id": "fff935fc",
   "metadata": {},
   "outputs": [
    {
     "name": "stdout",
     "output_type": "stream",
     "text": [
      "['ive']\n"
     ]
    }
   ],
   "source": [
    "print(re.findall(\"..e$\", s))"
   ]
  },
  {
   "cell_type": "code",
   "execution_count": 30,
   "id": "90a3066f",
   "metadata": {},
   "outputs": [
    {
     "name": "stdout",
     "output_type": "stream",
     "text": [
      "['cfnjuZ']\n"
     ]
    }
   ],
   "source": [
    "st = \"ahsdfhrtsbcfnjuZ\"\n",
    "\n",
    "print(re.findall(\"......\\Z\", st))"
   ]
  },
  {
   "cell_type": "code",
   "execution_count": 31,
   "id": "0d8af0d4",
   "metadata": {},
   "outputs": [
    {
     "name": "stdout",
     "output_type": "stream",
     "text": [
      "['Pyt', 'hon', ' is', ' an', ' in', 'ter', 'pre', 'ted', ' hi', 'gh-', 'lev', 'el ', 'gen', 'era', 'l-p', 'urp', 'ose', ' pr', 'ogr', 'amm', 'ing', ' la', 'ngu', 'age', '. P', 'yth', \"on'\", 's d', 'esi', 'gn ', 'phi', 'los', 'oph', 'y e', 'mph', 'asi', 'zes', ' co', 'de ', 'rea', 'dab', 'ili', 'ty ', 'wit', 'h i', 'ts ', 'not', 'abl', 'e u', 'se ', 'of ', 'sig', 'nif', 'ica', 'nt ', 'ind', 'ent', 'ati', 'on.', ' Wi', 'kip', 'edi', 'Dev', 'elo', 'per', ': P', 'yth', 'on ', 'Sof', 'twa', 're ', 'Fou', 'nda', 'tio', 'Sta', 'ble', ' re', 'lea', 'se:', ' 3.', '9.5', ' / ', '3 M', 'ay ', '202', '1; ', '29 ', 'day', 's a', 'Pre', 'vie', 'w r', 'ele', 'ase', ': 3', '.10', '.0b', '1 /', ' 3 ', 'May', ' 20', '21;', ' 29', ' da', 'ys ', 'ago', 'Typ', 'ing', ' di', 'sci', 'pli', 'ne:', ' Du', 'ck,', ' dy', 'nam', 'ic,', ' st', 'ron', 'g t', 'ypi', 'ng;', ' gr', 'adu', 'al ', '(si', 'nce', ' 3.', '5, ', 'but', ' ig', 'nor', 'ed ', 'in ', 'CPy', 'tho', 'Fir', 'st ', 'app', 'ear', 'ed:', ' Fe', 'bru', 'ary', ' 19', '91;', ' 30', ' ye', 'ars', ' ag', 'Par', 'adi', 'gm:', ' Mu', 'lti', '-pa', 'rad', 'igm', ': o', 'bje', 'ct-', 'ori', 'ent', 'ed,', ' pr', 'oce', 'dur', 'al ', '(im', 'per', 'ati', 've)', ', f', 'unc', 'tio', 'nal', ', s', 'tru', 'ctu', 'red', ', r', 'efl', 'ect', 'ive']\n"
     ]
    }
   ],
   "source": [
    "print(re.findall(\"...\", s))"
   ]
  },
  {
   "cell_type": "code",
   "execution_count": 32,
   "id": "44476ea9",
   "metadata": {},
   "outputs": [
    {
     "name": "stdout",
     "output_type": "stream",
     "text": [
      "['Pyt', 'hon', ' is', ' an', ' in', 'ter', 'pre', 'ted', ' hi', 'h-l', 'eve', 'l g', 'ene', 'ral', '-pu', 'rpo', 'e p', 'rog', 'ram', 'min', 'g l', 'ang', 'uag', ' Py', 'tho', \"n's\", ' de', 'sig', 'n p', 'hil', 'oso', 'phy', ' em', 'pha', 'siz', 's c', 'ode', ' re', 'ada', 'bil', 'ity', ' wi', 'h i', 's n', 'ota', 'ble', ' us', 'e o', 'f s', 'ign', 'ifi', 'can', 't i', 'nde', 'nta', 'tio', ' Wi', 'kip', 'edi', 'Dev', 'elo', 'per', ' Py', 'tho', ' So', 'ftw', 'are', ' Fo', 'und', 'ati', 'Sta', 'ble', ' re', 'lea', ' Ma', '9 d', 'ays', ' ag', 'Pre', 'vie', 'w r', 'ele', 'ase', '.0b', ' Ma', '9 d', 'ays', ' ag', 'Typ', 'ing', ' di', 'sci', 'pli', ' Du', ', d', 'yna', 'mic', ', s', 'tro', 'g t', 'ypi', '; g', 'rad', 'ual', ' (s', 'inc', ', b', 't i', 'gno', 'red', ' in', 'CPy', 'tho', 'Fir', 't a', 'ppe', 'are', ' Fe', 'bru', 'ary', '0 y', 'ear', 's a', 'Par', 'adi', ' Mu', 'lti', '-pa', 'rad', 'igm', ': o', 'bje', 't-o', 'rie', 'nte', ', p', 'roc', 'edu', 'ral', ' (i', 'mpe', 'rat', 'ive', ', f', 'unc', 'tio', 'nal', ', s', 'tru', 'ctu', 'red', ', r', 'efl', 'ect', 'ive']\n"
     ]
    }
   ],
   "source": [
    "print(re.findall(\"..[a-z]\", s))"
   ]
  },
  {
   "cell_type": "code",
   "execution_count": 33,
   "id": "50ec7cb1",
   "metadata": {},
   "outputs": [
    {
     "name": "stdout",
     "output_type": "stream",
     "text": [
      "['yth', 'n i', 's a', 'n i', 'nte', 'rpr', 'ete', 'd h', 'igh', 'lev', 'l g', 'ene', 'ral', 'pur', 'pos', 'e p', 'rog', 'ram', 'min', 'g l', 'ang', 'uag', 'yth', \"n's\", 'des', 'ign', 'phi', 'los', 'oph', 'y e', 'mph', 'asi', 'zes', 'cod', 'e r', 'ead', 'abi', 'lit', 'y w', 'ith', 'its', 'not', 'abl', 'e u', 'e o', 'f s', 'ign', 'ifi', 'can', 't i', 'nde', 'nta', 'tio', 'iki', 'ped', 'eve', 'lop', 'yth', 'oft', 'war', 'oun', 'dat', 'ion', 'tab', 'e r', 'ele', 'ase', 'day', 's a', 'rev', 'iew', 'rel', 'eas', 'day', 's a', 'ypi', 'g d', 'isc', 'ipl', 'ine', 'uck', 'dyn', 'ami', 'str', 'ong', 'typ', 'ing', 'gra', 'dua', 'sin', 'but', 'ign', 'ore', 'd i', 'yth', 'irs', 't a', 'ppe', 'are', 'ebr', 'uar', 'yea', 's a', 'ara', 'dig', 'ult', 'i-p', 'ara', 'dig', 'obj', 'ect', 'ori', 'ent', 'pro', 'ced', 'ura', 'imp', 'era', 'tiv', 'fun', 'cti', 'ona', 'str', 'uct', 'ure', 'ref', 'lec', 'tiv']\n"
     ]
    }
   ],
   "source": [
    "print(re.findall(\"[a-z].[a-z]\", s))"
   ]
  },
  {
   "cell_type": "code",
   "execution_count": 34,
   "id": "ee583014",
   "metadata": {},
   "outputs": [
    {
     "name": "stdout",
     "output_type": "stream",
     "text": [
      "['Pyt', 'hon', 's a', 'n i', 'nte', 'rpr', 'ete', 'd h', 'igh', 'lev', 'l g', 'ene', 'ral', 'pur', 'pos', 'e p', 'rog', 'ram', 'min', 'g l', 'ang', 'uag', 'Pyt', 'hon', 's d', 'esi', 'n p', 'hil', 'oso', 'phy', 'emp', 'has', 'ize', 's c', 'ode', 'rea', 'dab', 'ili', 'y w', 'ith', 'its', 'not', 'abl', 'e u', 'e o', 'f s', 'ign', 'ifi', 'can', 't i', 'nde', 'nta', 'tio', 'Wik', 'ipe', 'dia', 'Dev', 'elo', 'per', 'Pyt', 'hon', 'Sof', 'twa', 'Fou', 'nda', 'tio', 'Sta', 'ble', 'rel', 'eas', 'May', 'day', 's a', 'Pre', 'vie', 'w r', 'ele', 'ase', 'May', 'day', 's a', 'Typ', 'ing', 'dis', 'cip', 'lin', 'Duc', 'dyn', 'ami', 'str', 'ong', 'typ', 'ing', 'gra', 'dua', 'sin', 'but', 'ign', 'ore', 'd i', 'CPy', 'tho', 'Fir', 't a', 'ppe', 'are', 'Feb', 'rua', 'yea', 's a', 'Par', 'adi', 'Mul', 'i-p', 'ara', 'dig', 'obj', 'ect', 'ori', 'ent', 'pro', 'ced', 'ura', 'imp', 'era', 'tiv', 'fun', 'cti', 'ona', 'str', 'uct', 'ure', 'ref', 'lec', 'tiv']\n"
     ]
    }
   ],
   "source": [
    "print(re.findall(\"[A-Za-z].[a-z]\", s))"
   ]
  },
  {
   "cell_type": "code",
   "execution_count": 35,
   "id": "f1496b2f",
   "metadata": {},
   "outputs": [
    {
     "name": "stdout",
     "output_type": "stream",
     "text": [
      "['Pyt', 'hon', 'int', 'erp', 'ret', 'hig', 'lev', 'gen', 'era', 'pur', 'pos', 'pro', 'gra', 'mmi', 'lan', 'gua', 'Pyt', 'hon', 'des', 'ign', 'phi', 'los', 'oph', 'emp', 'has', 'ize', 'cod', 'rea', 'dab', 'ili', 'wit', 'its', 'not', 'abl', 'use', 'sig', 'nif', 'ica', 'ind', 'ent', 'ati', 'Wik', 'ipe', 'dia', 'Dev', 'elo', 'per', 'Pyt', 'hon', 'Sof', 'twa', 'Fou', 'nda', 'tio', 'Sta', 'ble', 'rel', 'eas', 'May', 'day', 'ago', 'Pre', 'vie', 'rel', 'eas', 'May', 'day', 'ago', 'Typ', 'ing', 'dis', 'cip', 'lin', 'Duc', 'dyn', 'ami', 'str', 'ong', 'typ', 'ing', 'gra', 'dua', 'sin', 'but', 'ign', 'ore', 'Pyt', 'hon', 'Fir', 'app', 'ear', 'Feb', 'rua', 'yea', 'ago', 'Par', 'adi', 'Mul', 'par', 'adi', 'obj', 'ect', 'ori', 'ent', 'pro', 'ced', 'ura', 'imp', 'era', 'tiv', 'fun', 'cti', 'ona', 'str', 'uct', 'ure', 'ref', 'lec', 'tiv']\n"
     ]
    }
   ],
   "source": [
    "print(re.findall(\"[A-Za-z][a-z][a-z]\", s))"
   ]
  },
  {
   "cell_type": "code",
   "execution_count": 36,
   "id": "79037862",
   "metadata": {},
   "outputs": [
    {
     "name": "stdout",
     "output_type": "stream",
     "text": [
      "['Pyt', 'Pyt', 'Wik', 'Dev', 'Pyt', 'Sof', 'Fou', 'Sta', 'May', 'Pre', 'May', 'Typ', 'Duc', 'Pyt', 'Fir', 'Feb', 'Par', 'Mul']\n"
     ]
    }
   ],
   "source": [
    "print(re.findall(\"[A-Z][a-z][a-z]\", s))"
   ]
  },
  {
   "cell_type": "code",
   "execution_count": 37,
   "id": "8f7e8e8e",
   "metadata": {},
   "outputs": [],
   "source": [
    "d= \"Today I received 20$ from my manager\""
   ]
  },
  {
   "cell_type": "code",
   "execution_count": 38,
   "id": "8171ab96",
   "metadata": {},
   "outputs": [
    {
     "name": "stdout",
     "output_type": "stream",
     "text": [
      "['$']\n"
     ]
    }
   ],
   "source": [
    "print(re.findall(\"\\$\", d))"
   ]
  },
  {
   "cell_type": "code",
   "execution_count": 39,
   "id": "66d90830",
   "metadata": {},
   "outputs": [
    {
     "name": "stdout",
     "output_type": "stream",
     "text": [
      "[]\n"
     ]
    }
   ],
   "source": [
    "print(re.findall(\"..e$\", d))"
   ]
  },
  {
   "cell_type": "code",
   "execution_count": 40,
   "id": "b68d9a73",
   "metadata": {},
   "outputs": [
    {
     "name": "stdout",
     "output_type": "stream",
     "text": [
      "Python is an interpreted high-level general-purpose programming language. Python's design philosophy emphasizes code readability with its notable use of significant indentation. Wikipedia\n",
      "Developer: Python Software Foundation\n",
      "Stable release: 3.9.5 / 3 May 2021; 29 days ago\n",
      "Preview release: 3.10.0b1 / 3 May 2021; 29 days ago\n",
      "Typing discipline: Duck, dynamic, strong typing; gradual (since 3.5, but ignored in CPython)\n",
      "First appeared: February 1991; 30 years ago\n",
      "Paradigm: Multi-paradigm: object-oriented, procedural (imperative), functional, structured, reflective\n"
     ]
    }
   ],
   "source": [
    "print(s)"
   ]
  },
  {
   "cell_type": "code",
   "execution_count": 41,
   "id": "1f64486d",
   "metadata": {},
   "outputs": [
    {
     "name": "stdout",
     "output_type": "stream",
     "text": [
      "['P', 'y', 't', 'h', 'o', 'n', 'i', 's', 'a', 'n', 'i', 'n', 't', 'e', 'r', 'p', 'r', 'e', 't', 'e', 'd', 'h', 'i', 'g', 'h', 'l', 'e', 'v', 'e', 'l', 'g', 'e', 'n', 'e', 'r', 'a', 'l', 'p', 'u', 'r', 'p', 'o', 's', 'e', 'p', 'r', 'o', 'g', 'r', 'a', 'm', 'm', 'i', 'n', 'g', 'l', 'a', 'n', 'g', 'u', 'a', 'g', 'e', 'P', 'y', 't', 'h', 'o', 'n', 's', 'd', 'e', 's', 'i', 'g', 'n', 'p', 'h', 'i', 'l', 'o', 's', 'o', 'p', 'h', 'y', 'e', 'm', 'p', 'h', 'a', 's', 'i', 'z', 'e', 's', 'c', 'o', 'd', 'e', 'r', 'e', 'a', 'd', 'a', 'b', 'i', 'l', 'i', 't', 'y', 'w', 'i', 't', 'h', 'i', 't', 's', 'n', 'o', 't', 'a', 'b', 'l', 'e', 'u', 's', 'e', 'o', 'f', 's', 'i', 'g', 'n', 'i', 'f', 'i', 'c', 'a', 'n', 't', 'i', 'n', 'd', 'e', 'n', 't', 'a', 't', 'i', 'o', 'n', 'W', 'i', 'k', 'i', 'p', 'e', 'd', 'i', 'a', 'D', 'e', 'v', 'e', 'l', 'o', 'p', 'e', 'r', 'P', 'y', 't', 'h', 'o', 'n', 'S', 'o', 'f', 't', 'w', 'a', 'r', 'e', 'F', 'o', 'u', 'n', 'd', 'a', 't', 'i', 'o', 'n', 'S', 't', 'a', 'b', 'l', 'e', 'r', 'e', 'l', 'e', 'a', 's', 'e', '3', '9', '5', '3', 'M', 'a', 'y', '2', '0', '2', '1', '2', '9', 'd', 'a', 'y', 's', 'a', 'g', 'o', 'P', 'r', 'e', 'v', 'i', 'e', 'w', 'r', 'e', 'l', 'e', 'a', 's', 'e', '3', '1', '0', '0', 'b', '1', '3', 'M', 'a', 'y', '2', '0', '2', '1', '2', '9', 'd', 'a', 'y', 's', 'a', 'g', 'o', 'T', 'y', 'p', 'i', 'n', 'g', 'd', 'i', 's', 'c', 'i', 'p', 'l', 'i', 'n', 'e', 'D', 'u', 'c', 'k', 'd', 'y', 'n', 'a', 'm', 'i', 'c', 's', 't', 'r', 'o', 'n', 'g', 't', 'y', 'p', 'i', 'n', 'g', 'g', 'r', 'a', 'd', 'u', 'a', 'l', 's', 'i', 'n', 'c', 'e', '3', '5', 'b', 'u', 't', 'i', 'g', 'n', 'o', 'r', 'e', 'd', 'i', 'n', 'C', 'P', 'y', 't', 'h', 'o', 'n', 'F', 'i', 'r', 's', 't', 'a', 'p', 'p', 'e', 'a', 'r', 'e', 'd', 'F', 'e', 'b', 'r', 'u', 'a', 'r', 'y', '1', '9', '9', '1', '3', '0', 'y', 'e', 'a', 'r', 's', 'a', 'g', 'o', 'P', 'a', 'r', 'a', 'd', 'i', 'g', 'm', 'M', 'u', 'l', 't', 'i', 'p', 'a', 'r', 'a', 'd', 'i', 'g', 'm', 'o', 'b', 'j', 'e', 'c', 't', 'o', 'r', 'i', 'e', 'n', 't', 'e', 'd', 'p', 'r', 'o', 'c', 'e', 'd', 'u', 'r', 'a', 'l', 'i', 'm', 'p', 'e', 'r', 'a', 't', 'i', 'v', 'e', 'f', 'u', 'n', 'c', 't', 'i', 'o', 'n', 'a', 'l', 's', 't', 'r', 'u', 'c', 't', 'u', 'r', 'e', 'd', 'r', 'e', 'f', 'l', 'e', 'c', 't', 'i', 'v', 'e']\n"
     ]
    }
   ],
   "source": [
    "print(re.findall(\"\\w\", s))"
   ]
  },
  {
   "cell_type": "code",
   "execution_count": 42,
   "id": "72357028",
   "metadata": {},
   "outputs": [
    {
     "name": "stdout",
     "output_type": "stream",
     "text": [
      "[' ', ' ', ' ', ' ', '-', ' ', '-', ' ', ' ', '.', ' ', \"'\", ' ', ' ', ' ', ' ', ' ', ' ', ' ', ' ', ' ', ' ', ' ', ' ', '.', ' ', '\\n', ':', ' ', ' ', ' ', '\\n', ' ', ':', ' ', '.', '.', ' ', '/', ' ', ' ', ' ', ';', ' ', ' ', ' ', '\\n', ' ', ':', ' ', '.', '.', ' ', '/', ' ', ' ', ' ', ';', ' ', ' ', ' ', '\\n', ' ', ':', ' ', ',', ' ', ',', ' ', ' ', ';', ' ', ' ', '(', ' ', '.', ',', ' ', ' ', ' ', ' ', ')', '\\n', ' ', ':', ' ', ' ', ';', ' ', ' ', ' ', '\\n', ':', ' ', '-', ':', ' ', '-', ',', ' ', ' ', '(', ')', ',', ' ', ',', ' ', ',', ' ']\n"
     ]
    }
   ],
   "source": [
    "print(re.findall(\"\\W\", s))"
   ]
  },
  {
   "cell_type": "code",
   "execution_count": 43,
   "id": "abb908d5",
   "metadata": {},
   "outputs": [
    {
     "name": "stdout",
     "output_type": "stream",
     "text": [
      "['3', '9', '5', '3', '2', '0', '2', '1', '2', '9', '3', '1', '0', '0', '1', '3', '2', '0', '2', '1', '2', '9', '3', '5', '1', '9', '9', '1', '3', '0']\n"
     ]
    }
   ],
   "source": [
    "print(re.findall(\"\\d\", s))"
   ]
  },
  {
   "cell_type": "code",
   "execution_count": 44,
   "id": "b96f7cef",
   "metadata": {},
   "outputs": [
    {
     "name": "stdout",
     "output_type": "stream",
     "text": [
      "['20', '21', '29', '10', '20', '21', '29', '19', '91', '30']\n"
     ]
    }
   ],
   "source": [
    "print(re.findall(\"\\d\\d\", s))"
   ]
  },
  {
   "cell_type": "code",
   "execution_count": 45,
   "id": "e372ee74",
   "metadata": {},
   "outputs": [
    {
     "name": "stdout",
     "output_type": "stream",
     "text": [
      "['2021', '2021', '1991']\n"
     ]
    }
   ],
   "source": [
    "print(re.findall(\"\\d\\d\\d\\d\", s))"
   ]
  },
  {
   "cell_type": "code",
   "execution_count": 47,
   "id": "4b2117ba",
   "metadata": {},
   "outputs": [
    {
     "name": "stdout",
     "output_type": "stream",
     "text": [
      "[]\n"
     ]
    }
   ],
   "source": [
    "n = \"5676\"\n",
    "\n",
    "print(re.findall(\"^\\d\\d\\d$\", n))"
   ]
  },
  {
   "cell_type": "code",
   "execution_count": 48,
   "id": "11f91857",
   "metadata": {},
   "outputs": [
    {
     "name": "stdout",
     "output_type": "stream",
     "text": [
      "['305']\n"
     ]
    }
   ],
   "source": [
    "print(re.findall(\"^\\d\\d\\d$\", \"305\"))"
   ]
  },
  {
   "cell_type": "code",
   "execution_count": 49,
   "id": "5e1925d0",
   "metadata": {},
   "outputs": [
    {
     "name": "stdout",
     "output_type": "stream",
     "text": [
      "['P', 'y', 't', 'h', 'o', 'n', 'i', 's', 'a', 'n', 'i', 'n', 't', 'e', 'r', 'p', 'r', 'e', 't', 'e', 'd', 'h', 'i', 'g', 'h', '-', 'l', 'e', 'v', 'e', 'l', 'g', 'e', 'n', 'e', 'r', 'a', 'l', '-', 'p', 'u', 'r', 'p', 'o', 's', 'e', 'p', 'r', 'o', 'g', 'r', 'a', 'm', 'm', 'i', 'n', 'g', 'l', 'a', 'n', 'g', 'u', 'a', 'g', 'e', '.', 'P', 'y', 't', 'h', 'o', 'n', \"'\", 's', 'd', 'e', 's', 'i', 'g', 'n', 'p', 'h', 'i', 'l', 'o', 's', 'o', 'p', 'h', 'y', 'e', 'm', 'p', 'h', 'a', 's', 'i', 'z', 'e', 's', 'c', 'o', 'd', 'e', 'r', 'e', 'a', 'd', 'a', 'b', 'i', 'l', 'i', 't', 'y', 'w', 'i', 't', 'h', 'i', 't', 's', 'n', 'o', 't', 'a', 'b', 'l', 'e', 'u', 's', 'e', 'o', 'f', 's', 'i', 'g', 'n', 'i', 'f', 'i', 'c', 'a', 'n', 't', 'i', 'n', 'd', 'e', 'n', 't', 'a', 't', 'i', 'o', 'n', '.', 'W', 'i', 'k', 'i', 'p', 'e', 'd', 'i', 'a', 'D', 'e', 'v', 'e', 'l', 'o', 'p', 'e', 'r', ':', 'P', 'y', 't', 'h', 'o', 'n', 'S', 'o', 'f', 't', 'w', 'a', 'r', 'e', 'F', 'o', 'u', 'n', 'd', 'a', 't', 'i', 'o', 'n', 'S', 't', 'a', 'b', 'l', 'e', 'r', 'e', 'l', 'e', 'a', 's', 'e', ':', '3', '.', '9', '.', '5', '/', '3', 'M', 'a', 'y', '2', '0', '2', '1', ';', '2', '9', 'd', 'a', 'y', 's', 'a', 'g', 'o', 'P', 'r', 'e', 'v', 'i', 'e', 'w', 'r', 'e', 'l', 'e', 'a', 's', 'e', ':', '3', '.', '1', '0', '.', '0', 'b', '1', '/', '3', 'M', 'a', 'y', '2', '0', '2', '1', ';', '2', '9', 'd', 'a', 'y', 's', 'a', 'g', 'o', 'T', 'y', 'p', 'i', 'n', 'g', 'd', 'i', 's', 'c', 'i', 'p', 'l', 'i', 'n', 'e', ':', 'D', 'u', 'c', 'k', ',', 'd', 'y', 'n', 'a', 'm', 'i', 'c', ',', 's', 't', 'r', 'o', 'n', 'g', 't', 'y', 'p', 'i', 'n', 'g', ';', 'g', 'r', 'a', 'd', 'u', 'a', 'l', '(', 's', 'i', 'n', 'c', 'e', '3', '.', '5', ',', 'b', 'u', 't', 'i', 'g', 'n', 'o', 'r', 'e', 'd', 'i', 'n', 'C', 'P', 'y', 't', 'h', 'o', 'n', ')', 'F', 'i', 'r', 's', 't', 'a', 'p', 'p', 'e', 'a', 'r', 'e', 'd', ':', 'F', 'e', 'b', 'r', 'u', 'a', 'r', 'y', '1', '9', '9', '1', ';', '3', '0', 'y', 'e', 'a', 'r', 's', 'a', 'g', 'o', 'P', 'a', 'r', 'a', 'd', 'i', 'g', 'm', ':', 'M', 'u', 'l', 't', 'i', '-', 'p', 'a', 'r', 'a', 'd', 'i', 'g', 'm', ':', 'o', 'b', 'j', 'e', 'c', 't', '-', 'o', 'r', 'i', 'e', 'n', 't', 'e', 'd', ',', 'p', 'r', 'o', 'c', 'e', 'd', 'u', 'r', 'a', 'l', '(', 'i', 'm', 'p', 'e', 'r', 'a', 't', 'i', 'v', 'e', ')', ',', 'f', 'u', 'n', 'c', 't', 'i', 'o', 'n', 'a', 'l', ',', 's', 't', 'r', 'u', 'c', 't', 'u', 'r', 'e', 'd', ',', 'r', 'e', 'f', 'l', 'e', 'c', 't', 'i', 'v', 'e']\n"
     ]
    }
   ],
   "source": [
    "print(re.findall(\"\\S\", s))"
   ]
  },
  {
   "cell_type": "code",
   "execution_count": 50,
   "id": "cb56e150",
   "metadata": {},
   "outputs": [
    {
     "data": {
      "text/plain": [
       "'Today I received 20$ from my manager'"
      ]
     },
     "execution_count": 50,
     "metadata": {},
     "output_type": "execute_result"
    }
   ],
   "source": [
    "d\n"
   ]
  },
  {
   "cell_type": "code",
   "execution_count": 51,
   "id": "7d6b23fc",
   "metadata": {},
   "outputs": [
    {
     "name": "stdout",
     "output_type": "stream",
     "text": [
      "[]\n"
     ]
    }
   ],
   "source": [
    "print(re.findall(\"\\b\", d))"
   ]
  },
  {
   "cell_type": "code",
   "execution_count": 52,
   "id": "524aa5c2",
   "metadata": {},
   "outputs": [
    {
     "name": "stdout",
     "output_type": "stream",
     "text": [
      "['P', '', '', '', '', '', '', '', '', '', '', '', '', '', '', '', '', '', '', '', '', '', '', '', '', '', '', '', '', '', '', '', '', '', '', '', '', '', '', '', '', '', '', '', '', '', '', '', '', '', '', '', '', '', '', '', '', '', '', '', '', '', '', '', '', '', '', '', '', '', '', '', '', '', 'P', '', '', '', '', '', '', '', '', '', '', '', '', '', '', '', '', '', '', '', '', '', '', '', '', '', '', '', '', '', '', '', '', '', '', '', '', '', '', '', '', '', '', '', '', '', '', '', '', '', '', '', '', '', '', '', '', '', '', '', '', '', '', '', '', '', '', '', '', '', '', '', '', '', '', '', '', '', '', '', '', '', '', '', '', '', '', '', '', '', '', '', '', '', '', '', '', '', '', '', '', '', '', '', '', '', '', '', '', '', '', '', '', '', '', '', '', '', '', '', '', '', '', '', '', 'P', '', '', '', '', '', '', '', '', '', '', '', '', '', '', '', '', '', '', '', '', '', '', '', '', '', '', '', '', '', '', '', '', '', '', '', '', '', '', '', '', '', '', '', '', '', '', '', '', '', '', '', '', '', '', '', '', '', '', '', '', '', '', '', '', '', '', '', '', '', '', '', '', '', '', 'P', '', '', '', '', '', '', '', '', '', '', '', '', '', '', '', '', '', '', '', '', '', '', '', '', '', '', '', '', '', '', '', '', '', '', '', '', '', '', '', '', '', '', '', '', '', '', '', '', '', '', '', '', '', '', '', '', '', '', '', '', '', '', '', '', '', '', '', '', '', '', '', '', '', '', '', '', '', '', '', '', '', '', '', '', '', '', '', '', '', '', '', '', '', '', '', '', '', '', '', '', '', '', '', '', '', '', '', '', '', '', '', '', '', '', '', '', '', '', '', '', '', '', '', '', '', '', '', '', '', '', '', '', '', '', '', '', 'P', '', '', '', '', '', '', '', '', '', '', '', '', '', '', '', '', '', '', '', '', '', '', '', '', '', '', '', '', '', '', '', '', '', '', '', '', '', '', '', '', '', '', '', '', '', '', '', '', '', '', '', 'P', '', '', '', '', '', '', '', '', '', '', '', '', '', '', '', '', '', '', '', '', '', '', '', '', '', '', '', '', '', '', '', '', '', '', '', '', '', '', '', '', '', '', '', '', '', '', '', '', '', '', '', '', '', '', '', '', '', '', '', '', '', '', '', '', '', '', '', '', '', '', '', '', '', '', '', '', '', '', '', '', '', '', '', '', '', '', '', '', '', '', '', '', '', '', '', '', '', '', '', '', '', '']\n"
     ]
    }
   ],
   "source": [
    "print(re.findall(\"P*\", s))"
   ]
  },
  {
   "cell_type": "code",
   "execution_count": 53,
   "id": "b1678199",
   "metadata": {},
   "outputs": [
    {
     "name": "stdout",
     "output_type": "stream",
     "text": [
      "[\"Python is an interpreted high-level general-purpose programming language. Python's design philosophy emphasizes code readability with its notable use of significant indentation. Wikipedia\", 'Python Software Foundation', 'Preview release: 3.10.0b1 / 3 May 2021; 29 days ago', 'Python)', 'Paradigm: Multi-paradigm: object-oriented, procedural (imperative), functional, structured, reflective']\n"
     ]
    }
   ],
   "source": [
    "print(re.findall(\"P.*\", s))"
   ]
  },
  {
   "cell_type": "code",
   "execution_count": 54,
   "id": "0aca50f5",
   "metadata": {},
   "outputs": [
    {
     "name": "stdout",
     "output_type": "stream",
     "text": [
      "['P', 'P', 'P', 'P', 'P', 'P']\n"
     ]
    }
   ],
   "source": [
    "print(re.findall(\"P\\d*\", s))"
   ]
  },
  {
   "cell_type": "code",
   "execution_count": 55,
   "id": "9354962e",
   "metadata": {},
   "outputs": [],
   "source": [
    "email = \"sanjanachidipotu@gmail.com\""
   ]
  },
  {
   "cell_type": "code",
   "execution_count": 56,
   "id": "0f540097",
   "metadata": {},
   "outputs": [
    {
     "name": "stdout",
     "output_type": "stream",
     "text": [
      "['s', 'a', 'n', 'j', 'a', 'n', 'a', 'c', 'h', 'i', 'd', 'i', 'p', 'o', 't', 'u', 'g', 'm', 'a', 'i', 'l', 'c', 'o', 'm']\n"
     ]
    }
   ],
   "source": [
    "print(re.findall(\"[a-z]\", email))"
   ]
  },
  {
   "cell_type": "code",
   "execution_count": 57,
   "id": "1d7a1c16",
   "metadata": {},
   "outputs": [
    {
     "name": "stdout",
     "output_type": "stream",
     "text": [
      "['sanjanachidipotu', '', 'gmail', '', 'com', '']\n"
     ]
    }
   ],
   "source": [
    "print(re.findall(\"[a-z]*\", email))"
   ]
  },
  {
   "cell_type": "code",
   "execution_count": 58,
   "id": "64fe2f66",
   "metadata": {},
   "outputs": [],
   "source": [
    "email = \"sanjana_chidipotu@gmail.com\""
   ]
  },
  {
   "cell_type": "code",
   "execution_count": 59,
   "id": "bac8a133",
   "metadata": {},
   "outputs": [
    {
     "name": "stdout",
     "output_type": "stream",
     "text": [
      "['sanjana_chidipotu', '', 'gmail', '', 'com', '']\n"
     ]
    }
   ],
   "source": [
    "print(re.findall(\"[a-z_]*\", email))"
   ]
  },
  {
   "cell_type": "code",
   "execution_count": 60,
   "id": "9ac48590",
   "metadata": {},
   "outputs": [
    {
     "name": "stdout",
     "output_type": "stream",
     "text": [
      "['sanjana', 'chidipotu', 'gmail', 'com']\n"
     ]
    }
   ],
   "source": [
    "print(re.findall(\"[a-z]+\", email))"
   ]
  },
  {
   "cell_type": "code",
   "execution_count": 62,
   "id": "c5a39a8e",
   "metadata": {},
   "outputs": [
    {
     "name": "stdout",
     "output_type": "stream",
     "text": [
      "['s', 'a', 'n', 'j', 'a', 'n', 'a', '', 'c', 'h', 'i', 'd', 'i', 'p', 'o', 't', 'u', '', 'g', 'm', 'a', 'i', 'l', '', 'c', 'o', 'm', '']\n"
     ]
    }
   ],
   "source": [
    "print(re.findall(\"[a-z]?\", email))"
   ]
  },
  {
   "cell_type": "code",
   "execution_count": 63,
   "id": "288b5f1e",
   "metadata": {},
   "outputs": [
    {
     "name": "stdout",
     "output_type": "stream",
     "text": [
      "['sa', 'nj', 'an', 'a', 'ch', 'id', 'ip', 'ot', 'u', 'gm', 'ai', 'l', 'co', 'm']\n"
     ]
    }
   ],
   "source": [
    "print(re.findall(\"[a-z]?[a-z]\", email))"
   ]
  },
  {
   "cell_type": "code",
   "execution_count": 66,
   "id": "d9203adf",
   "metadata": {},
   "outputs": [
    {
     "name": "stdout",
     "output_type": "stream",
     "text": [
      "['sanja']\n"
     ]
    }
   ],
   "source": [
    "print(re.findall(\"[a-z]{5}\", \"sanjana\"))"
   ]
  },
  {
   "cell_type": "code",
   "execution_count": 67,
   "id": "179a1f26",
   "metadata": {},
   "outputs": [],
   "source": [
    "ip = \"163.125.255.125\"\n",
    "\n",
    "ip2 = \"172.160.250.5\""
   ]
  },
  {
   "cell_type": "code",
   "execution_count": 68,
   "id": "26cb8725",
   "metadata": {},
   "outputs": [
    {
     "data": {
      "text/plain": [
       "<re.Match object; span=(0, 15), match='163.125.255.125'>"
      ]
     },
     "execution_count": 68,
     "metadata": {},
     "output_type": "execute_result"
    }
   ],
   "source": [
    "re.match(\"163.125.255.[0-2][0-5][0-5]\", ip)"
   ]
  },
  {
   "cell_type": "code",
   "execution_count": 69,
   "id": "fc6987ce",
   "metadata": {},
   "outputs": [
    {
     "name": "stdout",
     "output_type": "stream",
     "text": [
      "<re.Match object; span=(0, 15), match='163.125.255.125'>\n"
     ]
    }
   ],
   "source": [
    "print(re.match(\"163.125.255.[0-2][0-5][0-5]\", ip))"
   ]
  },
  {
   "cell_type": "code",
   "execution_count": 70,
   "id": "bf0c508e",
   "metadata": {},
   "outputs": [
    {
     "name": "stdout",
     "output_type": "stream",
     "text": [
      "None\n"
     ]
    }
   ],
   "source": [
    "print(re.match(\"163.125.255.[0-2][0-5][0-5]\", ip2))"
   ]
  },
  {
   "cell_type": "code",
   "execution_count": 71,
   "id": "30a3fdb1",
   "metadata": {},
   "outputs": [
    {
     "data": {
      "text/plain": [
       "(0, 15)"
      ]
     },
     "execution_count": 71,
     "metadata": {},
     "output_type": "execute_result"
    }
   ],
   "source": [
    "obj = re.match(\"163.125.255.[0-2][0-5][0-5]\", ip)\n",
    "\n",
    "obj.span()"
   ]
  },
  {
   "cell_type": "code",
   "execution_count": 72,
   "id": "e9b1ddf4",
   "metadata": {},
   "outputs": [
    {
     "name": "stdout",
     "output_type": "stream",
     "text": [
      "None\n"
     ]
    }
   ],
   "source": [
    "ip3 = \"163.125.125.125opa\"\n",
    "\n",
    "print(re.match(\"163.125.255.[0-2][0-5][0-5]\", ip3))"
   ]
  },
  {
   "cell_type": "code",
   "execution_count": 73,
   "id": "d9bcb3ac",
   "metadata": {},
   "outputs": [
    {
     "name": "stdout",
     "output_type": "stream",
     "text": [
      "None\n"
     ]
    }
   ],
   "source": [
    "ip3 = \"163.125.125.125opa\"\n",
    "\n",
    "print(re.match(\"163.125.255.[0-2][0-5][0-5]$\", ip3))"
   ]
  },
  {
   "cell_type": "code",
   "execution_count": 74,
   "id": "9c66f090",
   "metadata": {},
   "outputs": [],
   "source": [
    "re.match(\"163.125.255.[0-2][0-5][0-5]$\", ip3)"
   ]
  },
  {
   "cell_type": "code",
   "execution_count": 75,
   "id": "5249a80d",
   "metadata": {},
   "outputs": [
    {
     "data": {
      "text/plain": [
       "<re.Match object; span=(0, 15), match='163.125.255.125'>"
      ]
     },
     "execution_count": 75,
     "metadata": {},
     "output_type": "execute_result"
    }
   ],
   "source": [
    "re.match(\"163.125.255.[0-2][0-5][0-5]$\", ip)"
   ]
  },
  {
   "cell_type": "code",
   "execution_count": 76,
   "id": "578a9832",
   "metadata": {},
   "outputs": [
    {
     "data": {
      "text/plain": [
       "'163.125.255.125'"
      ]
     },
     "execution_count": 76,
     "metadata": {},
     "output_type": "execute_result"
    }
   ],
   "source": [
    "obj.string"
   ]
  },
  {
   "cell_type": "markdown",
   "id": "7ad2f98d",
   "metadata": {},
   "source": [
    "- +91\n",
    "- 6,7,8,9\n",
    "- 10 digit"
   ]
  },
  {
   "cell_type": "code",
   "execution_count": 77,
   "id": "57699e55",
   "metadata": {},
   "outputs": [],
   "source": [
    "m1 = \"9876543210\"\n",
    "m2 = \"3216542983\""
   ]
  },
  {
   "cell_type": "code",
   "execution_count": 78,
   "id": "aef1e75c",
   "metadata": {},
   "outputs": [
    {
     "data": {
      "text/plain": [
       "<re.Match object; span=(0, 10), match='9876543210'>"
      ]
     },
     "execution_count": 78,
     "metadata": {},
     "output_type": "execute_result"
    }
   ],
   "source": [
    "pattern = \"^[6789]\\d{9}$\"\n",
    "\n",
    "\n",
    "re.match(pattern, m1)"
   ]
  },
  {
   "cell_type": "code",
   "execution_count": 79,
   "id": "d520828a",
   "metadata": {},
   "outputs": [
    {
     "name": "stdout",
     "output_type": "stream",
     "text": [
      "<re.Match object; span=(0, 10), match='9876543210'> None\n"
     ]
    }
   ],
   "source": [
    "print(re.match(pattern, m1), re.match(pattern, m2))"
   ]
  },
  {
   "cell_type": "code",
   "execution_count": 82,
   "id": "d55df434",
   "metadata": {},
   "outputs": [
    {
     "name": "stdout",
     "output_type": "stream",
     "text": [
      "None\n"
     ]
    }
   ],
   "source": [
    "m4 = \"=919876543210\"\n",
    "\n",
    "pattern = \"^[+]91[6789]\\d{9}$\"\n",
    "print(re.match(pattern, m4))"
   ]
  },
  {
   "cell_type": "markdown",
   "id": "22f1d9b9",
   "metadata": {},
   "source": [
    "### Task\n",
    "\n",
    "\n",
    "- userName@domain.extension\n",
    "\n",
    "- userName\n",
    "    - a-zA-Z0-9\n",
    "    - not start with .0-9\n",
    "    - minimum 8 max 15\n",
    "    \n",
    "- @\n",
    "- Domain\n",
    "    - a-zA-Z0-9\n",
    "    - min 2 max 10\n",
    "- Extension\n",
    "    - a-zA-Z\n",
    "    - 2,5"
   ]
  },
  {
   "cell_type": "markdown",
   "id": "39279f95",
   "metadata": {},
   "source": [
    "### sub -> replace\n",
    "\n",
    "### Syntax\n",
    "\n",
    "sub(oldPattern, replace, string)"
   ]
  },
  {
   "cell_type": "code",
   "execution_count": 85,
   "id": "06bc7817",
   "metadata": {},
   "outputs": [
    {
     "name": "stdout",
     "output_type": "stream",
     "text": [
      "Python-is-an-interpreted-high-level-general-purpose-programming-language.-Python's-design-philosophy-emphasizes-code-readability-with-its-notable-use-of-significant-indentation.-Wikipedia-Developer:-Python-Software-Foundation-Stable-release:-3.9.5-/-3-May-2021;-29-days-ago-Preview-release:-3.10.0b1-/-3-May-2021;-29-days-ago-Typing-discipline:-Duck,-dynamic,-strong-typing;-gradual-(since-3.5,-but-ignored-in-CPython)-First-appeared:-February-1991;-30-years-ago-Paradigm:-Multi-paradigm:-object-oriented,-procedural-(imperative),-functional,-structured,-reflective\n"
     ]
    }
   ],
   "source": [
    "print(re.sub(\"\\s\", \"-\", s))"
   ]
  },
  {
   "cell_type": "code",
   "execution_count": 86,
   "id": "f2486eba",
   "metadata": {},
   "outputs": [
    {
     "name": "stdout",
     "output_type": "stream",
     "text": [
      "Python is an interpreted high-level general-purpose programming language. Python's design philosophy emphasizes code readability with its notable use of significant indentation. Wikipedia\n",
      "Developer: Python Software Foundation\n",
      "Stable release: 0.0.0 / 0 May 0000; 00 days ago\n",
      "Preview release: 0.00.0b0 / 0 May 0000; 00 days ago\n",
      "Typing discipline: Duck, dynamic, strong typing; gradual (since 0.0, but ignored in CPython)\n",
      "First appeared: February 0000; 00 years ago\n",
      "Paradigm: Multi-paradigm: object-oriented, procedural (imperative), functional, structured, reflective\n"
     ]
    }
   ],
   "source": [
    "print(re.sub(\"\\d\", \"0\", s))"
   ]
  },
  {
   "cell_type": "code",
   "execution_count": 87,
   "id": "eef09ada",
   "metadata": {},
   "outputs": [
    {
     "name": "stdout",
     "output_type": "stream",
     "text": [
      "Python***is***an***interpreted***high***level***general***purpose***programming***language******Python***s***design***philosophy***emphasizes***code***readability***with***its***notable***use***of***significant***indentation******Wikipedia***Developer******Python***Software***Foundation***Stable***release******3***9***5*********3***May***2021******29***days***ago***Preview***release******3***10***0b1*********3***May***2021******29***days***ago***Typing***discipline******Duck******dynamic******strong***typing******gradual******since***3***5******but***ignored***in***CPython******First***appeared******February***1991******30***years***ago***Paradigm******Multi***paradigm******object***oriented******procedural******imperative*********functional******structured******reflective\n"
     ]
    }
   ],
   "source": [
    "print(re.sub(\"\\W\", \"***\", s))"
   ]
  },
  {
   "cell_type": "code",
   "execution_count": 89,
   "id": "903755c4",
   "metadata": {},
   "outputs": [
    {
     "name": "stdout",
     "output_type": "stream",
     "text": [
      "****** ** ** *********** ********** *************** *********** ********* ******** ****** ********** ********** **** *********** **** *** ******* *** ** *********** ************ *********\n",
      "********** ****** ******** **********\n",
      "****** ******** ***** * * *** ***** ** **** ***\n",
      "******* ******** ******** * * *** ***** ** **** ***\n",
      "****** *********** ***** ******** ****** ******* ******* ****** **** *** ******* ** ********\n",
      "***** ********* ******** ***** ** ***** ***\n",
      "********* *************** **************** ********** ************* *********** *********** **********\n"
     ]
    }
   ],
   "source": [
    "print(re.sub(\"\\S\", \"*\", s))"
   ]
  },
  {
   "cell_type": "code",
   "execution_count": 90,
   "id": "f455ebe8",
   "metadata": {},
   "outputs": [
    {
     "name": "stdout",
     "output_type": "stream",
     "text": [
      "('****** ** ** *********** ********** *************** *********** ********* ******** ****** ********** ********** **** *********** **** *** ******* *** ** *********** ************ *********\\n********** ****** ******** **********\\n****** ******** ***** * * *** ***** ** **** ***\\n******* ******** ******** * * *** ***** ** **** ***\\n****** *********** ***** ******** ****** ******* ******* ****** **** *** ******* ** ********\\n***** ********* ******** ***** ** ***** ***\\n********* *************** **************** ********** ************* *********** *********** **********', 492)\n"
     ]
    }
   ],
   "source": [
    "print(re.subn(\"\\S\", \"*\", s))"
   ]
  },
  {
   "cell_type": "code",
   "execution_count": 92,
   "id": "67b9ed62",
   "metadata": {},
   "outputs": [
    {
     "name": "stdout",
     "output_type": "stream",
     "text": [
      "(\"Pyth*n *s *n *nt*rpr*t*d h*gh-l*v*l g*n*r*l-p*rp*s* pr*gr*mm*ng l*ng**g*. Pyth*n's d*s*gn ph*l*s*phy *mph*s*z*s c*d* r**d*b*l*ty w*th *ts n*t*bl* *s* *f s*gn*f*c*nt *nd*nt*t**n. W*k*p*d**\\nD*v*l*p*r: Pyth*n S*ftw*r* F**nd*t**n\\nSt*bl* r*l**s*: 3.9.5 / 3 M*y 2021; 29 d*ys *g*\\nPr*v**w r*l**s*: 3.10.0b1 / 3 M*y 2021; 29 d*ys *g*\\nTyp*ng d*sc*pl*n*: D*ck, dyn*m*c, str*ng typ*ng; gr*d**l (s*nc* 3.5, b*t *gn*r*d *n CPyth*n)\\nF*rst *pp**r*d: F*br**ry 1991; 30 y**rs *g*\\nP*r*d*gm: M*lt*-p*r*d*gm: *bj*ct-*r**nt*d, pr*c*d*r*l (*mp*r*t*v*), f*nct**n*l, str*ct*r*d, r*fl*ct*v*\", 163)\n"
     ]
    }
   ],
   "source": [
    "print(re.subn(\"[aeiou]\", \"*\", s))"
   ]
  },
  {
   "cell_type": "code",
   "execution_count": 93,
   "id": "fb31b759",
   "metadata": {},
   "outputs": [
    {
     "name": "stdout",
     "output_type": "stream",
     "text": [
      "('****o**i**a**i**e***e*e***i****e*e***e*e*a***u**o*e***o**a**i****a**ua*e******o*****e*i*****i*o*o****e***a*i*e***o*e**ea*a*i*i****i***i****o*a**e*u*e*o***i**i*i*a***i**e**a*io****i*i*e*ia**e*e*o*e*******o***o***a*e**ou**a*io****a**e**e*ea*e*************a************a***a*o***e*ie***e*ea*e****************a************a***a*o****i****i**i**i*e***u*******a*i******o******i******a*ua****i**e*******u**i**o*e**i*******o****i****a**ea*e****e**ua*************ea***a*o**a*a*i*****u**i**a*a*i****o**e***o*ie**e*****o*e*u*a***i**e*a*i*e****u***io*a******u**u*e****e**e**i*e', 402)\n"
     ]
    }
   ],
   "source": [
    "print(re.subn(\"[^aeiou]\", \"*\", s))"
   ]
  },
  {
   "cell_type": "code",
   "execution_count": 95,
   "id": "8583b0e9",
   "metadata": {},
   "outputs": [
    {
     "name": "stdout",
     "output_type": "stream",
     "text": [
      "(\"Pyth*n**s**n**nt*rpr*t*d*h*gh-l*v*l*g*n*r*l-p*rp*s**pr*gr*mm*ng*l*ng**g*.*Pyth*n's*d*s*gn*ph*l*s*phy**mph*s*z*s*c*d**r**d*b*l*ty*w*th**ts*n*t*bl***s***f*s*gn*f*c*nt**nd*nt*t**n.*W*k*p*d***D*v*l*p*r:*Pyth*n*S*ftw*r**F**nd*t**n*St*bl**r*l**s*:*3.9.5*/*3*M*y*2021;*29*d*ys**g**Pr*v**w*r*l**s*:*3.10.0b1*/*3*M*y*2021;*29*d*ys**g**Typ*ng*d*sc*pl*n*:*D*ck,*dyn*m*c,*str*ng*typ*ng;*gr*d**l*(s*nc**3.5,*b*t**gn*r*d**n*CPyth*n)*F*rst**pp**r*d:*F*br**ry*1991;*30*y**rs**g**P*r*d*gm:*M*lt*-p*r*d*gm:**bj*ct-*r**nt*d,*pr*c*d*r*l*(*mp*r*t*v*),*f*nct**n*l,*str*ct*r*d,*r*fl*ct*v*\", 236)\n"
     ]
    }
   ],
   "source": [
    "print(re.subn(\"[aeiou\\s]\", \"*\", s))"
   ]
  },
  {
   "cell_type": "code",
   "execution_count": 96,
   "id": "2f2ed87b",
   "metadata": {},
   "outputs": [],
   "source": [
    "d1 = \"pimkjugg\"\n",
    "\n",
    "d2 = \"a\""
   ]
  },
  {
   "cell_type": "code",
   "execution_count": 97,
   "id": "84a49a25",
   "metadata": {},
   "outputs": [
    {
     "name": "stdout",
     "output_type": "stream",
     "text": [
      "['oday', 'received', 'from', 'my', 'manager']\n"
     ]
    }
   ],
   "source": [
    "print(re.findall(\"[a-z][a-z]+\", d))"
   ]
  },
  {
   "cell_type": "code",
   "execution_count": 98,
   "id": "113c2112",
   "metadata": {},
   "outputs": [
    {
     "name": "stdout",
     "output_type": "stream",
     "text": [
      "['pimkjugg']\n"
     ]
    }
   ],
   "source": [
    "print(re.findall(\"[a-z][a-z]*\", d1))"
   ]
  },
  {
   "cell_type": "code",
   "execution_count": 99,
   "id": "169cb877",
   "metadata": {},
   "outputs": [
    {
     "name": "stdout",
     "output_type": "stream",
     "text": [
      "['pimkjugg']\n"
     ]
    }
   ],
   "source": [
    "print(re.findall(\"[a-z][a-z]+\", d1))"
   ]
  },
  {
   "cell_type": "code",
   "execution_count": 100,
   "id": "7a75a748",
   "metadata": {},
   "outputs": [
    {
     "name": "stdout",
     "output_type": "stream",
     "text": [
      "['a']\n"
     ]
    }
   ],
   "source": [
    "print(re.findall(\"[a-z][a-z]*\", d2))"
   ]
  },
  {
   "cell_type": "code",
   "execution_count": 101,
   "id": "26178779",
   "metadata": {},
   "outputs": [
    {
     "name": "stdout",
     "output_type": "stream",
     "text": [
      "[]\n"
     ]
    }
   ],
   "source": [
    "print(re.findall(\"[a-z][a-z]+\", d2))"
   ]
  },
  {
   "cell_type": "code",
   "execution_count": 102,
   "id": "4bc41be6",
   "metadata": {},
   "outputs": [
    {
     "data": {
      "text/plain": [
       "'{abs:val}'"
      ]
     },
     "execution_count": 102,
     "metadata": {},
     "output_type": "execute_result"
    }
   ],
   "source": [
    "'{abs:val}'"
   ]
  },
  {
   "cell_type": "code",
   "execution_count": 104,
   "id": "a8c280a4",
   "metadata": {},
   "outputs": [
    {
     "name": "stdout",
     "output_type": "stream",
     "text": [
      "('@@@@@@ @@ @@ @@@@@@@@@@@ @@@@@@@@@@ @@@@@@@@@@@@@@@ @@@@@@@@@@@ @@@@@@@@@ @@@@@@@@ @@@@@@ @@@@@@@@@@ @@@@@@@@@@ @@@@ @@@@@@@@@@@ @@@@ @@@ @@@@@@@ @@@ @@ @@@@@@@@@@@ @@@@@@@@@@@@ @@@@@@@@@\\n@@@@@@@@@@ @@@@@@ @@@@@@@@ @@@@@@@@@@\\n@@@@@@ @@@@@@@@ @@@@@ @ @ @@@ @@@@@ @@ @@@@ @@@\\n@@@@@@@ @@@@@@@@ @@@@@@@@ @ @ @@@ @@@@@ @@ @@@@ @@@\\n@@@@@@ @@@@@@@@@@@ @@@@@ @@@@@@@@ @@@@@@ @@@@@@@ @@@@@@@ @@@@@@ @@@@ @@@ @@@@@@@ @@ @@@@@@@@\\n@@@@@ @@@@@@@@@ @@@@@@@@ @@@@@ @@ @@@@@ @@@\\n@@@@@@@@@ @@@@@@@@@@@@@@@ @@@@@@@@@@@@@@@@ @@@@@@@@@@ @@@@@@@@@@@@@ @@@@@@@@@@@ @@@@@@@@@@@ @@@@@@@@@@', 492)\n"
     ]
    }
   ],
   "source": [
    "print(re.subn(\"[aeiou\\S]\", \"@\", s))"
   ]
  },
  {
   "cell_type": "code",
   "execution_count": 105,
   "id": "44b128c0",
   "metadata": {},
   "outputs": [
    {
     "name": "stdout",
     "output_type": "stream",
     "text": [
      "(\"Python@is@an@interpreted@high-level@general-purpose@programming@language.@Python's@design@philosophy@emphasizes@code@readability@with@its@notable@use@of@significant@indentation.@Wikipedia@Developer:@Python@Software@Foundation@Stable@release:@3.9.5@/@3@May@2021;@29@days@ago@Preview@release:@3.10.0b1@/@3@May@2021;@29@days@ago@Typing@discipline:@Duck,@dynamic,@strong@typing;@gradual@(since@3.5,@but@ignored@in@CPython)@First@appeared:@February@1991;@30@years@ago@Paradigm:@Multi-paradigm:@object-oriented,@procedural@(imperative),@functional,@structured,@reflective\", 73)\n"
     ]
    }
   ],
   "source": [
    "print(re.subn(\"[^aeiou\\S]\", \"@\", s))"
   ]
  },
  {
   "cell_type": "markdown",
   "id": "f83ba171",
   "metadata": {},
   "source": [
    "[\\s] = [^\\S]"
   ]
  },
  {
   "cell_type": "code",
   "execution_count": null,
   "id": "303a6338",
   "metadata": {},
   "outputs": [],
   "source": []
  }
 ],
 "metadata": {
  "kernelspec": {
   "display_name": "Python 3",
   "language": "python",
   "name": "python3"
  },
  "language_info": {
   "codemirror_mode": {
    "name": "ipython",
    "version": 3
   },
   "file_extension": ".py",
   "mimetype": "text/x-python",
   "name": "python",
   "nbconvert_exporter": "python",
   "pygments_lexer": "ipython3",
   "version": "3.8.8"
  }
 },
 "nbformat": 4,
 "nbformat_minor": 5
}
