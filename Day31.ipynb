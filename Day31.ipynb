{
 "cells": [
  {
   "cell_type": "markdown",
   "id": "a74d2602",
   "metadata": {},
   "source": [
    "## Contents\n",
    "\n",
    "- Machine Learning intro"
   ]
  },
  {
   "cell_type": "markdown",
   "id": "0b81fd8a",
   "metadata": {},
   "source": [
    "## Machine Learning\n",
    "\n",
    "- Aurthur Sameul(In Machine lerning we give the computer the ability to learn without being explicitly programmed)\n",
    "\n",
    "- 3 types of learning\n",
    "    - Supervised Learning\n",
    "        - Regression\n",
    "        - Classification\n",
    "    - Unsupervised Learning\n",
    "        - Clustering\n",
    "        - Dimensionality Reduction\n",
    "    - Reinforcement Learning"
   ]
  },
  {
   "cell_type": "markdown",
   "id": "928222dc",
   "metadata": {},
   "source": [
    "***Regression***\n",
    "\n",
    "- relationship between independent variable and dependent variable\n",
    "\n",
    "1. Simple Linear Regression\n",
    "    - Simple - one dependent variable and one independent variable\n",
    "    - Linear - relationship is approximately over a straight line.\n",
    "    \n"
   ]
  },
  {
   "cell_type": "code",
   "execution_count": 2,
   "id": "a7f9ffd5",
   "metadata": {},
   "outputs": [],
   "source": [
    "import pandas as pd\n",
    "df = pd.read_csv(\"salary.csv\")"
   ]
  },
  {
   "cell_type": "code",
   "execution_count": 3,
   "id": "f5a90fc8",
   "metadata": {},
   "outputs": [
    {
     "data": {
      "text/html": [
       "<div>\n",
       "<style scoped>\n",
       "    .dataframe tbody tr th:only-of-type {\n",
       "        vertical-align: middle;\n",
       "    }\n",
       "\n",
       "    .dataframe tbody tr th {\n",
       "        vertical-align: top;\n",
       "    }\n",
       "\n",
       "    .dataframe thead th {\n",
       "        text-align: right;\n",
       "    }\n",
       "</style>\n",
       "<table border=\"1\" class=\"dataframe\">\n",
       "  <thead>\n",
       "    <tr style=\"text-align: right;\">\n",
       "      <th></th>\n",
       "      <th>Unnamed: 0</th>\n",
       "      <th>District</th>\n",
       "      <th>Salary</th>\n",
       "      <th>Age</th>\n",
       "      <th>English</th>\n",
       "      <th>Education</th>\n",
       "      <th>Gender</th>\n",
       "    </tr>\n",
       "  </thead>\n",
       "  <tbody>\n",
       "    <tr>\n",
       "      <th>0</th>\n",
       "      <td>0</td>\n",
       "      <td>Brooklyn</td>\n",
       "      <td>120000.0</td>\n",
       "      <td>31</td>\n",
       "      <td>Only language</td>\n",
       "      <td>Academic degree</td>\n",
       "      <td>Male</td>\n",
       "    </tr>\n",
       "    <tr>\n",
       "      <th>1</th>\n",
       "      <td>1</td>\n",
       "      <td>Brooklyn</td>\n",
       "      <td>45000.0</td>\n",
       "      <td>28</td>\n",
       "      <td>Only language</td>\n",
       "      <td>Academic degree</td>\n",
       "      <td>Female</td>\n",
       "    </tr>\n",
       "    <tr>\n",
       "      <th>2</th>\n",
       "      <td>2</td>\n",
       "      <td>Manhatten</td>\n",
       "      <td>85000.0</td>\n",
       "      <td>54</td>\n",
       "      <td>Only language</td>\n",
       "      <td>Academic degree</td>\n",
       "      <td>Male</td>\n",
       "    </tr>\n",
       "    <tr>\n",
       "      <th>3</th>\n",
       "      <td>3</td>\n",
       "      <td>Manhatten</td>\n",
       "      <td>12000.0</td>\n",
       "      <td>45</td>\n",
       "      <td>Only language</td>\n",
       "      <td>High school diploma</td>\n",
       "      <td>Female</td>\n",
       "    </tr>\n",
       "    <tr>\n",
       "      <th>4</th>\n",
       "      <td>4</td>\n",
       "      <td>Brooklyn</td>\n",
       "      <td>0.0</td>\n",
       "      <td>75</td>\n",
       "      <td>Very well</td>\n",
       "      <td>Academic degree</td>\n",
       "      <td>Female</td>\n",
       "    </tr>\n",
       "  </tbody>\n",
       "</table>\n",
       "</div>"
      ],
      "text/plain": [
       "   Unnamed: 0   District    Salary  Age        English            Education  \\\n",
       "0           0   Brooklyn  120000.0   31  Only language      Academic degree   \n",
       "1           1   Brooklyn   45000.0   28  Only language      Academic degree   \n",
       "2           2  Manhatten   85000.0   54  Only language      Academic degree   \n",
       "3           3  Manhatten   12000.0   45  Only language  High school diploma   \n",
       "4           4   Brooklyn       0.0   75      Very well      Academic degree   \n",
       "\n",
       "   Gender  \n",
       "0    Male  \n",
       "1  Female  \n",
       "2    Male  \n",
       "3  Female  \n",
       "4  Female  "
      ]
     },
     "execution_count": 3,
     "metadata": {},
     "output_type": "execute_result"
    }
   ],
   "source": [
    "df.head()"
   ]
  }
 ],
 "metadata": {
  "kernelspec": {
   "display_name": "Python 3",
   "language": "python",
   "name": "python3"
  },
  "language_info": {
   "codemirror_mode": {
    "name": "ipython",
    "version": 3
   },
   "file_extension": ".py",
   "mimetype": "text/x-python",
   "name": "python",
   "nbconvert_exporter": "python",
   "pygments_lexer": "ipython3",
   "version": "3.8.8"
  }
 },
 "nbformat": 4,
 "nbformat_minor": 5
}
