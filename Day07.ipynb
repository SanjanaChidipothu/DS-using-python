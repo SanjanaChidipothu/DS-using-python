{
 "cells": [
  {
   "cell_type": "markdown",
   "id": "3a9ffef0",
   "metadata": {},
   "source": [
    "# Conditional statements\n",
    "\n",
    "- Conditional statements\n",
    "    - if\n",
    "    - if-else\n",
    "    - if-elif-else\n",
    "- Loops in python\n",
    "    - For\n",
    "    - While\n",
    "- Strings\n",
    "    - Declaring a string\n",
    "    - Accessing the elements fron string\n",
    "    - String methods"
   ]
  },
  {
   "cell_type": "markdown",
   "id": "d2b8f3e0",
   "metadata": {},
   "source": [
    "## Conditional statements\n",
    "\n",
    "- for controlling flow of execution\n",
    "\n",
    "\n",
    "### If syntax\n",
    "\n",
    "```python\n",
    "\n",
    "if condition:\n",
    "    block of code\n",
    "```\n",
    "\n",
    "\n",
    "### If-else syntax\n",
    "\n",
    "```python\n",
    "if condition:\n",
    "    block of code\n",
    "else:\n",
    "    block of code\n",
    "```\n",
    "\n",
    "\n",
    "### If-elif-else syntax\n",
    "\n",
    "```python\n",
    "if condition:\n",
    "    block of code\n",
    "elif condition:\n",
    "    block of code\n",
    "else:\n",
    "    block of code\n",
    "```\n"
   ]
  },
  {
   "cell_type": "code",
   "execution_count": 1,
   "id": "15472769",
   "metadata": {},
   "outputs": [
    {
     "name": "stdout",
     "output_type": "stream",
     "text": [
      "10 is greater\n"
     ]
    }
   ],
   "source": [
    "## Biggest of 2 numbers\n",
    "\n",
    "\n",
    "a = 5\n",
    "b = 10\n",
    "\n",
    "if a > b:\n",
    "    print(a,\"is greater\")\n",
    "else:\n",
    "    print(b,\"is greater\")"
   ]
  },
  {
   "cell_type": "code",
   "execution_count": 2,
   "id": "eca3252e",
   "metadata": {},
   "outputs": [
    {
     "ename": "IndentationError",
     "evalue": "expected an indented block (<ipython-input-2-5e32045e726c>, line 10)",
     "output_type": "error",
     "traceback": [
      "\u001b[1;36m  File \u001b[1;32m\"<ipython-input-2-5e32045e726c>\"\u001b[1;36m, line \u001b[1;32m10\u001b[0m\n\u001b[1;33m    print(b,\"is greater\")\u001b[0m\n\u001b[1;37m    ^\u001b[0m\n\u001b[1;31mIndentationError\u001b[0m\u001b[1;31m:\u001b[0m expected an indented block\n"
     ]
    }
   ],
   "source": [
    "## Indentation error\n",
    "\n",
    "\n",
    "a = 5\n",
    "b = 10\n",
    "\n",
    "if a > b:\n",
    "    print(a,\"is greater\")\n",
    "else:\n",
    "print(b,\"is greater\")"
   ]
  },
  {
   "cell_type": "code",
   "execution_count": 3,
   "id": "b681ee08",
   "metadata": {},
   "outputs": [
    {
     "name": "stdout",
     "output_type": "stream",
     "text": [
      "10 is greater\n"
     ]
    }
   ],
   "source": [
    "## relation of 2 numbers\n",
    "\n",
    "\n",
    "a = 5\n",
    "b = 10\n",
    "\n",
    "if a > b :\n",
    "    print(a,\"is greater\")\n",
    "elif b > a:\n",
    "    print(b,\"is greater\")\n",
    "else:\n",
    "    print(\"both are equal\")"
   ]
  },
  {
   "cell_type": "code",
   "execution_count": 5,
   "id": "3f1889b5",
   "metadata": {},
   "outputs": [
    {
     "name": "stdout",
     "output_type": "stream",
     "text": [
      "10 is greater\n"
     ]
    }
   ],
   "source": [
    "## Biggest of 3 numbers\n",
    "\n",
    "a = 5\n",
    "b = 10\n",
    "c = 8\n",
    "\n",
    "if a > b and a > c:\n",
    "    print(a,\"is greater\")\n",
    "elif b > c:\n",
    "    print(b,\"is greater\")\n",
    "else:\n",
    "    print(c,\"is greater\")"
   ]
  },
  {
   "cell_type": "code",
   "execution_count": 6,
   "id": "d5f84ffe",
   "metadata": {},
   "outputs": [
    {
     "name": "stdout",
     "output_type": "stream",
     "text": [
      "Enter a number:6758\n",
      "6758 is even\n"
     ]
    }
   ],
   "source": [
    "## Check the input is even or not\n",
    "\n",
    "n = int(input(\"Enter a number:\"))\n",
    "if n % 2 == 0:\n",
    "    print(n,\"is even\")\n",
    "else:\n",
    "    print(n,\"is not even\")"
   ]
  },
  {
   "cell_type": "code",
   "execution_count": 7,
   "id": "f8921e58",
   "metadata": {},
   "outputs": [
    {
     "name": "stdout",
     "output_type": "stream",
     "text": [
      "Enter year:2020\n",
      "2020 is a leap year\n"
     ]
    }
   ],
   "source": [
    "## Verify year is leap or not\n",
    "\n",
    "# - it should be divisible by 4 and remainder as 0\n",
    "# - it shouldn't be divisible by 100\n",
    "# - divisible by 400\n",
    "\n",
    "year = int(input(\"Enter year:\"))\n",
    "if (year % 400 ==0) or (year % 4 ==0 and year % 100 !=0):\n",
    "    print(year,\"is a leap year\")\n",
    "else:\n",
    "    print(year,\"is not a leap year\")"
   ]
  },
  {
   "cell_type": "code",
   "execution_count": 8,
   "id": "a5729d15",
   "metadata": {},
   "outputs": [
    {
     "name": "stdout",
     "output_type": "stream",
     "text": [
      "Enter number:10\n",
      "Enter number:5\n",
      "Enter operation to be performed:/\n",
      "2.0\n"
     ]
    }
   ],
   "source": [
    "## Calculator application\n",
    "\n",
    "a = int(input(\"Enter number:\"))\n",
    "b = int(input(\"Enter number:\"))\n",
    "arith = input(\"Enter operation to be performed:\")\n",
    "if arith == \"+\":\n",
    "    print(a + b)\n",
    "elif arith == \"-\":\n",
    "    print(a - b)\n",
    "elif arith == \"*\":\n",
    "    print(a * b)\n",
    "else:\n",
    "    print(a / b)"
   ]
  },
  {
   "cell_type": "markdown",
   "id": "613dbf00",
   "metadata": {},
   "source": [
    "### Loops in python\n",
    "\n",
    "executes blocks of code multiple times\n",
    "\n",
    "### For Syntax\n",
    "\n",
    "```python\n",
    "for iterativeItem in GroupData:\n",
    "    Block of code\n",
    "```\n",
    "\n",
    "\n",
    "### While Syntax\n",
    "\n",
    "```python\n",
    "\n",
    "init\n",
    "while condition:\n",
    "    Block of code\n",
    "    inc/dec\n",
    "    \n",
    "```\n",
    "\n",
    "### GroupOfNumbers\n",
    "\n",
    "range(init, cond, inc/dec)\n",
    "\n",
    "cond -> required arg\n",
    "init -> 0\n",
    "inc/dec -> +1"
   ]
  },
  {
   "cell_type": "code",
   "execution_count": 9,
   "id": "43d0319c",
   "metadata": {},
   "outputs": [
    {
     "name": "stdout",
     "output_type": "stream",
     "text": [
      "1\t3\t5\t7\t9\t11\t13\t15\t17\t19\t21\t23\t25\t27\t29\t31\t33\t35\t37\t39\t41\t43\t45\t47\t49\t51\t53\t55\t57\t59\t61\t63\t65\t67\t69\t71\t73\t75\t77\t79\t81\t83\t85\t87\t89\t91\t93\t95\t97\t99\t"
     ]
    }
   ],
   "source": [
    "## Display 1 to 100 numbers\n",
    "\n",
    "\n",
    "for i in range(1, 101, 2):\n",
    "    print(i,end =\"\\t\")"
   ]
  },
  {
   "cell_type": "code",
   "execution_count": 10,
   "id": "5b9016e7",
   "metadata": {},
   "outputs": [
    {
     "name": "stdout",
     "output_type": "stream",
     "text": [
      "2\t4\t6\t8\t10\t12\t14\t16\t18\t20\t22\t24\t26\t28\t30\t32\t34\t36\t38\t40\t42\t44\t46\t48\t50\t52\t54\t56\t58\t60\t62\t64\t66\t68\t70\t72\t74\t76\t78\t80\t82\t84\t86\t88\t90\t92\t94\t96\t98\t100\t102\t104\t106\t108\t110\t112\t114\t116\t118\t120\t122\t124\t126\t128\t130\t132\t134\t136\t138\t140\t142\t144\t146\t148\t150\t152\t154\t156\t158\t160\t162\t164\t166\t168\t170\t172\t174\t176\t178\t180\t182\t184\t186\t188\t190\t192\t194\t196\t198\t200\t202\t204\t206\t208\t210\t212\t214\t216\t218\t220\t222\t224\t226\t228\t230\t232\t234\t236\t238\t240\t242\t244\t246\t248\t250\t252\t254\t256\t258\t260\t262\t264\t266\t268\t270\t272\t274\t276\t278\t280\t282\t284\t286\t288\t290\t292\t294\t296\t298\t300\t302\t304\t306\t308\t310\t312\t314\t316\t318\t320\t322\t324\t326\t328\t330\t332\t334\t336\t338\t340\t342\t344\t346\t348\t350\t352\t354\t356\t358\t360\t362\t364\t366\t368\t370\t372\t374\t376\t378\t380\t382\t384\t386\t388\t390\t392\t394\t396\t398\t400\t402\t404\t406\t408\t410\t412\t414\t416\t418\t420\t422\t424\t426\t428\t430\t432\t434\t436\t438\t440\t442\t444\t446\t448\t450\t452\t454\t456\t458\t460\t462\t464\t466\t468\t470\t472\t474\t476\t478\t480\t482\t484\t486\t488\t490\t492\t494\t496\t498\t500\t502\t504\t506\t508\t510\t512\t514\t516\t518\t520\t522\t524\t526\t528\t530\t532\t534\t536\t538\t540\t542\t544\t546\t548\t550\t552\t554\t556\t558\t560\t562\t564\t566\t568\t570\t572\t574\t576\t578\t580\t582\t584\t586\t588\t590\t592\t594\t596\t598\t600\t602\t604\t606\t608\t610\t612\t614\t616\t618\t620\t622\t624\t626\t628\t630\t632\t634\t636\t638\t640\t642\t644\t646\t648\t650\t652\t654\t656\t658\t660\t662\t664\t666\t668\t670\t672\t674\t676\t678\t680\t682\t684\t686\t688\t690\t692\t694\t696\t698\t700\t702\t704\t706\t708\t710\t712\t714\t716\t718\t720\t722\t724\t726\t728\t730\t732\t734\t736\t738\t740\t742\t744\t746\t748\t750\t752\t754\t756\t758\t760\t762\t764\t766\t768\t770\t772\t774\t776\t778\t780\t782\t784\t786\t788\t790\t792\t794\t796\t798\t800\t802\t804\t806\t808\t810\t812\t814\t816\t818\t820\t822\t824\t826\t828\t830\t832\t834\t836\t838\t840\t842\t844\t846\t848\t850\t852\t854\t856\t858\t860\t862\t864\t866\t868\t870\t872\t874\t876\t878\t880\t882\t884\t886\t888\t890\t892\t894\t896\t898\t900\t902\t904\t906\t908\t910\t912\t914\t916\t918\t920\t922\t924\t926\t928\t930\t932\t934\t936\t938\t940\t942\t944\t946\t948\t950\t952\t954\t956\t958\t960\t962\t964\t966\t968\t970\t972\t974\t976\t978\t980\t982\t984\t986\t988\t990\t992\t994\t996\t998\t1000\t"
     ]
    }
   ],
   "source": [
    "##Even numbers between 1 to 100\n",
    "\n",
    "for i  in range(1, 1001, 1):\n",
    "    if i % 2 == 0:\n",
    "        print(i , end = '\\t')"
   ]
  },
  {
   "cell_type": "code",
   "execution_count": 12,
   "id": "38bcc155",
   "metadata": {},
   "outputs": [],
   "source": [
    "## Get the leap years between given range\n",
    "\n"
   ]
  },
  {
   "cell_type": "code",
   "execution_count": 13,
   "id": "6d734ce4",
   "metadata": {},
   "outputs": [
    {
     "name": "stdout",
     "output_type": "stream",
     "text": [
      "1\t2\t3\t4\t5\t6\t7\t8\t9\t10\t11\t12\t13\t14\t15\t16\t17\t18\t19\t20\t21\t22\t23\t24\t25\t26\t27\t28\t29\t30\t31\t32\t33\t34\t35\t36\t37\t38\t39\t40\t41\t42\t43\t44\t45\t46\t47\t48\t49\t50\t51\t52\t53\t54\t55\t56\t57\t58\t59\t60\t61\t62\t63\t64\t65\t66\t67\t68\t69\t70\t71\t72\t73\t74\t75\t76\t77\t78\t79\t80\t81\t82\t83\t84\t85\t86\t87\t88\t89\t90\t91\t92\t93\t94\t95\t96\t97\t98\t99\t100\t"
     ]
    }
   ],
   "source": [
    "## While loop\n",
    "\n",
    "i = 1\n",
    "while i < 101:\n",
    "    print(i, end = \"\\t\")\n",
    "    i+= 1"
   ]
  },
  {
   "cell_type": "markdown",
   "id": "7019913c",
   "metadata": {},
   "source": [
    "### Break and Continue\n",
    "- Break: To terminate execution of loop \n",
    "- Continue: skip the current execution of the loop"
   ]
  },
  {
   "cell_type": "code",
   "execution_count": 15,
   "id": "6066f6d8",
   "metadata": {},
   "outputs": [
    {
     "name": "stdout",
     "output_type": "stream",
     "text": [
      "1\t2\t3\t4\t5\t6\t7\t8\t9\t10\t11\t12\t13\t14\t15\t16\t17\t18\t19\t20\t21\t22\t23\t24\t25\t26\t27\t28\t29\t30\t31\t32\t33\t34\t35\t36\t37\t38\t39\t40\t41\t42\t43\t44\t45\t46\t47\t48\t49\t"
     ]
    }
   ],
   "source": [
    "# Print numbers between 1 to 100 whenever I reach 50 stop travelling\n",
    "\n",
    "\n",
    "for travel in range(1, 101, 1):\n",
    "    if travel == 50:\n",
    "        break\n",
    "    print(travel,end  = \"\\t\")"
   ]
  },
  {
   "cell_type": "code",
   "execution_count": 17,
   "id": "7f42b4b5",
   "metadata": {},
   "outputs": [
    {
     "name": "stdout",
     "output_type": "stream",
     "text": [
      "1\t3\t5\t7\t9\t11\t13\t15\t17\t19\t21\t23\t25\t27\t29\t31\t33\t35\t37\t39\t41\t43\t45\t47\t49\t"
     ]
    }
   ],
   "source": [
    "# Print numbers between 1 to 100 whenever I reach 50 stop travelling\n",
    "\n",
    "\n",
    "for travel in range(1, 101, 1):\n",
    "    if travel == 50:\n",
    "        break\n",
    "    elif travel % 2 == 0:\n",
    "        continue\n",
    "    print(travel,end  = \"\\t\")"
   ]
  },
  {
   "cell_type": "code",
   "execution_count": 18,
   "id": "6dc165cd",
   "metadata": {},
   "outputs": [
    {
     "name": "stdout",
     "output_type": "stream",
     "text": [
      "1\n",
      "1\n",
      "187\n",
      "187\n",
      "cancel\n",
      "Loop terminated\n"
     ]
    }
   ],
   "source": [
    "while True:\n",
    "    inp = input()\n",
    "    if inp == \"cancel\":\n",
    "        print(\"Loop terminated\")\n",
    "        break\n",
    "    print(inp)"
   ]
  },
  {
   "cell_type": "markdown",
   "id": "404e9f64",
   "metadata": {},
   "source": [
    "### Strings\n",
    "\n",
    "itis a group of data enclosed between \"\",'', \"\"\"\"\"\", '''''' are called strings\n",
    "\n",
    "#### Properties of strings\n",
    "\n",
    "- It is an immutable data type\n",
    "- It is iterable"
   ]
  },
  {
   "cell_type": "code",
   "execution_count": 20,
   "id": "37158170",
   "metadata": {},
   "outputs": [
    {
     "name": "stdout",
     "output_type": "stream",
     "text": [
      "I am a single line string\n",
      "I am also a single line string\n",
      "BTS’ new single, “Butter,” arriving May 21, was announced. The song was described in a press release as a “dance pop track brimming with the smooth yet charismatic charm of BTS.” “Butter” will be the boy band’s second song in English since its hit “Dynamite” was released last summer.\n",
      "i'm a\n",
      "multi-line\n",
      "string\n"
     ]
    }
   ],
   "source": [
    "s = 'I am a single line string'\n",
    "s1 = 'I am also a single line string'\n",
    "s3 = '''BTS’ new single, “Butter,” arriving May 21, was announced. The song was described in a press release as a “dance pop track brimming with the smooth yet charismatic charm of BTS.” “Butter” will be the boy band’s second song in English since its hit “Dynamite” was released last summer.'''\n",
    "s4 = \"\"\"i'm a\n",
    "multi-line\n",
    "string\"\"\"\n",
    "print(s)\n",
    "print(s1)\n",
    "print(s3)\n",
    "print(s4)"
   ]
  },
  {
   "cell_type": "code",
   "execution_count": 22,
   "id": "45c7c5f0",
   "metadata": {},
   "outputs": [
    {
     "name": "stdout",
     "output_type": "stream",
     "text": [
      "<class 'str'>\n"
     ]
    }
   ],
   "source": [
    "print(type(s))"
   ]
  },
  {
   "cell_type": "code",
   "execution_count": 24,
   "id": "a351584d",
   "metadata": {},
   "outputs": [
    {
     "name": "stdout",
     "output_type": "stream",
     "text": [
      "i\t'\tm\t \ta\t\n",
      "\tm\tu\tl\tt\ti\t-\tl\ti\tn\te\t\n",
      "\ts\tt\tr\ti\tn\tg\t"
     ]
    }
   ],
   "source": [
    "for char in s4:\n",
    "    print(char, end = \"\\t\")"
   ]
  },
  {
   "cell_type": "code",
   "execution_count": 25,
   "id": "95dc647b",
   "metadata": {},
   "outputs": [
    {
     "name": "stdout",
     "output_type": "stream",
     "text": [
      "e\ta\te\ti\te\te\ti\to\tu\te\to\ti\te\to\to\to\ta\to\tu\te\ti\ti\ta\ti\to\ta\te\ti\te\te\ta\to\ti\te\te\ti\te\ti\te\ta\to\ta\te\ta\te\te\to\te\te\ta\te\ta\te\te\ta\te\to\ti\te\ta\ta\te\ti\ti\te\ti\ta\te\to\te\ti\to\tu\tu\te\te\ta\ti\to\to\tu\te\ta\to\te\to\ti\ti\ta\te\to\te\te\ti\ta\ti\ti\to\ti\te\te\ta\tu\ti\ta\te\ta\ta\ta\tu\te\ti\te\to\to\te\ti\te\to\te\te\ti\ta\ti\ta\te\to\ta\ta\ti\ti\ti\ta\te\ti\ta\ta\ti\ta\to\to\ta\ta\to\te\ti\te\ti\ta\te\to\ta\te\te\t"
     ]
    }
   ],
   "source": [
    "s = \"\"\"Tesla believed it could be possible to photograph thoughts. The inspiration came while he was doing experiments in 1893, Tesla told a newspaper reporter decades later: “I became convinced that a definite image formed in thought must, by reflex action, produce a corresponding image on the retina, which might possibly be read by suitable apparatus.” The inventor conceived of reflecting an image on an artificial retina, taking a photograph and projecting the image on a screen.\"\"\"\n",
    "for char in s:\n",
    "    if char == 'a' or char == 'e' or char == 'i' or char == 'o' or char == 'u':\n",
    "        print(char , end = \"\\t\")"
   ]
  },
  {
   "cell_type": "code",
   "execution_count": 26,
   "id": "dd2a843a",
   "metadata": {},
   "outputs": [
    {
     "name": "stdout",
     "output_type": "stream",
     "text": [
      "e\ta\te\ti\te\te\ti\to\tu\te\to\ti\te\to\to\to\ta\to\tu\te\ti\ti\ta\ti\to\ta\te\ti\te\te\ta\to\ti\te\te\ti\te\ti\te\ta\to\ta\te\ta\te\te\to\te\te\ta\te\ta\te\tI\te\ta\te\to\ti\te\ta\ta\te\ti\ti\te\ti\ta\te\to\te\ti\to\tu\tu\te\te\ta\ti\to\to\tu\te\ta\to\te\to\ti\ti\ta\te\to\te\te\ti\ta\ti\ti\to\ti\te\te\ta\tu\ti\ta\te\ta\ta\ta\tu\te\ti\te\to\to\te\ti\te\to\te\te\ti\ta\ti\ta\te\to\ta\ta\ti\ti\ti\ta\te\ti\ta\ta\ti\ta\to\to\ta\ta\to\te\ti\te\ti\ta\te\to\ta\te\te\t"
     ]
    }
   ],
   "source": [
    "for char in s:\n",
    "    if char in \"aeiouAEIOU\":\n",
    "        print(char, end = \"\\t\")"
   ]
  },
  {
   "cell_type": "code",
   "execution_count": 29,
   "id": "426337a2",
   "metadata": {},
   "outputs": [
    {
     "name": "stdout",
     "output_type": "stream",
     "text": [
      "Upper: 1 Lower: 154 Consonants: 323\t"
     ]
    }
   ],
   "source": [
    "lo = 0\n",
    "uo = 0\n",
    "c = 0\n",
    "for char in s:\n",
    "    if char in \"aeiou\":\n",
    "        lo += 1\n",
    "    elif char in \"AEIOU\":\n",
    "        uo += 1\n",
    "    else:\n",
    "        c += 1\n",
    "print(\"Upper:\",uo,\"Lower:\", lo,\"Consonants:\",c,end = \"\\t\")"
   ]
  },
  {
   "cell_type": "markdown",
   "id": "5f0c402c",
   "metadata": {},
   "source": [
    "### Accessing the character\n",
    "\n"
   ]
  },
  {
   "cell_type": "code",
   "execution_count": 30,
   "id": "98af0eb6",
   "metadata": {},
   "outputs": [
    {
     "name": "stdout",
     "output_type": "stream",
     "text": [
      "T\n"
     ]
    }
   ],
   "source": [
    "print(s[0])"
   ]
  },
  {
   "cell_type": "code",
   "execution_count": 31,
   "id": "58b47acd",
   "metadata": {},
   "outputs": [
    {
     "name": "stdout",
     "output_type": "stream",
     "text": [
      ".\n"
     ]
    }
   ],
   "source": [
    "print(s[-1])"
   ]
  },
  {
   "cell_type": "code",
   "execution_count": 32,
   "id": "9c94834b",
   "metadata": {},
   "outputs": [
    {
     "name": "stdout",
     "output_type": "stream",
     "text": [
      "r\n"
     ]
    }
   ],
   "source": [
    "print(s[-5])"
   ]
  }
 ],
 "metadata": {
  "kernelspec": {
   "display_name": "Python 3",
   "language": "python",
   "name": "python3"
  },
  "language_info": {
   "codemirror_mode": {
    "name": "ipython",
    "version": 3
   },
   "file_extension": ".py",
   "mimetype": "text/x-python",
   "name": "python",
   "nbconvert_exporter": "python",
   "pygments_lexer": "ipython3",
   "version": "3.8.8"
  }
 },
 "nbformat": 4,
 "nbformat_minor": 5
}
