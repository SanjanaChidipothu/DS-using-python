{
 "cells": [
  {
   "cell_type": "markdown",
   "id": "bddba854",
   "metadata": {},
   "source": [
    "## Contents\n",
    "\n",
    "- Inheritance\n",
    "- Data Encapsulation\n",
    "- Polymorphism"
   ]
  },
  {
   "cell_type": "markdown",
   "id": "ecdfd97b",
   "metadata": {},
   "source": [
    "## Inheritance\n",
    "    - Capacity of one class to derive or inherit the properties from some other class\n",
    "    \n",
    "Properties:\n",
    "    - represents real- world relationships\n",
    "    - reusability of predefined code.\n",
    "    - transitive in nature."
   ]
  },
  {
   "cell_type": "code",
   "execution_count": 1,
   "id": "ac1be097",
   "metadata": {},
   "outputs": [],
   "source": [
    "class parent:\n",
    "    def f1(self):\n",
    "        print(\"In parent class\")\n",
    "class child(parent):\n",
    "    def f2(self):\n",
    "        print(\"In child class\")"
   ]
  },
  {
   "cell_type": "code",
   "execution_count": 2,
   "id": "8d96f523",
   "metadata": {},
   "outputs": [
    {
     "data": {
      "text/plain": [
       "['__class__',\n",
       " '__delattr__',\n",
       " '__dict__',\n",
       " '__dir__',\n",
       " '__doc__',\n",
       " '__eq__',\n",
       " '__format__',\n",
       " '__ge__',\n",
       " '__getattribute__',\n",
       " '__gt__',\n",
       " '__hash__',\n",
       " '__init__',\n",
       " '__init_subclass__',\n",
       " '__le__',\n",
       " '__lt__',\n",
       " '__module__',\n",
       " '__ne__',\n",
       " '__new__',\n",
       " '__reduce__',\n",
       " '__reduce_ex__',\n",
       " '__repr__',\n",
       " '__setattr__',\n",
       " '__sizeof__',\n",
       " '__str__',\n",
       " '__subclasshook__',\n",
       " '__weakref__',\n",
       " 'f1']"
      ]
     },
     "execution_count": 2,
     "metadata": {},
     "output_type": "execute_result"
    }
   ],
   "source": [
    "dir(parent)"
   ]
  },
  {
   "cell_type": "code",
   "execution_count": 3,
   "id": "f1d71b92",
   "metadata": {},
   "outputs": [
    {
     "data": {
      "text/plain": [
       "['__class__',\n",
       " '__delattr__',\n",
       " '__dict__',\n",
       " '__dir__',\n",
       " '__doc__',\n",
       " '__eq__',\n",
       " '__format__',\n",
       " '__ge__',\n",
       " '__getattribute__',\n",
       " '__gt__',\n",
       " '__hash__',\n",
       " '__init__',\n",
       " '__init_subclass__',\n",
       " '__le__',\n",
       " '__lt__',\n",
       " '__module__',\n",
       " '__ne__',\n",
       " '__new__',\n",
       " '__reduce__',\n",
       " '__reduce_ex__',\n",
       " '__repr__',\n",
       " '__setattr__',\n",
       " '__sizeof__',\n",
       " '__str__',\n",
       " '__subclasshook__',\n",
       " '__weakref__',\n",
       " 'f1',\n",
       " 'f2']"
      ]
     },
     "execution_count": 3,
     "metadata": {},
     "output_type": "execute_result"
    }
   ],
   "source": [
    "dir(child)"
   ]
  },
  {
   "cell_type": "code",
   "execution_count": 4,
   "id": "af7efaaa",
   "metadata": {},
   "outputs": [],
   "source": [
    "obj = child()"
   ]
  },
  {
   "cell_type": "code",
   "execution_count": 5,
   "id": "21800291",
   "metadata": {},
   "outputs": [
    {
     "name": "stdout",
     "output_type": "stream",
     "text": [
      "In parent class\n"
     ]
    }
   ],
   "source": [
    "obj.f1()"
   ]
  },
  {
   "cell_type": "code",
   "execution_count": 6,
   "id": "fc0194df",
   "metadata": {},
   "outputs": [
    {
     "name": "stdout",
     "output_type": "stream",
     "text": [
      "In child class\n"
     ]
    }
   ],
   "source": [
    "obj.f2()"
   ]
  },
  {
   "cell_type": "markdown",
   "id": "335f6506",
   "metadata": {},
   "source": [
    "## Types of Inheritance\n",
    "\n",
    "1. Single Inheritance\n",
    "2. Multiple Inheritance\n",
    "3. Multi-level Inheritance\n",
    "4. Heirarchial Inheritance\n",
    "5. Hybrid Inheritance"
   ]
  },
  {
   "cell_type": "code",
   "execution_count": 8,
   "id": "1dec1645",
   "metadata": {},
   "outputs": [
    {
     "name": "stdout",
     "output_type": "stream",
     "text": [
      "In child class\n",
      "In parent class\n"
     ]
    }
   ],
   "source": [
    "class parent:\n",
    "    def f1(self):\n",
    "        print(\"In parent class\")\n",
    "class child(parent):\n",
    "    def f2(self):\n",
    "        print(\"In child class\")\n",
    "x = child()\n",
    "x.f2()\n",
    "x.f1()"
   ]
  },
  {
   "cell_type": "markdown",
   "id": "d84399ba",
   "metadata": {},
   "source": [
    "## Multiple Inheritance"
   ]
  },
  {
   "cell_type": "markdown",
   "id": "ce9d4c4e",
   "metadata": {},
   "source": [
    "- one or more super classes only one child class"
   ]
  },
  {
   "cell_type": "code",
   "execution_count": 9,
   "id": "ae6aac9f",
   "metadata": {},
   "outputs": [],
   "source": [
    "class A:\n",
    "    def f1(self):\n",
    "        print(\"Class A function f1\")\n",
    "class B:\n",
    "    def f2(self):\n",
    "        print(\"Class B function f2\")\n",
    "class C(A, B):\n",
    "    def f3(self):\n",
    "        print(\"Class C function f3\")\n",
    "        \n",
    "obj = C()"
   ]
  },
  {
   "cell_type": "code",
   "execution_count": 10,
   "id": "f5811050",
   "metadata": {},
   "outputs": [
    {
     "data": {
      "text/plain": [
       "['__class__',\n",
       " '__delattr__',\n",
       " '__dict__',\n",
       " '__dir__',\n",
       " '__doc__',\n",
       " '__eq__',\n",
       " '__format__',\n",
       " '__ge__',\n",
       " '__getattribute__',\n",
       " '__gt__',\n",
       " '__hash__',\n",
       " '__init__',\n",
       " '__init_subclass__',\n",
       " '__le__',\n",
       " '__lt__',\n",
       " '__module__',\n",
       " '__ne__',\n",
       " '__new__',\n",
       " '__reduce__',\n",
       " '__reduce_ex__',\n",
       " '__repr__',\n",
       " '__setattr__',\n",
       " '__sizeof__',\n",
       " '__str__',\n",
       " '__subclasshook__',\n",
       " '__weakref__',\n",
       " 'f1',\n",
       " 'f2',\n",
       " 'f3']"
      ]
     },
     "execution_count": 10,
     "metadata": {},
     "output_type": "execute_result"
    }
   ],
   "source": [
    "dir(obj)"
   ]
  },
  {
   "cell_type": "code",
   "execution_count": 11,
   "id": "65c04fe7",
   "metadata": {},
   "outputs": [
    {
     "name": "stdout",
     "output_type": "stream",
     "text": [
      "Class B function f2\n"
     ]
    }
   ],
   "source": [
    "obj.f2()"
   ]
  },
  {
   "cell_type": "code",
   "execution_count": 12,
   "id": "def03cfb",
   "metadata": {},
   "outputs": [
    {
     "name": "stdout",
     "output_type": "stream",
     "text": [
      "Class A function f1\n"
     ]
    }
   ],
   "source": [
    "obj.f1()"
   ]
  },
  {
   "cell_type": "code",
   "execution_count": 13,
   "id": "3b66534a",
   "metadata": {},
   "outputs": [
    {
     "name": "stdout",
     "output_type": "stream",
     "text": [
      "Class C function f3\n"
     ]
    }
   ],
   "source": [
    "obj.f3()"
   ]
  },
  {
   "cell_type": "markdown",
   "id": "17541d33",
   "metadata": {},
   "source": [
    "## Multi-level Inheritance\n",
    "\n",
    "- features of the base class and derived class are future inherited into te new derived class"
   ]
  },
  {
   "cell_type": "code",
   "execution_count": 27,
   "id": "bb897c7f",
   "metadata": {},
   "outputs": [],
   "source": [
    "class grandparent:\n",
    "    def f1(self):\n",
    "        print(\"In grandparent class\")\n",
    "class parent(grandparent):\n",
    "    def f2(self):\n",
    "        print(\"In parent class\")\n",
    "class child(parent):\n",
    "    def f3(self):\n",
    "        print(\"In child class\")\n",
    "        \n",
    "y = child()"
   ]
  },
  {
   "cell_type": "code",
   "execution_count": 28,
   "id": "72fe823c",
   "metadata": {},
   "outputs": [
    {
     "name": "stdout",
     "output_type": "stream",
     "text": [
      "In grandparent class\n"
     ]
    }
   ],
   "source": [
    "y.f1()"
   ]
  },
  {
   "cell_type": "code",
   "execution_count": 29,
   "id": "2a658127",
   "metadata": {},
   "outputs": [
    {
     "name": "stdout",
     "output_type": "stream",
     "text": [
      "In parent class\n"
     ]
    }
   ],
   "source": [
    "y.f2()"
   ]
  },
  {
   "cell_type": "code",
   "execution_count": 30,
   "id": "63c69ff0",
   "metadata": {},
   "outputs": [
    {
     "name": "stdout",
     "output_type": "stream",
     "text": [
      "In child class\n"
     ]
    }
   ],
   "source": [
    "y.f3()"
   ]
  },
  {
   "cell_type": "markdown",
   "id": "e1239f72",
   "metadata": {},
   "source": [
    "## Hierarchical Inheritance\n",
    "\n",
    "- whwn more than one derived claases inherit properties from single base(parent)"
   ]
  },
  {
   "cell_type": "code",
   "execution_count": 33,
   "id": "0376dd4d",
   "metadata": {},
   "outputs": [],
   "source": [
    "class p1:\n",
    "    def fun1(self):\n",
    "        print(\" In parent class\")\n",
    "class c1(p1):\n",
    "    def fun2(self):\n",
    "        print(\"In child 1 class\")\n",
    "class c2(p1):\n",
    "    def fun3(self):\n",
    "        print(\"In child 2 class\")\n",
    "z1 = c1()\n",
    "z2 = c2()"
   ]
  },
  {
   "cell_type": "code",
   "execution_count": 34,
   "id": "a0177f0f",
   "metadata": {},
   "outputs": [
    {
     "name": "stdout",
     "output_type": "stream",
     "text": [
      " In parent class\n"
     ]
    }
   ],
   "source": [
    "z1.fun1()"
   ]
  },
  {
   "cell_type": "code",
   "execution_count": 35,
   "id": "0890f7a3",
   "metadata": {},
   "outputs": [
    {
     "name": "stdout",
     "output_type": "stream",
     "text": [
      "In child 1 class\n"
     ]
    }
   ],
   "source": [
    "z1.fun2()"
   ]
  },
  {
   "cell_type": "code",
   "execution_count": 36,
   "id": "d44b940f",
   "metadata": {},
   "outputs": [
    {
     "name": "stdout",
     "output_type": "stream",
     "text": [
      " In parent class\n"
     ]
    }
   ],
   "source": [
    "z2.fun1()"
   ]
  },
  {
   "cell_type": "code",
   "execution_count": 37,
   "id": "1350da82",
   "metadata": {},
   "outputs": [
    {
     "ename": "AttributeError",
     "evalue": "'c2' object has no attribute 'fun2'",
     "output_type": "error",
     "traceback": [
      "\u001b[1;31m---------------------------------------------------------------------------\u001b[0m",
      "\u001b[1;31mAttributeError\u001b[0m                            Traceback (most recent call last)",
      "\u001b[1;32m<ipython-input-37-d6d965f69b09>\u001b[0m in \u001b[0;36m<module>\u001b[1;34m\u001b[0m\n\u001b[1;32m----> 1\u001b[1;33m \u001b[0mz2\u001b[0m\u001b[1;33m.\u001b[0m\u001b[0mfun2\u001b[0m\u001b[1;33m(\u001b[0m\u001b[1;33m)\u001b[0m\u001b[1;33m\u001b[0m\u001b[1;33m\u001b[0m\u001b[0m\n\u001b[0m",
      "\u001b[1;31mAttributeError\u001b[0m: 'c2' object has no attribute 'fun2'"
     ]
    }
   ],
   "source": [
    "z2.fun2()"
   ]
  },
  {
   "cell_type": "code",
   "execution_count": 38,
   "id": "6fbfd4f1",
   "metadata": {},
   "outputs": [
    {
     "name": "stdout",
     "output_type": "stream",
     "text": [
      "In child 2 class\n"
     ]
    }
   ],
   "source": [
    "z2.fun3()"
   ]
  },
  {
   "cell_type": "markdown",
   "id": "27e4a90a",
   "metadata": {},
   "source": [
    "## Hybrid Inheritance\n",
    "\n",
    "- Inheritance consisting of multiple types of Inheritance"
   ]
  },
  {
   "cell_type": "code",
   "execution_count": 41,
   "id": "81fa7033",
   "metadata": {},
   "outputs": [],
   "source": [
    "class clg:\n",
    "    def f1(self):\n",
    "        print(\"Function in college class\")\n",
    "class student1(clg):\n",
    "    def f2(self):\n",
    "        print(\"Function in student 1 class\")\n",
    "class student2(student1, clg):\n",
    "    def f3(self):\n",
    "        print(\"Function in student 2 class\")\n",
    "s = student2()"
   ]
  },
  {
   "cell_type": "code",
   "execution_count": 42,
   "id": "b96ce9fe",
   "metadata": {},
   "outputs": [
    {
     "name": "stdout",
     "output_type": "stream",
     "text": [
      "Function in college class\n"
     ]
    }
   ],
   "source": [
    "s.f1()"
   ]
  },
  {
   "cell_type": "code",
   "execution_count": 43,
   "id": "d9250d82",
   "metadata": {},
   "outputs": [
    {
     "name": "stdout",
     "output_type": "stream",
     "text": [
      "Function in student 1 class\n"
     ]
    }
   ],
   "source": [
    "s.f2()"
   ]
  },
  {
   "cell_type": "markdown",
   "id": "be478412",
   "metadata": {},
   "source": [
    "## Data Encapsulation"
   ]
  },
  {
   "cell_type": "markdown",
   "id": "2d708f6b",
   "metadata": {},
   "source": [
    "- Encapsulation is one of the fundamental concepts in oops\n",
    "- Describes the data wrapping with one unit\n",
    "- Restrict accessing of variables and methods of class directly.\n",
    "    - Private variables\n",
    "    - Private methods\n",
    "        - use \"__\" to define a private methods or private variables"
   ]
  },
  {
   "cell_type": "code",
   "execution_count": 46,
   "id": "b89d5ad3",
   "metadata": {},
   "outputs": [],
   "source": [
    "class python:\n",
    "    def __init__(self):\n",
    "        self.__a = \"kakinada\"\n",
    "    def view(self):\n",
    "        print(self.__a)\n",
    "    def v1(self, b):\n",
    "        self.__a = b\n",
    "        print(self.__a)\n",
    "        \n",
    "x = python()"
   ]
  },
  {
   "cell_type": "code",
   "execution_count": 47,
   "id": "8197e5fb",
   "metadata": {},
   "outputs": [
    {
     "name": "stdout",
     "output_type": "stream",
     "text": [
      "kakinada\n"
     ]
    }
   ],
   "source": [
    "x.view()"
   ]
  },
  {
   "cell_type": "code",
   "execution_count": 48,
   "id": "a7f7285b",
   "metadata": {},
   "outputs": [
    {
     "ename": "TypeError",
     "evalue": "v1() missing 1 required positional argument: 'b'",
     "output_type": "error",
     "traceback": [
      "\u001b[1;31m---------------------------------------------------------------------------\u001b[0m",
      "\u001b[1;31mTypeError\u001b[0m                                 Traceback (most recent call last)",
      "\u001b[1;32m<ipython-input-48-998255269b37>\u001b[0m in \u001b[0;36m<module>\u001b[1;34m\u001b[0m\n\u001b[1;32m----> 1\u001b[1;33m \u001b[0mx\u001b[0m\u001b[1;33m.\u001b[0m\u001b[0mv1\u001b[0m\u001b[1;33m(\u001b[0m\u001b[1;33m)\u001b[0m\u001b[1;33m\u001b[0m\u001b[1;33m\u001b[0m\u001b[0m\n\u001b[0m",
      "\u001b[1;31mTypeError\u001b[0m: v1() missing 1 required positional argument: 'b'"
     ]
    }
   ],
   "source": [
    "x.v1()"
   ]
  },
  {
   "cell_type": "code",
   "execution_count": 49,
   "id": "75abbfc3",
   "metadata": {},
   "outputs": [
    {
     "name": "stdout",
     "output_type": "stream",
     "text": [
      "JNTUK\n"
     ]
    }
   ],
   "source": [
    "x.v1(\"JNTUK\")"
   ]
  },
  {
   "cell_type": "code",
   "execution_count": 50,
   "id": "66d91c99",
   "metadata": {},
   "outputs": [
    {
     "ename": "AttributeError",
     "evalue": "'python' object has no attribute '__a'",
     "output_type": "error",
     "traceback": [
      "\u001b[1;31m---------------------------------------------------------------------------\u001b[0m",
      "\u001b[1;31mAttributeError\u001b[0m                            Traceback (most recent call last)",
      "\u001b[1;32m<ipython-input-50-a4c55df43e36>\u001b[0m in \u001b[0;36m<module>\u001b[1;34m\u001b[0m\n\u001b[1;32m----> 1\u001b[1;33m \u001b[0mx\u001b[0m\u001b[1;33m.\u001b[0m\u001b[0m__a\u001b[0m\u001b[1;33m\u001b[0m\u001b[1;33m\u001b[0m\u001b[0m\n\u001b[0m",
      "\u001b[1;31mAttributeError\u001b[0m: 'python' object has no attribute '__a'"
     ]
    }
   ],
   "source": [
    "x.__a"
   ]
  },
  {
   "cell_type": "code",
   "execution_count": 52,
   "id": "2dcbd46c",
   "metadata": {},
   "outputs": [],
   "source": [
    "class m1:\n",
    "    __a = 10\n",
    "    def add(self, b):\n",
    "        sum = self.__a + b\n",
    "        return(sum)\n",
    "\n",
    "ob = m1()"
   ]
  },
  {
   "cell_type": "code",
   "execution_count": 53,
   "id": "a8ca4aba",
   "metadata": {},
   "outputs": [
    {
     "data": {
      "text/plain": [
       "131"
      ]
     },
     "execution_count": 53,
     "metadata": {},
     "output_type": "execute_result"
    }
   ],
   "source": [
    "ob.add(121)"
   ]
  },
  {
   "cell_type": "code",
   "execution_count": 54,
   "id": "acf5ef7f",
   "metadata": {},
   "outputs": [
    {
     "ename": "AttributeError",
     "evalue": "'m1' object has no attribute '__a'",
     "output_type": "error",
     "traceback": [
      "\u001b[1;31m---------------------------------------------------------------------------\u001b[0m",
      "\u001b[1;31mAttributeError\u001b[0m                            Traceback (most recent call last)",
      "\u001b[1;32m<ipython-input-54-1646835dda10>\u001b[0m in \u001b[0;36m<module>\u001b[1;34m\u001b[0m\n\u001b[1;32m----> 1\u001b[1;33m \u001b[0mob\u001b[0m\u001b[1;33m.\u001b[0m\u001b[0m__a\u001b[0m\u001b[1;33m\u001b[0m\u001b[1;33m\u001b[0m\u001b[0m\n\u001b[0m",
      "\u001b[1;31mAttributeError\u001b[0m: 'm1' object has no attribute '__a'"
     ]
    }
   ],
   "source": [
    "ob.__a"
   ]
  },
  {
   "cell_type": "markdown",
   "id": "bb269779",
   "metadata": {},
   "source": [
    "## Private Methods"
   ]
  },
  {
   "cell_type": "code",
   "execution_count": 58,
   "id": "80b75b59",
   "metadata": {},
   "outputs": [
    {
     "name": "stdout",
     "output_type": "stream",
     "text": [
      "Update your software\n"
     ]
    }
   ],
   "source": [
    "class car:\n",
    "    def __init__(self, x):\n",
    "        self.x = x\n",
    "        self.__update(x)\n",
    "    def drive(self):\n",
    "        print(\"Driving\")\n",
    "    def __update(self, x):\n",
    "        print(self.x)\n",
    "        print(\"Update your software\")\n",
    "        \n",
    "c = car(12)"
   ]
  },
  {
   "cell_type": "code",
   "execution_count": 59,
   "id": "16853b1e",
   "metadata": {},
   "outputs": [
    {
     "name": "stdout",
     "output_type": "stream",
     "text": [
      "Driving\n"
     ]
    }
   ],
   "source": [
    "c.drive()"
   ]
  },
  {
   "cell_type": "code",
   "execution_count": 60,
   "id": "c16ac750",
   "metadata": {},
   "outputs": [
    {
     "ename": "AttributeError",
     "evalue": "'car' object has no attribute '__update'",
     "output_type": "error",
     "traceback": [
      "\u001b[1;31m---------------------------------------------------------------------------\u001b[0m",
      "\u001b[1;31mAttributeError\u001b[0m                            Traceback (most recent call last)",
      "\u001b[1;32m<ipython-input-60-e47b3e662fa7>\u001b[0m in \u001b[0;36m<module>\u001b[1;34m\u001b[0m\n\u001b[1;32m----> 1\u001b[1;33m \u001b[0mc\u001b[0m\u001b[1;33m.\u001b[0m\u001b[0m__update\u001b[0m\u001b[1;33m(\u001b[0m\u001b[1;36m2\u001b[0m\u001b[1;33m)\u001b[0m\u001b[1;33m\u001b[0m\u001b[1;33m\u001b[0m\u001b[0m\n\u001b[0m",
      "\u001b[1;31mAttributeError\u001b[0m: 'car' object has no attribute '__update'"
     ]
    }
   ],
   "source": [
    "c.__update(2)"
   ]
  },
  {
   "cell_type": "markdown",
   "id": "c49bf383",
   "metadata": {},
   "source": [
    "## Constructor in inheritence"
   ]
  },
  {
   "cell_type": "code",
   "execution_count": 64,
   "id": "d9d2fa69",
   "metadata": {},
   "outputs": [
    {
     "name": "stdout",
     "output_type": "stream",
     "text": [
      "p1 constructed\n",
      "belongs to c1 constructor\n"
     ]
    }
   ],
   "source": [
    "class p1:\n",
    "    def __init__(self):\n",
    "        print(\"p1 constructed\")\n",
    "    def fun1(self):\n",
    "        print(\"In parent class\")\n",
    "class c1(p1):\n",
    "    def __init__(self):\n",
    "        super().__init__()\n",
    "        print(\"belongs to c1 constructor\")\n",
    "    def fun2(self):\n",
    "        print(\"In child 1 class\")\n",
    "        \n",
    "a1 = c1()"
   ]
  },
  {
   "cell_type": "code",
   "execution_count": 65,
   "id": "8515389f",
   "metadata": {},
   "outputs": [
    {
     "name": "stdout",
     "output_type": "stream",
     "text": [
      "p1 constructed\n",
      "belongs to c1 constructor\n"
     ]
    }
   ],
   "source": [
    "class p1:\n",
    "    def __init__(self):\n",
    "        print(\"p1 constructed\")\n",
    "    def fun1(self):\n",
    "        print(\"In parent class\")\n",
    "class p2:\n",
    "    def __init__(self):\n",
    "        print(\"p2 constructed\")\n",
    "    def fun2(self):\n",
    "        print(\"In parent2 class\")\n",
    "class c1(p1, p2):\n",
    "    def __init__(self):\n",
    "        super().__init__()\n",
    "        print(\"belongs to c1 constructor\")\n",
    "    def fun3(self):\n",
    "        super().fun2()\n",
    "        print(\"In child 1 class\")\n",
    "        \n",
    "a1 = c1()"
   ]
  },
  {
   "cell_type": "code",
   "execution_count": 66,
   "id": "e767dcbb",
   "metadata": {},
   "outputs": [
    {
     "name": "stdout",
     "output_type": "stream",
     "text": [
      "In parent2 class\n",
      "In child 1 class\n"
     ]
    }
   ],
   "source": [
    "a1.fun3()"
   ]
  }
 ],
 "metadata": {
  "kernelspec": {
   "display_name": "Python 3",
   "language": "python",
   "name": "python3"
  },
  "language_info": {
   "codemirror_mode": {
    "name": "ipython",
    "version": 3
   },
   "file_extension": ".py",
   "mimetype": "text/x-python",
   "name": "python",
   "nbconvert_exporter": "python",
   "pygments_lexer": "ipython3",
   "version": "3.8.8"
  }
 },
 "nbformat": 4,
 "nbformat_minor": 5
}
