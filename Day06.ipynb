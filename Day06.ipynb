{
 "cells": [
  {
   "cell_type": "markdown",
   "id": "3ad7354b",
   "metadata": {},
   "source": [
    "# Python Basics\n",
    "## Todays topics\n",
    "\n",
    "\n",
    "- Input and output\n",
    "- Varables in python\n",
    "- Type conversions in python\n",
    "- Operations in python\n",
    "- Conditional statements"
   ]
  },
  {
   "cell_type": "code",
   "execution_count": 1,
   "id": "fe8f7b9e",
   "metadata": {},
   "outputs": [
    {
     "name": "stdout",
     "output_type": "stream",
     "text": [
      "Hello World!\n"
     ]
    }
   ],
   "source": [
    "print(\"Hello World!\")"
   ]
  },
  {
   "cell_type": "code",
   "execution_count": 2,
   "id": "91b9fdab",
   "metadata": {},
   "outputs": [
    {
     "name": "stdout",
     "output_type": "stream",
     "text": [
      "Today's date is 29\n"
     ]
    }
   ],
   "source": [
    "print(\"Today's date is\",29)"
   ]
  },
  {
   "cell_type": "code",
   "execution_count": 3,
   "id": "4f1de45e",
   "metadata": {},
   "outputs": [
    {
     "name": "stdout",
     "output_type": "stream",
     "text": [
      "Today's date is-29\n"
     ]
    }
   ],
   "source": [
    "print(\"Today's date is\",29,sep = \"-\")"
   ]
  },
  {
   "cell_type": "code",
   "execution_count": 4,
   "id": "fc311a98",
   "metadata": {},
   "outputs": [
    {
     "name": "stdout",
     "output_type": "stream",
     "text": [
      "1\t2\t3\t4\t5\n"
     ]
    }
   ],
   "source": [
    "print(1,2,3,4,5,sep = \"\\t\" )"
   ]
  },
  {
   "cell_type": "code",
   "execution_count": 5,
   "id": "72d0bd4d",
   "metadata": {},
   "outputs": [
    {
     "name": "stdout",
     "output_type": "stream",
     "text": [
      "1abc2abc3abc4abc5\n"
     ]
    }
   ],
   "source": [
    "print(1,2,3,4,5,sep = \"abc\" )"
   ]
  },
  {
   "cell_type": "code",
   "execution_count": 6,
   "id": "515f4093",
   "metadata": {},
   "outputs": [
    {
     "name": "stdout",
     "output_type": "stream",
     "text": [
      "Hello World!\n",
      "Hello World!\n",
      "Hello World!\n"
     ]
    }
   ],
   "source": [
    "print(\"Hello World!\")\n",
    "print(\"Hello World!\")\n",
    "print(\"Hello World!\")"
   ]
  },
  {
   "cell_type": "code",
   "execution_count": 7,
   "id": "447eec81",
   "metadata": {},
   "outputs": [
    {
     "name": "stdout",
     "output_type": "stream",
     "text": [
      "Hello World!\tHello World!\tHello World!\n"
     ]
    }
   ],
   "source": [
    "print(\"Hello World!\", end = \"\\t\")\n",
    "print(\"Hello World!\", end = \"\\t\")\n",
    "print(\"Hello World!\")"
   ]
  },
  {
   "cell_type": "markdown",
   "id": "cb887f38",
   "metadata": {},
   "source": [
    "### Variable\n",
    "\n",
    "- It can contain AZaz09_\n",
    "- variable is a named memory location which holds some value\n",
    "- No special characters should be included in variable name except underscore\n",
    "- Keywords are not allowed as variables\n",
    "- Python is Case sensitive"
   ]
  },
  {
   "cell_type": "code",
   "execution_count": 11,
   "id": "2cbf6d80",
   "metadata": {},
   "outputs": [],
   "source": [
    "a = 10\n",
    "A =  5\n",
    "_a = 55\n",
    "# 1a = 66 ##invalid\n",
    "_ = 65\n",
    "# a-b = 23+66 ##invaild\n",
    "a9 = \"Hai\"\n",
    "a9_ = \"Hello\"\n"
   ]
  },
  {
   "cell_type": "markdown",
   "id": "18e7506f",
   "metadata": {},
   "source": [
    "### Data types in python\n",
    "\n",
    "- Primary data types : int, float, complex, string, boolean\n",
    "- Secondary data types : List, tuples, dictionaries, sets\n",
    "\n",
    "\n"
   ]
  },
  {
   "cell_type": "code",
   "execution_count": 13,
   "id": "0ba89d81",
   "metadata": {},
   "outputs": [],
   "source": [
    "a = 55\n",
    "b = 55.66\n",
    "c = 5 + 6j\n",
    "d =True\n",
    "e = 'a+5/.,;'\n",
    "f = [\"python\" ,65, 5+6j, 55.4]\n",
    "g = (\"python\" ,65, 5+6j, 55.4)\n",
    "h = {\"Name\" : 'Python'}\n",
    "i = {1,2,3,4}"
   ]
  },
  {
   "cell_type": "code",
   "execution_count": 14,
   "id": "6e5cfdb3",
   "metadata": {},
   "outputs": [
    {
     "name": "stdout",
     "output_type": "stream",
     "text": [
      "<class 'int'>\n"
     ]
    }
   ],
   "source": [
    "print(type(a))"
   ]
  },
  {
   "cell_type": "code",
   "execution_count": 15,
   "id": "5f8140dc",
   "metadata": {},
   "outputs": [
    {
     "name": "stdout",
     "output_type": "stream",
     "text": [
      "<class 'float'>\n"
     ]
    }
   ],
   "source": [
    "a = 33.4\n",
    "print(type(a))"
   ]
  },
  {
   "cell_type": "code",
   "execution_count": 16,
   "id": "074347f5",
   "metadata": {},
   "outputs": [
    {
     "name": "stdout",
     "output_type": "stream",
     "text": [
      "<class 'complex'>\n"
     ]
    }
   ],
   "source": [
    "print(type(c))"
   ]
  },
  {
   "cell_type": "code",
   "execution_count": 17,
   "id": "da37b28d",
   "metadata": {},
   "outputs": [
    {
     "name": "stdout",
     "output_type": "stream",
     "text": [
      "123\n"
     ]
    }
   ],
   "source": [
    "a = input()"
   ]
  },
  {
   "cell_type": "code",
   "execution_count": 18,
   "id": "870e0f5f",
   "metadata": {},
   "outputs": [],
   "source": [
    "abc = 987.6"
   ]
  },
  {
   "cell_type": "code",
   "execution_count": 19,
   "id": "78583e03",
   "metadata": {},
   "outputs": [
    {
     "name": "stdout",
     "output_type": "stream",
     "text": [
      "<class 'str'>\n"
     ]
    }
   ],
   "source": [
    "print(type(a))"
   ]
  },
  {
   "cell_type": "code",
   "execution_count": 20,
   "id": "db9b4e19",
   "metadata": {},
   "outputs": [
    {
     "name": "stdout",
     "output_type": "stream",
     "text": [
      "1,2,3\n"
     ]
    }
   ],
   "source": [
    " b = input()"
   ]
  },
  {
   "cell_type": "code",
   "execution_count": 21,
   "id": "1ee49582",
   "metadata": {},
   "outputs": [
    {
     "name": "stdout",
     "output_type": "stream",
     "text": [
      "1,2,3 <class 'str'>\n"
     ]
    }
   ],
   "source": [
    "print(b,type(b))"
   ]
  },
  {
   "cell_type": "markdown",
   "id": "ceb2b2e3",
   "metadata": {},
   "source": [
    "# Type Conversions"
   ]
  },
  {
   "cell_type": "code",
   "execution_count": 22,
   "id": "b1835453",
   "metadata": {},
   "outputs": [
    {
     "name": "stdout",
     "output_type": "stream",
     "text": [
      "123\n",
      "123 <class 'int'>\n"
     ]
    }
   ],
   "source": [
    "a = int(input())\n",
    "\n",
    "print(a, type(a))"
   ]
  },
  {
   "cell_type": "code",
   "execution_count": 23,
   "id": "3f682b93",
   "metadata": {},
   "outputs": [
    {
     "name": "stdout",
     "output_type": "stream",
     "text": [
      "12.33\n"
     ]
    },
    {
     "ename": "ValueError",
     "evalue": "invalid literal for int() with base 10: '12.33'",
     "output_type": "error",
     "traceback": [
      "\u001b[1;31m---------------------------------------------------------------------------\u001b[0m",
      "\u001b[1;31mValueError\u001b[0m                                Traceback (most recent call last)",
      "\u001b[1;32m<ipython-input-23-db898fecb4d9>\u001b[0m in \u001b[0;36m<module>\u001b[1;34m\u001b[0m\n\u001b[1;32m----> 1\u001b[1;33m \u001b[0ma\u001b[0m \u001b[1;33m=\u001b[0m \u001b[0mint\u001b[0m\u001b[1;33m(\u001b[0m\u001b[0minput\u001b[0m\u001b[1;33m(\u001b[0m\u001b[1;33m)\u001b[0m\u001b[1;33m)\u001b[0m\u001b[1;33m\u001b[0m\u001b[1;33m\u001b[0m\u001b[0m\n\u001b[0m\u001b[0;32m      2\u001b[0m \u001b[1;33m\u001b[0m\u001b[0m\n\u001b[0;32m      3\u001b[0m \u001b[0mprint\u001b[0m\u001b[1;33m(\u001b[0m\u001b[0ma\u001b[0m\u001b[1;33m,\u001b[0m \u001b[0mtype\u001b[0m\u001b[1;33m(\u001b[0m\u001b[0ma\u001b[0m\u001b[1;33m)\u001b[0m\u001b[1;33m)\u001b[0m\u001b[1;33m\u001b[0m\u001b[1;33m\u001b[0m\u001b[0m\n",
      "\u001b[1;31mValueError\u001b[0m: invalid literal for int() with base 10: '12.33'"
     ]
    }
   ],
   "source": [
    "a = int(input())\n",
    "\n",
    "print(a, type(a))"
   ]
  },
  {
   "cell_type": "code",
   "execution_count": 24,
   "id": "6956953b",
   "metadata": {},
   "outputs": [
    {
     "name": "stdout",
     "output_type": "stream",
     "text": [
      "255.6\n",
      "255.6 <class 'float'>\n"
     ]
    }
   ],
   "source": [
    "a = float(input())\n",
    "\n",
    "print(a, type(a))"
   ]
  },
  {
   "cell_type": "markdown",
   "id": "fa522bb7",
   "metadata": {},
   "source": [
    "### Number system\n",
    "- Decimal : 10(0 to 9)\n",
    "- Binary : 2(0,1)\n",
    "- Octal : 8(0 to 7)\n",
    "- Hexadecimal : 16(0 to 15)"
   ]
  },
  {
   "cell_type": "code",
   "execution_count": 25,
   "id": "c6ec62d7",
   "metadata": {},
   "outputs": [
    {
     "name": "stdout",
     "output_type": "stream",
     "text": [
      "0b110111\t0o67\t0x37\n"
     ]
    }
   ],
   "source": [
    "a = 55\n",
    "print(bin(a),oct(a),hex(a),sep = \"\\t\")"
   ]
  },
  {
   "cell_type": "code",
   "execution_count": 26,
   "id": "f5bc4901",
   "metadata": {},
   "outputs": [
    {
     "name": "stdout",
     "output_type": "stream",
     "text": [
      "27\t53\t296\n"
     ]
    }
   ],
   "source": [
    "print(int('11011',2), int('65',8), int(\"128\",16),sep = \"\\t\")"
   ]
  },
  {
   "cell_type": "markdown",
   "id": "078ccdd8",
   "metadata": {},
   "source": [
    "# ASCII\n"
   ]
  },
  {
   "cell_type": "code",
   "execution_count": 27,
   "id": "9c30132e",
   "metadata": {},
   "outputs": [
    {
     "name": "stdout",
     "output_type": "stream",
     "text": [
      "97\n"
     ]
    }
   ],
   "source": [
    "print(ord(\"a\"))"
   ]
  },
  {
   "cell_type": "code",
   "execution_count": 29,
   "id": "799c62f4",
   "metadata": {},
   "outputs": [
    {
     "name": "stdout",
     "output_type": "stream",
     "text": [
      "a\n"
     ]
    }
   ],
   "source": [
    "print(chr(97))"
   ]
  },
  {
   "cell_type": "markdown",
   "id": "c1dac85d",
   "metadata": {},
   "source": [
    "### Operators in python\n",
    "\n",
    "- Arithmatic +,-,*,%,/\n",
    "- Logical and,or,not\n",
    "- Comparision/relational <,>,<=,>=,==,!=\n",
    "- Bitwise &(and),|(or),~(not),^(Xor),>>(right shift),<<(left shift)\n",
    "- Assignment +=,-=,/=,%=,//=,**= \n",
    "- Identity is ,not is\n",
    "- Membership in , not in"
   ]
  },
  {
   "cell_type": "code",
   "execution_count": 30,
   "id": "a1d3612c",
   "metadata": {},
   "outputs": [
    {
     "name": "stdout",
     "output_type": "stream",
     "text": [
      "14\t-6\t40\t0.4\t4\t0\t16\n"
     ]
    }
   ],
   "source": [
    "a = 4\n",
    "b= 10\n",
    "\n",
    "print(a+b, a-b, a*b, a/b, a%b, a//b, a**2, sep = \"\\t\")"
   ]
  },
  {
   "cell_type": "markdown",
   "id": "b80fc419",
   "metadata": {},
   "source": [
    "# and\n",
    "\n",
    "\n",
    "|inp1|inp2|inp1 and inp2|\n",
    "|---|---|---|\n",
    "|F|F|F|\n",
    "|F|T|F|\n",
    "|T|F|F|\n",
    "|T|T|T|\n",
    "\n",
    "\n",
    "# or\n",
    "\n",
    "\n",
    "|inp1|inp2|inp1 or inp2|\n",
    "|---|---|---|\n",
    "|F|F|F|\n",
    "|F|T|T|\n",
    "|T|F|T|\n",
    "|T|T|T|\n",
    "\n",
    "\n",
    "# not\n",
    "\n",
    "|inp| not inp|\n",
    "|---|---|\n",
    "|T|F|\n",
    "|F|T|"
   ]
  },
  {
   "cell_type": "code",
   "execution_count": 32,
   "id": "198c800e",
   "metadata": {},
   "outputs": [
    {
     "name": "stdout",
     "output_type": "stream",
     "text": [
      "0\t1\tFalse\t0\tFalse\n"
     ]
    }
   ],
   "source": [
    "a = 1\n",
    "b = 0\n",
    "c = '0'\n",
    "\n",
    "print(a and b, a or b , not a, a and c, not c, sep = \"\\t\")"
   ]
  },
  {
   "cell_type": "code",
   "execution_count": 33,
   "id": "5a1f5ca0",
   "metadata": {},
   "outputs": [
    {
     "name": "stdout",
     "output_type": "stream",
     "text": [
      "1\n"
     ]
    }
   ],
   "source": [
    "print(c and a)"
   ]
  },
  {
   "cell_type": "code",
   "execution_count": 34,
   "id": "2e3ae4f8",
   "metadata": {},
   "outputs": [
    {
     "name": "stdout",
     "output_type": "stream",
     "text": [
      "6\n"
     ]
    }
   ],
   "source": [
    "a = 5\n",
    "b = 6\n",
    "c = 0\n",
    "\n",
    "print(a and b)"
   ]
  },
  {
   "cell_type": "code",
   "execution_count": 35,
   "id": "fb8d4c19",
   "metadata": {},
   "outputs": [
    {
     "name": "stdout",
     "output_type": "stream",
     "text": [
      "0 0\n"
     ]
    }
   ],
   "source": [
    "print(a and c, c and a)"
   ]
  },
  {
   "cell_type": "code",
   "execution_count": 36,
   "id": "159894cd",
   "metadata": {},
   "outputs": [
    {
     "name": "stdout",
     "output_type": "stream",
     "text": [
      "True False False\n"
     ]
    }
   ],
   "source": [
    "a = 5\n",
    "b = 6\n",
    "\n",
    "print(a < b, a > b, a == b)"
   ]
  },
  {
   "cell_type": "markdown",
   "id": "d8a5270b",
   "metadata": {},
   "source": [
    "###  Bitwise operators\n",
    "\n",
    "4   -> 0100\n",
    "10  -> 1010\n",
    "       _____\n",
    "       0000 -> and\n",
    "       1110 -> or\n",
    "       \n",
    "       \n",
    "~a\n",
    "4 -> 0100\n",
    "~4 -> 0001"
   ]
  },
  {
   "cell_type": "code",
   "execution_count": 37,
   "id": "4d098f6e",
   "metadata": {},
   "outputs": [
    {
     "name": "stdout",
     "output_type": "stream",
     "text": [
      "0\t14\t-5\n"
     ]
    }
   ],
   "source": [
    "a = 4\n",
    "b = 10\n",
    "\n",
    "print(a & b, a | b, ~a, sep = \"\\t\")"
   ]
  },
  {
   "cell_type": "markdown",
   "id": "6a51e9c0",
   "metadata": {},
   "source": [
    "### Xor- ^\n",
    "\n",
    "XOR -> A'B + AB'\n",
    "\n",
    "|inp1|inp2|inp1 xor inp2|\n",
    "|---|---|---|\n",
    "|F|F|F|\n",
    "|F|T|T|\n",
    "|T|F|T|\n",
    "|T|T|F|\n",
    "\n",
    "a = 4  -> 0100\n",
    "b = 10 -> 1010\n",
    "        _________\n",
    "           1110 -> 14"
   ]
  },
  {
   "cell_type": "code",
   "execution_count": 38,
   "id": "0c0845e4",
   "metadata": {},
   "outputs": [
    {
     "name": "stdout",
     "output_type": "stream",
     "text": [
      "14\n"
     ]
    }
   ],
   "source": [
    "print(a^b)"
   ]
  },
  {
   "cell_type": "markdown",
   "id": "5d8bf1a7",
   "metadata": {},
   "source": [
    "### Left and right shift\n",
    "\n",
    " a = 4 -> 0100\n",
    " a << 2 -> 010000 -> 16\n",
    " a >> 2 -> 0001 ->1"
   ]
  },
  {
   "cell_type": "code",
   "execution_count": 39,
   "id": "66865c48",
   "metadata": {},
   "outputs": [
    {
     "name": "stdout",
     "output_type": "stream",
     "text": [
      "16 1\n"
     ]
    }
   ],
   "source": [
    "a = 4\n",
    "\n",
    "print( a << 2, a>>2)"
   ]
  },
  {
   "cell_type": "code",
   "execution_count": 40,
   "id": "60fedfee",
   "metadata": {},
   "outputs": [
    {
     "name": "stdout",
     "output_type": "stream",
     "text": [
      "15\n",
      "25\n",
      "20\n",
      "400\n"
     ]
    }
   ],
   "source": [
    "a = 5\n",
    "\n",
    "a = a + 10\n",
    "print(a)\n",
    "a += 10\n",
    "print(a)\n",
    "a -= 5\n",
    "print(a)\n",
    "a **= 2\n",
    "print(a)"
   ]
  },
  {
   "cell_type": "markdown",
   "id": "a4296317",
   "metadata": {},
   "source": [
    "## Membership Operator"
   ]
  },
  {
   "cell_type": "code",
   "execution_count": 41,
   "id": "f036a2ad",
   "metadata": {},
   "outputs": [
    {
     "name": "stdout",
     "output_type": "stream",
     "text": [
      "False False True\n"
     ]
    }
   ],
   "source": [
    "a = \"Python\"\n",
    "b = \"Py\"\n",
    "c = \"py\"\n",
    "\n",
    "print(a in b, a in c, a not in c)"
   ]
  },
  {
   "cell_type": "code",
   "execution_count": 45,
   "id": "4df5e627",
   "metadata": {},
   "outputs": [],
   "source": [
    "a = 5\n",
    "b = 5.5\n",
    "c = 5\n",
    "d = [1,2,3]\n",
    "e = [1,2,3]\n",
    "f = d"
   ]
  },
  {
   "cell_type": "code",
   "execution_count": 46,
   "id": "e3cff275",
   "metadata": {},
   "outputs": [
    {
     "name": "stdout",
     "output_type": "stream",
     "text": [
      "[1, 2, 3]\n"
     ]
    }
   ],
   "source": [
    "print(f)"
   ]
  },
  {
   "cell_type": "code",
   "execution_count": 47,
   "id": "ba43fbe6",
   "metadata": {},
   "outputs": [
    {
     "name": "stdout",
     "output_type": "stream",
     "text": [
      "True True True\n"
     ]
    }
   ],
   "source": [
    "print(a == c, d == e, d == f)"
   ]
  },
  {
   "cell_type": "code",
   "execution_count": 48,
   "id": "af6c182e",
   "metadata": {},
   "outputs": [
    {
     "name": "stdout",
     "output_type": "stream",
     "text": [
      "140705741940656\n",
      "140705741940656\n",
      "2015291489344\n",
      "2015291489344\n",
      "2015291294976\n"
     ]
    }
   ],
   "source": [
    "print(id(a))\n",
    "print(id(c))\n",
    "print(id(d))\n",
    "print(id(f))\n",
    "print(id(e))"
   ]
  },
  {
   "cell_type": "code",
   "execution_count": 50,
   "id": "b4d05b30",
   "metadata": {},
   "outputs": [
    {
     "name": "stdout",
     "output_type": "stream",
     "text": [
      "[1, 2, 3, 'Python', 'Python']\n",
      "[1, 2, 3, 'Python', 'Python']\n"
     ]
    }
   ],
   "source": [
    "d.append(\"Python\")\n",
    "\n",
    "print(d)\n",
    "print(f)"
   ]
  },
  {
   "cell_type": "code",
   "execution_count": 51,
   "id": "d28032e2",
   "metadata": {},
   "outputs": [
    {
     "name": "stdout",
     "output_type": "stream",
     "text": [
      "[1, 2, 3, 'Python', 'Python'] [1, 2, 3] [1, 2, 3, 'Python', 'Python']\n",
      "False True False\n"
     ]
    }
   ],
   "source": [
    "print(d,e,f)\n",
    "print(d is e, d is f, e is f)"
   ]
  },
  {
   "cell_type": "code",
   "execution_count": null,
   "id": "73fcb945",
   "metadata": {},
   "outputs": [],
   "source": []
  }
 ],
 "metadata": {
  "kernelspec": {
   "display_name": "Python 3",
   "language": "python",
   "name": "python3"
  },
  "language_info": {
   "codemirror_mode": {
    "name": "ipython",
    "version": 3
   },
   "file_extension": ".py",
   "mimetype": "text/x-python",
   "name": "python",
   "nbconvert_exporter": "python",
   "pygments_lexer": "ipython3",
   "version": "3.8.8"
  }
 },
 "nbformat": 4,
 "nbformat_minor": 5
}
