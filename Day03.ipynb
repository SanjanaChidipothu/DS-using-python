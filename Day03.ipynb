{
 "cells": [
  {
   "cell_type": "code",
   "execution_count": 2,
   "id": "ba562af2",
   "metadata": {},
   "outputs": [
    {
     "name": "stdout",
     "output_type": "stream",
     "text": [
      "Hello World!\n"
     ]
    }
   ],
   "source": [
    "print(\"Hello World!\")"
   ]
  },
  {
   "cell_type": "code",
   "execution_count": 4,
   "id": "6bdb9c1a",
   "metadata": {},
   "outputs": [
    {
     "name": "stdout",
     "output_type": "stream",
     "text": [
      "Hello World Again!\n"
     ]
    }
   ],
   "source": [
    "print(\"Hello World Again!\")"
   ]
  },
  {
   "cell_type": "markdown",
   "id": "db74fa84",
   "metadata": {},
   "source": [
    "It is a markdown cell mainly used for descriptions."
   ]
  },
  {
   "cell_type": "markdown",
   "id": "e0978da0",
   "metadata": {},
   "source": [
    "# Heading 1\n",
    "## Heading 2\n",
    "### Heading 3\n",
    "#### Heading 4\n",
    "and so on..\n",
    "\n",
    "\n",
    "<h1>Main heading</h1>"
   ]
  },
  {
   "cell_type": "markdown",
   "id": "227b83d0",
   "metadata": {},
   "source": [
    "## Shortcuts for jupyter notebook\n",
    "\n",
    "1. Shift+ Enter -> for executing current cell\n",
    "2. EscA for inserting cell above current cell\n",
    "3. EscB for inserting cell below current cell\n",
    "4. EscM for converting code cell to markdown cell\n",
    "5. EscY for converting markdown cell to code cell\n",
    "6. EscDD for delete current cell\n",
    "7. EscL for toggling line numbers\n",
    "8. ctr+s for saving the notebook\n",
    "\n"
   ]
  },
  {
   "cell_type": "markdown",
   "id": "61535074",
   "metadata": {},
   "source": [
    "- Python is easy to learn\n",
    "- Python is easy to write\n",
    "* Python is open source\n",
    "+ Pthon is high level language\n",
    "    + It is a child to above line.\n",
    "        + It is a child to the above line."
   ]
  },
  {
   "cell_type": "markdown",
   "id": "ad4e48ed",
   "metadata": {},
   "source": [
    "1. Main point\n",
    "    A Sub point\n",
    "        a Sub sub point\n",
    "    B Sub point"
   ]
  },
  {
   "cell_type": "markdown",
   "id": "a2b2ff36",
   "metadata": {},
   "source": [
    "## Font styles\n",
    "Double start or double underscore for bold.\n",
    "Single start or single underscore for italic.\n",
    "Triple underscore bold plus itatic.\n",
    "\n",
    "\n",
    "1. **bold**\n",
    "2. __bold__\n",
    "3. *itatic*\n",
    "4. _italic_\n",
    "5. ***italic and bold***\n",
    "6. ___italic and bold___\n",
    "7. ~strike off~\n",
    "8. ~**bold and strikeoff**~\n",
    "9. ~***bold and italic and striked off***~"
   ]
  },
  {
   "cell_type": "markdown",
   "id": "6adeed58",
   "metadata": {},
   "source": [
    "## Inserting image\n",
    "\n",
    "### Syntax ![Image Description](Image link or path)\n",
    "\n",
    "![Flower image](https://th.bing.com/th/id/OIP.ZjK1uCTcm0MlzSUK3Sg6WwHaNK?pid=ImgDet&rs=1)\n",
    "\n"
   ]
  },
  {
   "cell_type": "markdown",
   "id": "b94a2629",
   "metadata": {},
   "source": [
    "### Inserting hyperlink\n",
    "\n",
    "#### Syntax [Some description](link or path)\n",
    "\n",
    "[click here to view flower image](https://th.bing.com/th/id/OIP.ZjK1uCTcm0MlzSUK3Sg6WwHaNK?pid=ImgDet&rs=1)\n",
    "\n",
    "\n",
    "#### Syntax [Some description]/(link or path)\n",
    "\n",
    "[click here to view flower image]/(https://th.bing.com/th/id/OIP.ZjK1uCTcm0MlzSUK3Sg6WwHaNK?pid=ImgDet&rs=1)\n",
    "\n",
    "\n"
   ]
  },
  {
   "cell_type": "markdown",
   "id": "a12631d9",
   "metadata": {},
   "source": [
    "#### Tabular data\n",
    "\n",
    "|NAME|Roll no|Email\n",
    "|-----|------|-------|\n",
    "|std1|roll1|email1|\n",
    "|std2|roll2|email2|\n",
    "|std3|roll3|email3|"
   ]
  },
  {
   "cell_type": "markdown",
   "id": "272d1ade",
   "metadata": {},
   "source": [
    "### Inserting code\n",
    "\n",
    "##### C code for hello\n",
    "\n",
    "\n",
    "```c \n",
    "#include<stdio.h>\n",
    "int main()\n",
    "{\n",
    "    printf(\"Hello C\");\n",
    "}\n",
    "```\n",
    "\n",
    "##### Python code\n",
    "\n",
    "\n",
    "```python\n",
    "print(\"Hello python\")\n",
    "```\n",
    "\n",
    "##### HTML code\n",
    "```html\n",
    "<h1>heading</h1>\n",
    "```"
   ]
  },
  {
   "cell_type": "markdown",
   "id": "f22fe79b",
   "metadata": {},
   "source": [
    "### Quotes\n",
    "\n",
    "\n",
    "Normal text\n",
    "\n",
    "> Sun rises in the east\n",
    "\n",
    "Normal data\n",
    "\n",
    "Python is `easy` to learn\n"
   ]
  },
  {
   "cell_type": "markdown",
   "id": "0f3a5c80",
   "metadata": {},
   "source": [
    "### Mathematical formulae\n",
    "\n",
    "\n",
    "$$(a + b)^2 = a^2 + 2*a*b + b^2$$\n",
    "\n",
    "\n",
    "a + b whole square is $(a_1 + b_1)^2 = a_1^2 + 2*a_1*b_1 + b_1^2$\n",
    "\n",
    "\n",
    "$\\alpha + \\beta + \\gamma + \\delta + \\kappa$\n",
    "\n",
    "$\\frac{a}{b}$\n",
    "\n",
    "\n",
    "$\\begin\n"
   ]
  },
  {
   "cell_type": "code",
   "execution_count": null,
   "id": "cb95bc1f",
   "metadata": {},
   "outputs": [],
   "source": []
  }
 ],
 "metadata": {
  "kernelspec": {
   "display_name": "Python 3",
   "language": "python",
   "name": "python3"
  },
  "language_info": {
   "codemirror_mode": {
    "name": "ipython",
    "version": 3
   },
   "file_extension": ".py",
   "mimetype": "text/x-python",
   "name": "python",
   "nbconvert_exporter": "python",
   "pygments_lexer": "ipython3",
   "version": "3.8.8"
  }
 },
 "nbformat": 4,
 "nbformat_minor": 5
}
