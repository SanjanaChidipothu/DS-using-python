{
 "cells": [
  {
   "cell_type": "markdown",
   "id": "2304b043",
   "metadata": {},
   "source": [
    "## contents\n",
    "\n",
    "- "
   ]
  },
  {
   "cell_type": "code",
   "execution_count": 1,
   "id": "731fe769",
   "metadata": {},
   "outputs": [],
   "source": [
    "import random"
   ]
  },
  {
   "cell_type": "code",
   "execution_count": 2,
   "id": "acbc19f7",
   "metadata": {},
   "outputs": [
    {
     "name": "stdout",
     "output_type": "stream",
     "text": [
      "0.35660253149793875\n"
     ]
    }
   ],
   "source": [
    "print(random.random())"
   ]
  },
  {
   "cell_type": "code",
   "execution_count": 3,
   "id": "0cea9ac1",
   "metadata": {},
   "outputs": [
    {
     "name": "stdout",
     "output_type": "stream",
     "text": [
      "0.7494731365530702\n"
     ]
    }
   ],
   "source": [
    "print(random.random())"
   ]
  },
  {
   "cell_type": "code",
   "execution_count": 4,
   "id": "b519b0f0",
   "metadata": {},
   "outputs": [
    {
     "name": "stdout",
     "output_type": "stream",
     "text": [
      "0.7374272202053591\n"
     ]
    }
   ],
   "source": [
    "print(random.random())"
   ]
  },
  {
   "cell_type": "code",
   "execution_count": 6,
   "id": "434b0619",
   "metadata": {},
   "outputs": [
    {
     "name": "stdout",
     "output_type": "stream",
     "text": [
      "0.15\n"
     ]
    }
   ],
   "source": [
    "print(round(random.random(), 2))"
   ]
  },
  {
   "cell_type": "code",
   "execution_count": 7,
   "id": "3722bfee",
   "metadata": {},
   "outputs": [
    {
     "name": "stdout",
     "output_type": "stream",
     "text": [
      "0.71\n"
     ]
    }
   ],
   "source": [
    "print(round(random.random(), 2))"
   ]
  },
  {
   "cell_type": "code",
   "execution_count": 9,
   "id": "e13c210d",
   "metadata": {},
   "outputs": [
    {
     "name": "stdout",
     "output_type": "stream",
     "text": [
      "6 5\n"
     ]
    }
   ],
   "source": [
    "a = 5.5\n",
    "\n",
    "ceil = 6\n",
    "floor = 5\n",
    "\n",
    "import math\n",
    "\n",
    "print(math.ceil(5.5), math.floor(5.5))"
   ]
  },
  {
   "cell_type": "code",
   "execution_count": 10,
   "id": "307a298f",
   "metadata": {},
   "outputs": [
    {
     "name": "stdout",
     "output_type": "stream",
     "text": [
      "0.3757221163771184\n"
     ]
    }
   ],
   "source": [
    "print(random.random())"
   ]
  },
  {
   "cell_type": "code",
   "execution_count": 11,
   "id": "3d9f1209",
   "metadata": {},
   "outputs": [
    {
     "name": "stdout",
     "output_type": "stream",
     "text": [
      "0.09033985426934954\n"
     ]
    }
   ],
   "source": [
    "random.seed(55)\n",
    "\n",
    "print(random.random())"
   ]
  },
  {
   "cell_type": "code",
   "execution_count": 12,
   "id": "7b3e6d7b",
   "metadata": {},
   "outputs": [
    {
     "name": "stdout",
     "output_type": "stream",
     "text": [
      "0.09033985426934954\n"
     ]
    }
   ],
   "source": [
    "random.seed(55)\n",
    "\n",
    "print(random.random())"
   ]
  },
  {
   "cell_type": "code",
   "execution_count": 13,
   "id": "da0227e6",
   "metadata": {},
   "outputs": [
    {
     "data": {
      "text/plain": [
       "'Return random integer in range [a, b], including both end points.\\n        '"
      ]
     },
     "execution_count": 13,
     "metadata": {},
     "output_type": "execute_result"
    }
   ],
   "source": [
    "random.randint.__doc__"
   ]
  },
  {
   "cell_type": "code",
   "execution_count": 14,
   "id": "63c97308",
   "metadata": {},
   "outputs": [
    {
     "name": "stdout",
     "output_type": "stream",
     "text": [
      "25\n"
     ]
    }
   ],
   "source": [
    "print(random.randint(0,100))"
   ]
  },
  {
   "cell_type": "code",
   "execution_count": 15,
   "id": "fd18b805",
   "metadata": {},
   "outputs": [
    {
     "name": "stdout",
     "output_type": "stream",
     "text": [
      "19\n"
     ]
    }
   ],
   "source": [
    "print(random.randint(0,100))"
   ]
  },
  {
   "cell_type": "code",
   "execution_count": 16,
   "id": "b9eca38b",
   "metadata": {},
   "outputs": [
    {
     "name": "stdout",
     "output_type": "stream",
     "text": [
      "5\n"
     ]
    }
   ],
   "source": [
    "print(random.randint(0,6))"
   ]
  },
  {
   "cell_type": "code",
   "execution_count": 17,
   "id": "b0980ccd",
   "metadata": {},
   "outputs": [
    {
     "name": "stdout",
     "output_type": "stream",
     "text": [
      "2\n"
     ]
    }
   ],
   "source": [
    "print(random.randint(0,6))"
   ]
  },
  {
   "cell_type": "code",
   "execution_count": 18,
   "id": "b37fc5b3",
   "metadata": {},
   "outputs": [
    {
     "name": "stdout",
     "output_type": "stream",
     "text": [
      "6\n"
     ]
    }
   ],
   "source": [
    "print(random.randint(0,6))"
   ]
  },
  {
   "cell_type": "code",
   "execution_count": 19,
   "id": "a3337dfe",
   "metadata": {},
   "outputs": [
    {
     "name": "stdout",
     "output_type": "stream",
     "text": [
      "0\n"
     ]
    }
   ],
   "source": [
    "print(random.randint(0,6))"
   ]
  },
  {
   "cell_type": "code",
   "execution_count": 20,
   "id": "9a05b1ec",
   "metadata": {},
   "outputs": [
    {
     "name": "stdout",
     "output_type": "stream",
     "text": [
      "5\n"
     ]
    }
   ],
   "source": [
    "print(random.randint(0,6))"
   ]
  },
  {
   "cell_type": "code",
   "execution_count": 21,
   "id": "e9e5a36d",
   "metadata": {},
   "outputs": [
    {
     "name": "stdout",
     "output_type": "stream",
     "text": [
      "1\n"
     ]
    }
   ],
   "source": [
    "print(random.randint(0,6))"
   ]
  },
  {
   "cell_type": "code",
   "execution_count": 22,
   "id": "f35f5004",
   "metadata": {},
   "outputs": [
    {
     "name": "stdout",
     "output_type": "stream",
     "text": [
      "2\n",
      "0\n",
      "2\n",
      "5\n",
      "6\n",
      "5\n"
     ]
    }
   ],
   "source": [
    "for i in range(6):\n",
    "    print(random.randint(0, 6))"
   ]
  },
  {
   "cell_type": "code",
   "execution_count": 24,
   "id": "343b8aa1",
   "metadata": {},
   "outputs": [
    {
     "name": "stdout",
     "output_type": "stream",
     "text": [
      "65 90\n"
     ]
    }
   ],
   "source": [
    "print(ord(\"A\"),ord(\"Z\"))"
   ]
  },
  {
   "cell_type": "code",
   "execution_count": 25,
   "id": "21750099",
   "metadata": {},
   "outputs": [
    {
     "name": "stdout",
     "output_type": "stream",
     "text": [
      "P\n",
      "R\n",
      "M\n",
      "M\n",
      "Q\n",
      "M\n",
      "K\n",
      "X\n",
      "N\n",
      "R\n"
     ]
    }
   ],
   "source": [
    "for i in range(10):\n",
    "    print(chr(random.randint(65,90)))"
   ]
  },
  {
   "cell_type": "code",
   "execution_count": 26,
   "id": "e272651c",
   "metadata": {},
   "outputs": [
    {
     "name": "stdout",
     "output_type": "stream",
     "text": [
      "head\n"
     ]
    }
   ],
   "source": [
    "l1 = [\"head\", \"tail\"]\n",
    "\n",
    "print(random.choice(l1))"
   ]
  },
  {
   "cell_type": "code",
   "execution_count": 28,
   "id": "22674b35",
   "metadata": {},
   "outputs": [
    {
     "name": "stdout",
     "output_type": "stream",
     "text": [
      "head\n",
      "tail\n",
      "head\n",
      "head\n",
      "tail\n",
      "head\n"
     ]
    }
   ],
   "source": [
    "l1 = [\"head\", \"tail\"]\n",
    "\n",
    "for i in range(6):\n",
    "    print(random.choice(l1))"
   ]
  },
  {
   "cell_type": "code",
   "execution_count": 29,
   "id": "a14bba3f",
   "metadata": {},
   "outputs": [],
   "source": [
    "l1 = [1, 2, 3, 4, 5, 6,7]\n",
    "random.shuffle(l1)"
   ]
  },
  {
   "cell_type": "code",
   "execution_count": 31,
   "id": "de3c41d9",
   "metadata": {},
   "outputs": [
    {
     "name": "stdout",
     "output_type": "stream",
     "text": [
      "[1, 3, 5, 6, 4, 7, 2]\n"
     ]
    }
   ],
   "source": [
    "print(l1)"
   ]
  },
  {
   "cell_type": "code",
   "execution_count": 32,
   "id": "59c1be66",
   "metadata": {},
   "outputs": [
    {
     "name": "stdout",
     "output_type": "stream",
     "text": [
      "[5, 3, 2, 4, 6, 1, 7]\n"
     ]
    }
   ],
   "source": [
    "l1 = [1, 2, 3, 4, 5, 6,7]\n",
    "random.shuffle(l1)\n",
    "\n",
    "print(l1)"
   ]
  },
  {
   "cell_type": "markdown",
   "id": "407c2aff",
   "metadata": {},
   "source": [
    "## random.gauss(mu, sigma)\n",
    "\n",
    "mu means mean value\n",
    "sigma is standard distribution\n"
   ]
  },
  {
   "cell_type": "code",
   "execution_count": 33,
   "id": "150ea4f5",
   "metadata": {},
   "outputs": [
    {
     "name": "stdout",
     "output_type": "stream",
     "text": [
      "-0.4369270260360893\n"
     ]
    }
   ],
   "source": [
    "print(random.gauss(0, 1))"
   ]
  },
  {
   "cell_type": "code",
   "execution_count": 34,
   "id": "44a2e1cd",
   "metadata": {},
   "outputs": [
    {
     "name": "stdout",
     "output_type": "stream",
     "text": [
      "7.339931621222879\n"
     ]
    }
   ],
   "source": [
    "print(random.uniform(5, 10))"
   ]
  },
  {
   "cell_type": "code",
   "execution_count": 35,
   "id": "203a4cc9",
   "metadata": {},
   "outputs": [
    {
     "name": "stdout",
     "output_type": "stream",
     "text": [
      "9.211375756714375\n",
      "6.105333950708557\n",
      "7.770121923165504\n",
      "7.201119557371701\n",
      "6.508695357901125\n",
      "5.650937364521676\n",
      "8.489430126489571\n",
      "7.07556936240553\n",
      "7.3484032446838405\n",
      "8.013393459511793\n"
     ]
    }
   ],
   "source": [
    "for i in range(10):\n",
    "    print(random.uniform(5, 10))"
   ]
  },
  {
   "cell_type": "code",
   "execution_count": 37,
   "id": "4c1a1977",
   "metadata": {},
   "outputs": [
    {
     "data": {
      "text/plain": [
       "7"
      ]
     },
     "execution_count": 37,
     "metadata": {},
     "output_type": "execute_result"
    }
   ],
   "source": [
    "random.randrange(1,15)"
   ]
  },
  {
   "cell_type": "code",
   "execution_count": 38,
   "id": "b6572f62",
   "metadata": {},
   "outputs": [
    {
     "name": "stdout",
     "output_type": "stream",
     "text": [
      "     June 2021\n",
      "Mo Tu We Th Fr Sa Su\n",
      "    1  2  3  4  5  6\n",
      " 7  8  9 10 11 12 13\n",
      "14 15 16 17 18 19 20\n",
      "21 22 23 24 25 26 27\n",
      "28 29 30\n",
      "\n"
     ]
    }
   ],
   "source": [
    "import calendar\n",
    "\n",
    "print(calendar.month(2021, 6))"
   ]
  },
  {
   "cell_type": "code",
   "execution_count": 39,
   "id": "724dbc7b",
   "metadata": {},
   "outputs": [
    {
     "name": "stdout",
     "output_type": "stream",
     "text": [
      "   September 2021\n",
      "Mo Tu We Th Fr Sa Su\n",
      "       1  2  3  4  5\n",
      " 6  7  8  9 10 11 12\n",
      "13 14 15 16 17 18 19\n",
      "20 21 22 23 24 25 26\n",
      "27 28 29 30\n",
      "\n"
     ]
    }
   ],
   "source": [
    "import calendar\n",
    "\n",
    "print(calendar.month(2021, 9))"
   ]
  },
  {
   "cell_type": "code",
   "execution_count": 43,
   "id": "8855c229",
   "metadata": {},
   "outputs": [],
   "source": [
    "import calendar as cal"
   ]
  },
  {
   "cell_type": "code",
   "execution_count": 44,
   "id": "6b49bbe7",
   "metadata": {},
   "outputs": [
    {
     "name": "stdout",
     "output_type": "stream",
     "text": [
      "Help on function weekday in module calendar:\n",
      "\n",
      "weekday(year, month, day)\n",
      "    Return weekday (0-6 ~ Mon-Sun) for year, month (1-12), day (1-31).\n",
      "\n"
     ]
    }
   ],
   "source": [
    "help(cal.weekday)"
   ]
  },
  {
   "cell_type": "code",
   "execution_count": 45,
   "id": "2f7c8928",
   "metadata": {},
   "outputs": [
    {
     "name": "stdout",
     "output_type": "stream",
     "text": [
      "6\n"
     ]
    }
   ],
   "source": [
    "print(cal.weekday(2021, 6, 6))"
   ]
  },
  {
   "cell_type": "code",
   "execution_count": 46,
   "id": "b0a02120",
   "metadata": {},
   "outputs": [
    {
     "data": {
      "text/plain": [
       "'Calendar printing functions\\n\\nNote when comparing these calendars to the ones printed by cal(1): By\\ndefault, these calendars have Monday as the first day of the week, and\\nSunday as the last (the European convention). Use setfirstweekday() to\\nset the first day of the week (0=Monday, 6=Sunday).'"
      ]
     },
     "execution_count": 46,
     "metadata": {},
     "output_type": "execute_result"
    }
   ],
   "source": [
    "calendar.__doc__"
   ]
  },
  {
   "cell_type": "code",
   "execution_count": 47,
   "id": "9807cfec",
   "metadata": {},
   "outputs": [
    {
     "name": "stdout",
     "output_type": "stream",
     "text": [
      "                                  2021\n",
      "\n",
      "      January                   February                   March\n",
      "Mo Tu We Th Fr Sa Su      Mo Tu We Th Fr Sa Su      Mo Tu We Th Fr Sa Su\n",
      "             1  2  3       1  2  3  4  5  6  7       1  2  3  4  5  6  7\n",
      " 4  5  6  7  8  9 10       8  9 10 11 12 13 14       8  9 10 11 12 13 14\n",
      "11 12 13 14 15 16 17      15 16 17 18 19 20 21      15 16 17 18 19 20 21\n",
      "18 19 20 21 22 23 24      22 23 24 25 26 27 28      22 23 24 25 26 27 28\n",
      "25 26 27 28 29 30 31                                29 30 31\n",
      "\n",
      "       April                      May                       June\n",
      "Mo Tu We Th Fr Sa Su      Mo Tu We Th Fr Sa Su      Mo Tu We Th Fr Sa Su\n",
      "          1  2  3  4                      1  2          1  2  3  4  5  6\n",
      " 5  6  7  8  9 10 11       3  4  5  6  7  8  9       7  8  9 10 11 12 13\n",
      "12 13 14 15 16 17 18      10 11 12 13 14 15 16      14 15 16 17 18 19 20\n",
      "19 20 21 22 23 24 25      17 18 19 20 21 22 23      21 22 23 24 25 26 27\n",
      "26 27 28 29 30            24 25 26 27 28 29 30      28 29 30\n",
      "                          31\n",
      "\n",
      "        July                     August                  September\n",
      "Mo Tu We Th Fr Sa Su      Mo Tu We Th Fr Sa Su      Mo Tu We Th Fr Sa Su\n",
      "          1  2  3  4                         1             1  2  3  4  5\n",
      " 5  6  7  8  9 10 11       2  3  4  5  6  7  8       6  7  8  9 10 11 12\n",
      "12 13 14 15 16 17 18       9 10 11 12 13 14 15      13 14 15 16 17 18 19\n",
      "19 20 21 22 23 24 25      16 17 18 19 20 21 22      20 21 22 23 24 25 26\n",
      "26 27 28 29 30 31         23 24 25 26 27 28 29      27 28 29 30\n",
      "                          30 31\n",
      "\n",
      "      October                   November                  December\n",
      "Mo Tu We Th Fr Sa Su      Mo Tu We Th Fr Sa Su      Mo Tu We Th Fr Sa Su\n",
      "             1  2  3       1  2  3  4  5  6  7             1  2  3  4  5\n",
      " 4  5  6  7  8  9 10       8  9 10 11 12 13 14       6  7  8  9 10 11 12\n",
      "11 12 13 14 15 16 17      15 16 17 18 19 20 21      13 14 15 16 17 18 19\n",
      "18 19 20 21 22 23 24      22 23 24 25 26 27 28      20 21 22 23 24 25 26\n",
      "25 26 27 28 29 30 31      29 30                     27 28 29 30 31\n",
      "\n"
     ]
    }
   ],
   "source": [
    "print(cal.calendar(2021))"
   ]
  },
  {
   "cell_type": "code",
   "execution_count": 48,
   "id": "371db51a",
   "metadata": {},
   "outputs": [
    {
     "data": {
      "text/plain": [
       "<module 'datetime' from 'C:\\\\Users\\\\Admin\\\\anaconda3\\\\lib\\\\datetime.py'>"
      ]
     },
     "execution_count": 48,
     "metadata": {},
     "output_type": "execute_result"
    }
   ],
   "source": [
    "cal.datetime"
   ]
  },
  {
   "cell_type": "markdown",
   "id": "9ecca33b",
   "metadata": {},
   "source": [
    "- from package import moduleas alias\n",
    "            (or)\n",
    "- from package import module as alias\n",
    "            (or)\n",
    "- import package.module as alias"
   ]
  },
  {
   "cell_type": "code",
   "execution_count": 49,
   "id": "f787e4ec",
   "metadata": {},
   "outputs": [],
   "source": [
    "import os"
   ]
  },
  {
   "cell_type": "code",
   "execution_count": 50,
   "id": "e1108ace",
   "metadata": {},
   "outputs": [
    {
     "name": "stdout",
     "output_type": "stream",
     "text": [
      " Volume in drive C has no label.\n",
      " Volume Serial Number is FC05-758F\n",
      "\n",
      " Directory of C:\\Users\\Admin\\Desktop\\Data Science Internship May-2021\n",
      "\n",
      "06/08/2021  05:26 PM    <DIR>          .\n",
      "06/08/2021  05:26 PM    <DIR>          ..\n",
      "06/08/2021  04:35 PM    <DIR>          .ipynb_checkpoints\n",
      "06/05/2021  05:06 PM                23 data.txt\n",
      "06/05/2021  05:08 PM                23 data1.txt\n",
      "06/05/2021  05:08 PM               230 data2.txt\n",
      "05/26/2021  06:35 PM             5,597 Day03.ipynb\n",
      "05/29/2021  06:35 PM            18,160 Day06.ipynb\n",
      "06/01/2021  06:44 PM            46,100 Day07&08.ipynb\n",
      "06/02/2021  07:54 PM            39,892 Day09.ipynb\n",
      "06/03/2021  06:50 PM            32,488 Day10.ipynb\n",
      "06/04/2021  06:30 PM            54,806 Day11.ipynb\n",
      "06/05/2021  06:33 PM            34,939 Day12.ipynb\n",
      "06/07/2021  10:13 PM             5,766 Day13.ipynb\n",
      "06/08/2021  05:26 PM            16,551 Day14.ipynb\n",
      "06/05/2021  06:13 PM               892 file.txt\n",
      "06/05/2021  06:28 PM               992 file1.txt\n",
      "06/05/2021  06:28 PM               992 file10.txt\n",
      "06/05/2021  06:28 PM             9,536 file2.txt\n",
      "06/05/2021  06:28 PM               992 file3.txt\n",
      "06/05/2021  06:28 PM               992 file4.txt\n",
      "06/05/2021  06:28 PM               992 file5.txt\n",
      "06/05/2021  06:28 PM               992 file6.txt\n",
      "06/05/2021  06:28 PM               992 file7.txt\n",
      "06/05/2021  06:28 PM               992 file8.txt\n",
      "06/05/2021  06:28 PM               992 file9.txt\n",
      "              23 File(s)        273,931 bytes\n",
      "               3 Dir(s)  122,700,869,632 bytes free\n"
     ]
    }
   ],
   "source": [
    "ls"
   ]
  },
  {
   "cell_type": "code",
   "execution_count": 54,
   "id": "9a9bb220",
   "metadata": {},
   "outputs": [
    {
     "data": {
      "text/plain": [
       "'C:\\\\Users\\\\Admin\\\\Desktop\\\\Data Science Internship May-2021'"
      ]
     },
     "execution_count": 54,
     "metadata": {},
     "output_type": "execute_result"
    }
   ],
   "source": [
    "pwd"
   ]
  },
  {
   "cell_type": "code",
   "execution_count": 55,
   "id": "f8643949",
   "metadata": {},
   "outputs": [],
   "source": [
    "mkdir newFolder"
   ]
  },
  {
   "cell_type": "code",
   "execution_count": 56,
   "id": "cf0e1ada",
   "metadata": {},
   "outputs": [
    {
     "name": "stdout",
     "output_type": "stream",
     "text": [
      " Volume in drive C has no label.\n",
      " Volume Serial Number is FC05-758F\n",
      "\n",
      " Directory of C:\\Users\\Admin\\Desktop\\Data Science Internship May-2021\n",
      "\n",
      "06/08/2021  05:29 PM    <DIR>          .\n",
      "06/08/2021  05:29 PM    <DIR>          ..\n",
      "06/08/2021  04:35 PM    <DIR>          .ipynb_checkpoints\n",
      "06/05/2021  05:06 PM                23 data.txt\n",
      "06/05/2021  05:08 PM                23 data1.txt\n",
      "06/05/2021  05:08 PM               230 data2.txt\n",
      "05/26/2021  06:35 PM             5,597 Day03.ipynb\n",
      "05/29/2021  06:35 PM            18,160 Day06.ipynb\n",
      "06/01/2021  06:44 PM            46,100 Day07&08.ipynb\n",
      "06/02/2021  07:54 PM            39,892 Day09.ipynb\n",
      "06/03/2021  06:50 PM            32,488 Day10.ipynb\n",
      "06/04/2021  06:30 PM            54,806 Day11.ipynb\n",
      "06/05/2021  06:33 PM            34,939 Day12.ipynb\n",
      "06/07/2021  10:13 PM             5,766 Day13.ipynb\n",
      "06/08/2021  05:28 PM            18,833 Day14.ipynb\n",
      "06/05/2021  06:13 PM               892 file.txt\n",
      "06/05/2021  06:28 PM               992 file1.txt\n",
      "06/05/2021  06:28 PM               992 file10.txt\n",
      "06/05/2021  06:28 PM             9,536 file2.txt\n",
      "06/05/2021  06:28 PM               992 file3.txt\n",
      "06/05/2021  06:28 PM               992 file4.txt\n",
      "06/05/2021  06:28 PM               992 file5.txt\n",
      "06/05/2021  06:28 PM               992 file6.txt\n",
      "06/05/2021  06:28 PM               992 file7.txt\n",
      "06/05/2021  06:28 PM               992 file8.txt\n",
      "06/05/2021  06:28 PM               992 file9.txt\n",
      "06/08/2021  05:29 PM    <DIR>          newFolder\n",
      "              23 File(s)        276,213 bytes\n",
      "               4 Dir(s)  122,701,258,752 bytes free\n"
     ]
    }
   ],
   "source": [
    "ls"
   ]
  },
  {
   "cell_type": "code",
   "execution_count": 57,
   "id": "0cac3917",
   "metadata": {},
   "outputs": [],
   "source": [
    "os.mkdir(\"folderFromPython\")"
   ]
  },
  {
   "cell_type": "code",
   "execution_count": 58,
   "id": "c0796132",
   "metadata": {},
   "outputs": [
    {
     "name": "stdout",
     "output_type": "stream",
     "text": [
      " Volume in drive C has no label.\n",
      " Volume Serial Number is FC05-758F\n",
      "\n",
      " Directory of C:\\Users\\Admin\\Desktop\\Data Science Internship May-2021\n",
      "\n",
      "06/08/2021  05:30 PM    <DIR>          .\n",
      "06/08/2021  05:30 PM    <DIR>          ..\n",
      "06/08/2021  04:35 PM    <DIR>          .ipynb_checkpoints\n",
      "06/05/2021  05:06 PM                23 data.txt\n",
      "06/05/2021  05:08 PM                23 data1.txt\n",
      "06/05/2021  05:08 PM               230 data2.txt\n",
      "05/26/2021  06:35 PM             5,597 Day03.ipynb\n",
      "05/29/2021  06:35 PM            18,160 Day06.ipynb\n",
      "06/01/2021  06:44 PM            46,100 Day07&08.ipynb\n",
      "06/02/2021  07:54 PM            39,892 Day09.ipynb\n",
      "06/03/2021  06:50 PM            32,488 Day10.ipynb\n",
      "06/04/2021  06:30 PM            54,806 Day11.ipynb\n",
      "06/05/2021  06:33 PM            34,939 Day12.ipynb\n",
      "06/07/2021  10:13 PM             5,766 Day13.ipynb\n",
      "06/08/2021  05:30 PM            21,581 Day14.ipynb\n",
      "06/05/2021  06:13 PM               892 file.txt\n",
      "06/05/2021  06:28 PM               992 file1.txt\n",
      "06/05/2021  06:28 PM               992 file10.txt\n",
      "06/05/2021  06:28 PM             9,536 file2.txt\n",
      "06/05/2021  06:28 PM               992 file3.txt\n",
      "06/05/2021  06:28 PM               992 file4.txt\n",
      "06/05/2021  06:28 PM               992 file5.txt\n",
      "06/05/2021  06:28 PM               992 file6.txt\n",
      "06/05/2021  06:28 PM               992 file7.txt\n",
      "06/05/2021  06:28 PM               992 file8.txt\n",
      "06/05/2021  06:28 PM               992 file9.txt\n",
      "06/08/2021  05:30 PM    <DIR>          folderFromPython\n",
      "06/08/2021  05:29 PM    <DIR>          newFolder\n",
      "              23 File(s)        278,961 bytes\n",
      "               5 Dir(s)  122,700,750,848 bytes free\n"
     ]
    }
   ],
   "source": [
    "ls"
   ]
  },
  {
   "cell_type": "code",
   "execution_count": 60,
   "id": "da8ce231",
   "metadata": {},
   "outputs": [],
   "source": [
    "os.remove(\"file9.txt\")"
   ]
  },
  {
   "cell_type": "code",
   "execution_count": 61,
   "id": "a5cdbb8f",
   "metadata": {
    "scrolled": true
   },
   "outputs": [
    {
     "name": "stdout",
     "output_type": "stream",
     "text": [
      " Volume in drive C has no label.\n",
      " Volume Serial Number is FC05-758F\n",
      "\n",
      " Directory of C:\\Users\\Admin\\Desktop\\Data Science Internship May-2021\n",
      "\n",
      "06/08/2021  05:33 PM    <DIR>          .\n",
      "06/08/2021  05:33 PM    <DIR>          ..\n",
      "06/08/2021  04:35 PM    <DIR>          .ipynb_checkpoints\n",
      "06/05/2021  05:06 PM                23 data.txt\n",
      "06/05/2021  05:08 PM                23 data1.txt\n",
      "06/05/2021  05:08 PM               230 data2.txt\n",
      "05/26/2021  06:35 PM             5,597 Day03.ipynb\n",
      "05/29/2021  06:35 PM            18,160 Day06.ipynb\n",
      "06/01/2021  06:44 PM            46,100 Day07&08.ipynb\n",
      "06/02/2021  07:54 PM            39,892 Day09.ipynb\n",
      "06/03/2021  06:50 PM            32,488 Day10.ipynb\n",
      "06/04/2021  06:30 PM            54,806 Day11.ipynb\n",
      "06/05/2021  06:33 PM            34,939 Day12.ipynb\n",
      "06/07/2021  10:13 PM             5,766 Day13.ipynb\n",
      "06/08/2021  05:32 PM            23,992 Day14.ipynb\n",
      "06/05/2021  06:13 PM               892 file.txt\n",
      "06/05/2021  06:28 PM               992 file1.txt\n",
      "06/05/2021  06:28 PM               992 file10.txt\n",
      "06/05/2021  06:28 PM             9,536 file2.txt\n",
      "06/05/2021  06:28 PM               992 file3.txt\n",
      "06/05/2021  06:28 PM               992 file4.txt\n",
      "06/05/2021  06:28 PM               992 file5.txt\n",
      "06/05/2021  06:28 PM               992 file6.txt\n",
      "06/05/2021  06:28 PM               992 file7.txt\n",
      "06/05/2021  06:28 PM               992 file8.txt\n",
      "06/08/2021  05:30 PM    <DIR>          folderFromPython\n",
      "06/08/2021  05:29 PM    <DIR>          newFolder\n",
      "              22 File(s)        280,380 bytes\n",
      "               5 Dir(s)  122,699,440,128 bytes free\n"
     ]
    }
   ],
   "source": [
    "ls"
   ]
  },
  {
   "cell_type": "code",
   "execution_count": 62,
   "id": "cfcf36c6",
   "metadata": {},
   "outputs": [
    {
     "data": {
      "text/plain": [
       "['.ipynb_checkpoints',\n",
       " 'data.txt',\n",
       " 'data1.txt',\n",
       " 'data2.txt',\n",
       " 'Day03.ipynb',\n",
       " 'Day06.ipynb',\n",
       " 'Day07&08.ipynb',\n",
       " 'Day09.ipynb',\n",
       " 'Day10.ipynb',\n",
       " 'Day11.ipynb',\n",
       " 'Day12.ipynb',\n",
       " 'Day13.ipynb',\n",
       " 'Day14.ipynb',\n",
       " 'file.txt',\n",
       " 'file1.txt',\n",
       " 'file10.txt',\n",
       " 'file2.txt',\n",
       " 'file3.txt',\n",
       " 'file4.txt',\n",
       " 'file5.txt',\n",
       " 'file6.txt',\n",
       " 'file7.txt',\n",
       " 'file8.txt',\n",
       " 'folderFromPython',\n",
       " 'newFolder']"
      ]
     },
     "execution_count": 62,
     "metadata": {},
     "output_type": "execute_result"
    }
   ],
   "source": [
    "os.listdir()"
   ]
  },
  {
   "cell_type": "code",
   "execution_count": 63,
   "id": "f5432d06",
   "metadata": {},
   "outputs": [
    {
     "data": {
      "text/plain": [
       "'C:\\\\Users\\\\Admin\\\\Desktop\\\\Data Science Internship May-2021'"
      ]
     },
     "execution_count": 63,
     "metadata": {},
     "output_type": "execute_result"
    }
   ],
   "source": [
    "os.getcwd()"
   ]
  },
  {
   "cell_type": "code",
   "execution_count": 64,
   "id": "56daf075",
   "metadata": {},
   "outputs": [
    {
     "data": {
      "text/plain": [
       "'C:\\\\Users\\\\Admin\\\\Desktop\\\\Data Science Internship May-2021\\\\newFolder'"
      ]
     },
     "execution_count": 64,
     "metadata": {},
     "output_type": "execute_result"
    }
   ],
   "source": [
    "os.chdir(\"newFolder\")\n",
    "\n",
    "os.getcwd()"
   ]
  },
  {
   "cell_type": "code",
   "execution_count": 65,
   "id": "85846ce4",
   "metadata": {},
   "outputs": [
    {
     "data": {
      "text/plain": [
       "'C:\\\\Users\\\\Admin\\\\Desktop\\\\Data Science Internship May-2021'"
      ]
     },
     "execution_count": 65,
     "metadata": {},
     "output_type": "execute_result"
    }
   ],
   "source": [
    "os.chdir(\"..\")\n",
    "\n",
    "os.getcwd()"
   ]
  },
  {
   "cell_type": "markdown",
   "id": "578741b2",
   "metadata": {},
   "source": [
    "- **import module/package -> all the functions/classes/attributes are imported**\n",
    "- **from package import module -> all the functions/classes/attributes are imported which are available in that module**\n",
    "- **from package.module import method -> only that method/classlattr will be imported from package**\n",
    "- **from module import method -> module**"
   ]
  },
  {
   "cell_type": "code",
   "execution_count": 66,
   "id": "9a0d7aec",
   "metadata": {},
   "outputs": [],
   "source": [
    "import math"
   ]
  },
  {
   "cell_type": "code",
   "execution_count": 67,
   "id": "8b495e02",
   "metadata": {},
   "outputs": [
    {
     "data": {
      "text/plain": [
       "['__doc__',\n",
       " '__loader__',\n",
       " '__name__',\n",
       " '__package__',\n",
       " '__spec__',\n",
       " 'acos',\n",
       " 'acosh',\n",
       " 'asin',\n",
       " 'asinh',\n",
       " 'atan',\n",
       " 'atan2',\n",
       " 'atanh',\n",
       " 'ceil',\n",
       " 'comb',\n",
       " 'copysign',\n",
       " 'cos',\n",
       " 'cosh',\n",
       " 'degrees',\n",
       " 'dist',\n",
       " 'e',\n",
       " 'erf',\n",
       " 'erfc',\n",
       " 'exp',\n",
       " 'expm1',\n",
       " 'fabs',\n",
       " 'factorial',\n",
       " 'floor',\n",
       " 'fmod',\n",
       " 'frexp',\n",
       " 'fsum',\n",
       " 'gamma',\n",
       " 'gcd',\n",
       " 'hypot',\n",
       " 'inf',\n",
       " 'isclose',\n",
       " 'isfinite',\n",
       " 'isinf',\n",
       " 'isnan',\n",
       " 'isqrt',\n",
       " 'ldexp',\n",
       " 'lgamma',\n",
       " 'log',\n",
       " 'log10',\n",
       " 'log1p',\n",
       " 'log2',\n",
       " 'modf',\n",
       " 'nan',\n",
       " 'perm',\n",
       " 'pi',\n",
       " 'pow',\n",
       " 'prod',\n",
       " 'radians',\n",
       " 'remainder',\n",
       " 'sin',\n",
       " 'sinh',\n",
       " 'sqrt',\n",
       " 'tan',\n",
       " 'tanh',\n",
       " 'tau',\n",
       " 'trunc']"
      ]
     },
     "execution_count": 67,
     "metadata": {},
     "output_type": "execute_result"
    }
   ],
   "source": [
    "dir(math)"
   ]
  },
  {
   "cell_type": "code",
   "execution_count": 68,
   "id": "8fbdd3c6",
   "metadata": {},
   "outputs": [
    {
     "name": "stdout",
     "output_type": "stream",
     "text": [
      "['__doc__', '__loader__', '__name__', '__package__', '__spec__', 'acos', 'acosh', 'asin', 'asinh', 'atan', 'atan2', 'atanh', 'ceil', 'comb', 'copysign', 'cos', 'cosh', 'degrees', 'dist', 'e', 'erf', 'erfc', 'exp', 'expm1', 'fabs', 'factorial', 'floor', 'fmod', 'frexp', 'fsum', 'gamma', 'gcd', 'hypot', 'inf', 'isclose', 'isfinite', 'isinf', 'isnan', 'isqrt', 'ldexp', 'lgamma', 'log', 'log10', 'log1p', 'log2', 'modf', 'nan', 'perm', 'pi', 'pow', 'prod', 'radians', 'remainder', 'sin', 'sinh', 'sqrt', 'tan', 'tanh', 'tau', 'trunc']\n"
     ]
    }
   ],
   "source": [
    "import math as m\n",
    "\n",
    "print(dir(m))"
   ]
  },
  {
   "cell_type": "code",
   "execution_count": 69,
   "id": "5d5f3786",
   "metadata": {},
   "outputs": [],
   "source": [
    "from math import ceil,floor"
   ]
  },
  {
   "cell_type": "code",
   "execution_count": 70,
   "id": "7c2b0963",
   "metadata": {},
   "outputs": [
    {
     "name": "stdout",
     "output_type": "stream",
     "text": [
      "56 64\n"
     ]
    }
   ],
   "source": [
    "print(ceil(55.66), floor(64.33))"
   ]
  },
  {
   "cell_type": "code",
   "execution_count": 71,
   "id": "0ac4e3cb",
   "metadata": {},
   "outputs": [],
   "source": [
    "from math import *"
   ]
  },
  {
   "cell_type": "code",
   "execution_count": 72,
   "id": "ca80500e",
   "metadata": {},
   "outputs": [
    {
     "name": "stdout",
     "output_type": "stream",
     "text": [
      "-0.3048106211022167 120\n"
     ]
    }
   ],
   "source": [
    "print(sin(60), factorial(5))"
   ]
  },
  {
   "cell_type": "code",
   "execution_count": 73,
   "id": "a4be36b5",
   "metadata": {},
   "outputs": [],
   "source": [
    "from math import *\n",
    "from random import *"
   ]
  },
  {
   "cell_type": "code",
   "execution_count": 1,
   "id": "75e0483f",
   "metadata": {},
   "outputs": [],
   "source": [
    "import sanju"
   ]
  },
  {
   "cell_type": "code",
   "execution_count": 2,
   "id": "6b826e3c",
   "metadata": {},
   "outputs": [
    {
     "name": "stdout",
     "output_type": "stream",
     "text": [
      "Welcome to my module\n"
     ]
    }
   ],
   "source": [
    "print(sanju.__doc__)"
   ]
  },
  {
   "cell_type": "code",
   "execution_count": 3,
   "id": "fad105e0",
   "metadata": {},
   "outputs": [
    {
     "data": {
      "text/plain": [
       "['__builtins__',\n",
       " '__cached__',\n",
       " '__doc__',\n",
       " '__file__',\n",
       " '__loader__',\n",
       " '__name__',\n",
       " '__package__',\n",
       " '__spec__',\n",
       " 'factorial',\n",
       " 'g',\n",
       " 'isEven',\n",
       " 'isOdd',\n",
       " 'pi']"
      ]
     },
     "execution_count": 3,
     "metadata": {},
     "output_type": "execute_result"
    }
   ],
   "source": [
    "dir(sanju)"
   ]
  },
  {
   "cell_type": "code",
   "execution_count": 4,
   "id": "d4aa00ac",
   "metadata": {},
   "outputs": [
    {
     "data": {
      "text/plain": [
       "'Check whether a number is even or not'"
      ]
     },
     "execution_count": 4,
     "metadata": {},
     "output_type": "execute_result"
    }
   ],
   "source": [
    "sanju.isEven.__doc__"
   ]
  },
  {
   "cell_type": "code",
   "execution_count": 90,
   "id": "857f651d",
   "metadata": {},
   "outputs": [
    {
     "data": {
      "text/plain": [
       "True"
      ]
     },
     "execution_count": 90,
     "metadata": {},
     "output_type": "execute_result"
    }
   ],
   "source": [
    "sanju.isEven(12)"
   ]
  },
  {
   "cell_type": "code",
   "execution_count": 8,
   "id": "c9004dfa",
   "metadata": {},
   "outputs": [
    {
     "ename": "AttributeError",
     "evalue": "module 'sanju' has no attribute 'isodd'",
     "output_type": "error",
     "traceback": [
      "\u001b[1;31m---------------------------------------------------------------------------\u001b[0m",
      "\u001b[1;31mAttributeError\u001b[0m                            Traceback (most recent call last)",
      "\u001b[1;32m<ipython-input-8-e1afd6a4d2f5>\u001b[0m in \u001b[0;36m<module>\u001b[1;34m\u001b[0m\n\u001b[1;32m----> 1\u001b[1;33m \u001b[0msanju\u001b[0m\u001b[1;33m.\u001b[0m\u001b[0misodd\u001b[0m\u001b[1;33m(\u001b[0m\u001b[1;36m5\u001b[0m\u001b[1;33m)\u001b[0m\u001b[1;33m\u001b[0m\u001b[1;33m\u001b[0m\u001b[0m\n\u001b[0m",
      "\u001b[1;31mAttributeError\u001b[0m: module 'sanju' has no attribute 'isodd'"
     ]
    }
   ],
   "source": [
    "sanju.isodd(5)"
   ]
  },
  {
   "cell_type": "code",
   "execution_count": 6,
   "id": "3bc32db6",
   "metadata": {},
   "outputs": [
    {
     "data": {
      "text/plain": [
       "True"
      ]
     },
     "execution_count": 6,
     "metadata": {},
     "output_type": "execute_result"
    }
   ],
   "source": [
    "sanju.isOdd(5)"
   ]
  },
  {
   "cell_type": "code",
   "execution_count": 7,
   "id": "83590194",
   "metadata": {},
   "outputs": [
    {
     "ename": "ModuleNotFoundError",
     "evalue": "No module named 'sanjana'",
     "output_type": "error",
     "traceback": [
      "\u001b[1;31m---------------------------------------------------------------------------\u001b[0m",
      "\u001b[1;31mModuleNotFoundError\u001b[0m                       Traceback (most recent call last)",
      "\u001b[1;32m<ipython-input-7-bdf39db9f8ff>\u001b[0m in \u001b[0;36m<module>\u001b[1;34m\u001b[0m\n\u001b[1;32m----> 1\u001b[1;33m \u001b[1;32mimport\u001b[0m \u001b[0msanjana\u001b[0m\u001b[1;33m\u001b[0m\u001b[1;33m\u001b[0m\u001b[0m\n\u001b[0m",
      "\u001b[1;31mModuleNotFoundError\u001b[0m: No module named 'sanjana'"
     ]
    }
   ],
   "source": [
    "import sanjana"
   ]
  },
  {
   "cell_type": "code",
   "execution_count": 9,
   "id": "d451d451",
   "metadata": {},
   "outputs": [
    {
     "name": "stdout",
     "output_type": "stream",
     "text": [
      "78.5\n"
     ]
    }
   ],
   "source": [
    "from sanju import pi\n",
    "\n",
    "print(pi * 5**2)"
   ]
  },
  {
   "cell_type": "code",
   "execution_count": 10,
   "id": "44ce39c2",
   "metadata": {},
   "outputs": [],
   "source": [
    "import package"
   ]
  },
  {
   "cell_type": "code",
   "execution_count": 11,
   "id": "1b8cc795",
   "metadata": {},
   "outputs": [
    {
     "data": {
      "text/plain": [
       "['__doc__',\n",
       " '__file__',\n",
       " '__loader__',\n",
       " '__name__',\n",
       " '__package__',\n",
       " '__path__',\n",
       " '__spec__']"
      ]
     },
     "execution_count": 11,
     "metadata": {},
     "output_type": "execute_result"
    }
   ],
   "source": [
    "dir(package)"
   ]
  },
  {
   "cell_type": "code",
   "execution_count": 13,
   "id": "6ac86045",
   "metadata": {},
   "outputs": [],
   "source": [
    "import package.module1\n",
    "from package import module1 as m\n"
   ]
  },
  {
   "cell_type": "code",
   "execution_count": 14,
   "id": "9dfd77ea",
   "metadata": {},
   "outputs": [
    {
     "data": {
      "text/plain": [
       "False"
      ]
     },
     "execution_count": 14,
     "metadata": {},
     "output_type": "execute_result"
    }
   ],
   "source": [
    "m.isEven(5)"
   ]
  },
  {
   "cell_type": "code",
   "execution_count": 15,
   "id": "add1eadc",
   "metadata": {},
   "outputs": [
    {
     "data": {
      "text/plain": [
       "True"
      ]
     },
     "execution_count": 15,
     "metadata": {},
     "output_type": "execute_result"
    }
   ],
   "source": [
    "m.isOdd(5)"
   ]
  },
  {
   "cell_type": "code",
   "execution_count": 16,
   "id": "d7780ceb",
   "metadata": {},
   "outputs": [],
   "source": [
    "from package import module2 as m"
   ]
  },
  {
   "cell_type": "code",
   "execution_count": 17,
   "id": "b606fac4",
   "metadata": {},
   "outputs": [
    {
     "data": {
      "text/plain": [
       "True"
      ]
     },
     "execution_count": 17,
     "metadata": {},
     "output_type": "execute_result"
    }
   ],
   "source": [
    "m.isOdd(5)"
   ]
  },
  {
   "cell_type": "markdown",
   "id": "4ba3577d",
   "metadata": {},
   "source": [
    "### Contact application- 'contact.py'\n",
    "\n",
    "create a module with diff function\n",
    "\n",
    "- create contact- name,phno,email\n",
    "- delete contact\n",
    "- editContact \n",
    "- getContact\n",
    "- saveContacts into a file"
   ]
  },
  {
   "cell_type": "code",
   "execution_count": null,
   "id": "c9f4de75",
   "metadata": {},
   "outputs": [],
   "source": [
    "\n",
    "option = input(\"\"\"Press the option\n",
    "1. Create contact  \n",
    "2. add the contact to existing contact  \n",
    "3. edit the contact \n",
    "4. delete the contact\n",
    "5. View contact\"\"\")\n",
    "contact = {}\n",
    "if option == \"1\":\n",
    "    key = input(\"Enter contact name:\")\n",
    "    value = input(\"Enter details with space seperator\").split()\n",
    "    contact[key] = value\n",
    "elif option == \"2\":\n",
    "    name = input(\"Enter name to add existing contact\")\n",
    "    if name in contact:\n",
    "        data = input(\"Enter data to update\").split()\n",
    "        contact[name].extend(data)\n",
    "    else:\n",
    "        print(name, \"contact is not available\")\n",
    "elif option == \"3\":\n",
    "    name = input(\"Enter name to edit contact\")\n",
    "    if name in contact:\n",
    "        data = input(\"Enter data to update\").split()\n",
    "        contact[name].update(data)\n",
    "    else:\n",
    "        print(name, \"contact is not available\")\n",
    "elif option == \"4\":\n",
    "    name = input(\"Enter name to delete contact\")\n",
    "    if name in contact:\n",
    "        contact.pop(name)\n",
    "    else:\n",
    "        print(name, \"contact is not available\")\n",
    "elif option == \"5\":\n",
    "    name = input(\"Enter name to view contact\")\n",
    "    if name in contact:\n",
    "        print(contact[name])\n",
    "    else:\n",
    "        print(name, \"contact is not available\")"
   ]
  }
 ],
 "metadata": {
  "kernelspec": {
   "display_name": "Python 3",
   "language": "python",
   "name": "python3"
  },
  "language_info": {
   "codemirror_mode": {
    "name": "ipython",
    "version": 3
   },
   "file_extension": ".py",
   "mimetype": "text/x-python",
   "name": "python",
   "nbconvert_exporter": "python",
   "pygments_lexer": "ipython3",
   "version": "3.8.8"
  }
 },
 "nbformat": 4,
 "nbformat_minor": 5
}
