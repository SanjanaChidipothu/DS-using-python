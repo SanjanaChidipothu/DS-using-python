{
 "cells": [
  {
   "cell_type": "markdown",
   "id": "d1de1ff7",
   "metadata": {},
   "source": [
    "## Contents\n",
    "\n",
    "- NaiveBayesClassifier\n",
    "\n",
    "- Based on Bayes theorem for calculating probability and conditionally probability\n",
    "- P(A|B) = (P(B|A)*P(A))/P(B)\n",
    "- A ->Output\n",
    "- B ->Features data\n",
    "\n",
    "\n"
   ]
  },
  {
   "cell_type": "code",
   "execution_count": 2,
   "id": "2d4bf14d",
   "metadata": {},
   "outputs": [],
   "source": [
    "# from sklearn.naive_bayes import GuassianNB"
   ]
  },
  {
   "cell_type": "code",
   "execution_count": 1,
   "id": "d4d9bcb8",
   "metadata": {},
   "outputs": [],
   "source": [
    "import pandas as pd\n",
    "df=pd.read_csv(\"https://raw.githubusercontent.com/AP-State-Skill-Development-Corporation/Data-Science-Using-Python-Internship-EB1/main/Notebooks/amazondataset.csv\")"
   ]
  },
  {
   "cell_type": "code",
   "execution_count": 2,
   "id": "587574fb",
   "metadata": {},
   "outputs": [
    {
     "data": {
      "text/html": [
       "<div>\n",
       "<style scoped>\n",
       "    .dataframe tbody tr th:only-of-type {\n",
       "        vertical-align: middle;\n",
       "    }\n",
       "\n",
       "    .dataframe tbody tr th {\n",
       "        vertical-align: top;\n",
       "    }\n",
       "\n",
       "    .dataframe thead th {\n",
       "        text-align: right;\n",
       "    }\n",
       "</style>\n",
       "<table border=\"1\" class=\"dataframe\">\n",
       "  <thead>\n",
       "    <tr style=\"text-align: right;\">\n",
       "      <th></th>\n",
       "      <th>uncleanedreview</th>\n",
       "      <th>decision</th>\n",
       "    </tr>\n",
       "  </thead>\n",
       "  <tbody>\n",
       "    <tr>\n",
       "      <th>0</th>\n",
       "      <td>I had the Samsung A600 for awhile which is abs...</td>\n",
       "      <td>positive</td>\n",
       "    </tr>\n",
       "    <tr>\n",
       "      <th>1</th>\n",
       "      <td>Due to a software issue between Nokia and Spri...</td>\n",
       "      <td>positive</td>\n",
       "    </tr>\n",
       "    <tr>\n",
       "      <th>2</th>\n",
       "      <td>This is a great, reliable phone. I also purcha...</td>\n",
       "      <td>positive</td>\n",
       "    </tr>\n",
       "    <tr>\n",
       "      <th>3</th>\n",
       "      <td>I love the phone and all, because I really did...</td>\n",
       "      <td>positive</td>\n",
       "    </tr>\n",
       "    <tr>\n",
       "      <th>4</th>\n",
       "      <td>The phone has been great for every purpose it ...</td>\n",
       "      <td>positive</td>\n",
       "    </tr>\n",
       "  </tbody>\n",
       "</table>\n",
       "</div>"
      ],
      "text/plain": [
       "                                     uncleanedreview  decision\n",
       "0  I had the Samsung A600 for awhile which is abs...  positive\n",
       "1  Due to a software issue between Nokia and Spri...  positive\n",
       "2  This is a great, reliable phone. I also purcha...  positive\n",
       "3  I love the phone and all, because I really did...  positive\n",
       "4  The phone has been great for every purpose it ...  positive"
      ]
     },
     "execution_count": 2,
     "metadata": {},
     "output_type": "execute_result"
    }
   ],
   "source": [
    "df.head()"
   ]
  },
  {
   "cell_type": "code",
   "execution_count": 3,
   "id": "8a428b51",
   "metadata": {},
   "outputs": [
    {
     "data": {
      "text/plain": [
       "positive    57512\n",
       "negative    14410\n",
       "Name: decision, dtype: int64"
      ]
     },
     "execution_count": 3,
     "metadata": {},
     "output_type": "execute_result"
    }
   ],
   "source": [
    "df[\"decision\"].value_counts()"
   ]
  },
  {
   "cell_type": "code",
   "execution_count": 4,
   "id": "0ace0ec7",
   "metadata": {},
   "outputs": [
    {
     "data": {
      "text/plain": [
       "2    This is a great, reliable phone. I also purcha...\n",
       "Name: uncleanedreview, dtype: object"
      ]
     },
     "execution_count": 4,
     "metadata": {},
     "output_type": "execute_result"
    }
   ],
   "source": [
    "a=df.iloc[2:3,0]\n",
    "a"
   ]
  },
  {
   "cell_type": "code",
   "execution_count": 5,
   "id": "231d3688",
   "metadata": {},
   "outputs": [
    {
     "name": "stderr",
     "output_type": "stream",
     "text": [
      "[nltk_data] Downloading package punkt to\n",
      "[nltk_data]     C:\\Users\\Admin\\AppData\\Roaming\\nltk_data...\n",
      "[nltk_data]   Unzipping tokenizers\\punkt.zip.\n"
     ]
    },
    {
     "name": "stdout",
     "output_type": "stream",
     "text": [
      "['This', 'is', 'a', 'great', ',', 'reliable', 'phone', '.', 'I', 'also', 'purchased', '.']\n"
     ]
    }
   ],
   "source": [
    "import nltk\n",
    "nltk.download('punkt')\n",
    "from nltk import word_tokenize\n",
    "data=\"This is a great, reliable phone. I also purchased.\"\n",
    "print(word_tokenize(data))"
   ]
  },
  {
   "cell_type": "code",
   "execution_count": 6,
   "id": "183193a2",
   "metadata": {},
   "outputs": [
    {
     "name": "stderr",
     "output_type": "stream",
     "text": [
      "[nltk_data] Downloading package stopwords to\n",
      "[nltk_data]     C:\\Users\\Admin\\AppData\\Roaming\\nltk_data...\n",
      "[nltk_data]   Unzipping corpora\\stopwords.zip.\n"
     ]
    }
   ],
   "source": [
    "nltk.download('stopwords')\n",
    "from nltk.corpus import stopwords\n",
    "stopWords=set(stopwords.words('english')) "
   ]
  },
  {
   "cell_type": "code",
   "execution_count": 7,
   "id": "7f5d415d",
   "metadata": {},
   "outputs": [
    {
     "name": "stdout",
     "output_type": "stream",
     "text": [
      "{'such', 'the', \"wouldn't\", 'of', 'between', 'now', \"isn't\", 's', \"won't\", 'aren', 'theirs', 'in', 'can', \"shan't\", 'you', 'she', 'your', 'but', 'more', 'll', 'here', 'do', 'me', 'are', \"shouldn't\", 'just', 'above', 'their', 'does', 'not', 'needn', 'own', 'both', 'over', 'didn', \"you'd\", 'before', \"hadn't\", \"should've\", 'be', 'some', 'myself', 'hers', 'how', 'against', 'because', 'or', 'm', \"aren't\", 'for', 'my', 'there', 'himself', 'yourselves', 'd', 'all', \"couldn't\", 'will', 'am', 'wouldn', 'nor', 'through', 'below', 'whom', 'during', 'why', 'hasn', \"wasn't\", 'same', 'should', 'yourself', 'her', \"you're\", 'isn', \"you've\", 'ma', 'itself', 'him', 'they', 'ain', 'hadn', 'wasn', 'did', 'mustn', \"mustn't\", 'while', \"weren't\", 'where', 'couldn', \"don't\", \"doesn't\", 'doesn', 'having', \"she's\", 'those', 'herself', 'o', 'ours', 'was', 'had', 'no', 'further', 'this', 'by', 'he', 'have', 'as', 'until', 'to', 'its', 'so', 't', 'weren', 'themselves', 'down', 'won', 'again', 'which', 'after', 'shouldn', 'these', 'other', 'were', 'if', 'mightn', 'i', \"hasn't\", \"mightn't\", 'with', 'been', 'ourselves', \"haven't\", 'from', 'is', 'few', 're', 'them', 'on', \"didn't\", 'we', 'a', \"needn't\", 'it', 've', \"it's\", 'our', 'don', 'off', 'and', \"that'll\", 'when', 'his', 'shan', 'what', 'an', 'doing', 'that', 'most', 'about', 'out', 'too', 'very', 'under', 'up', 'then', 'being', 'y', 'into', 'each', 'who', 'haven', \"you'll\", 'any', 'only', 'yours', 'has', 'than', 'at', 'once'}\n"
     ]
    }
   ],
   "source": [
    "print(stopWords)"
   ]
  },
  {
   "cell_type": "code",
   "execution_count": 9,
   "id": "9b7c4f1e",
   "metadata": {},
   "outputs": [],
   "source": [
    "import string\n",
    "data=\"This is a great!, reliable phone. I also purchased.\"\n",
    "b=[i for i in data if i not in string.punctuation]   #to remove punctuation in text"
   ]
  },
  {
   "cell_type": "code",
   "execution_count": 10,
   "id": "2016c9d8",
   "metadata": {},
   "outputs": [
    {
     "data": {
      "text/plain": [
       "'This is a great reliable phone I also purchased'"
      ]
     },
     "execution_count": 10,
     "metadata": {},
     "output_type": "execute_result"
    }
   ],
   "source": [
    "new_data=\"\".join(b)\n",
    "new_data"
   ]
  },
  {
   "cell_type": "code",
   "execution_count": 11,
   "id": "7cf2c9bd",
   "metadata": {},
   "outputs": [
    {
     "data": {
      "text/plain": [
       "['This', 'is', 'a', 'great', 'reliable', 'phone', 'I', 'also', 'purchased']"
      ]
     },
     "execution_count": 11,
     "metadata": {},
     "output_type": "execute_result"
    }
   ],
   "source": [
    "n_data=new_data.split()\n",
    "n_data  #split the data into words(can also be done by word tokenizer)"
   ]
  },
  {
   "cell_type": "code",
   "execution_count": 12,
   "id": "823a11d9",
   "metadata": {},
   "outputs": [
    {
     "data": {
      "text/plain": [
       "CountVectorizer()"
      ]
     },
     "execution_count": 12,
     "metadata": {},
     "output_type": "execute_result"
    }
   ],
   "source": [
    "from sklearn.feature_extraction.text import CountVectorizer\n",
    "d1=['This is a great reliable phone I also purchased']\n",
    "vec=CountVectorizer()\n",
    "vec.fit(d1)"
   ]
  },
  {
   "cell_type": "code",
   "execution_count": 13,
   "id": "dec452a5",
   "metadata": {},
   "outputs": [
    {
     "data": {
      "text/plain": [
       "{'this': 6,\n",
       " 'is': 2,\n",
       " 'great': 1,\n",
       " 'reliable': 5,\n",
       " 'phone': 3,\n",
       " 'also': 0,\n",
       " 'purchased': 4}"
      ]
     },
     "execution_count": 13,
     "metadata": {},
     "output_type": "execute_result"
    }
   ],
   "source": [
    "vec.vocabulary_"
   ]
  },
  {
   "cell_type": "code",
   "execution_count": 14,
   "id": "5d18f9d2",
   "metadata": {},
   "outputs": [
    {
     "name": "stdout",
     "output_type": "stream",
     "text": [
      "  (0, 6)\t1\n",
      "  (1, 2)\t1\n",
      "  (3, 1)\t1\n",
      "  (4, 5)\t1\n",
      "  (5, 3)\t1\n",
      "  (7, 0)\t1\n",
      "  (8, 4)\t1\n"
     ]
    }
   ],
   "source": [
    "vectorizer=vec.transform(n_data)\n",
    "print(vectorizer)"
   ]
  },
  {
   "cell_type": "code",
   "execution_count": 15,
   "id": "13a8b150",
   "metadata": {},
   "outputs": [
    {
     "name": "stdout",
     "output_type": "stream",
     "text": [
      "  (0, 6)\t1\n",
      "  (1, 2)\t1\n",
      "  (3, 1)\t1\n",
      "  (4, 5)\t1\n",
      "  (5, 3)\t1\n",
      "  (7, 0)\t1\n",
      "  (8, 4)\t1\n"
     ]
    }
   ],
   "source": [
    "d2=n_data\n",
    "vec=CountVectorizer()\n",
    "print(vec.fit_transform(n_data))"
   ]
  },
  {
   "cell_type": "code",
   "execution_count": null,
   "id": "76760c79",
   "metadata": {},
   "outputs": [],
   "source": []
  }
 ],
 "metadata": {
  "kernelspec": {
   "display_name": "Python 3",
   "language": "python",
   "name": "python3"
  },
  "language_info": {
   "codemirror_mode": {
    "name": "ipython",
    "version": 3
   },
   "file_extension": ".py",
   "mimetype": "text/x-python",
   "name": "python",
   "nbconvert_exporter": "python",
   "pygments_lexer": "ipython3",
   "version": "3.8.8"
  }
 },
 "nbformat": 4,
 "nbformat_minor": 5
}
