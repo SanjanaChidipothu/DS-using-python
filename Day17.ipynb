{
 "cells": [
  {
   "cell_type": "markdown",
   "id": "eec90a97",
   "metadata": {},
   "source": [
    "## Contents\n",
    "\n",
    "- Iterators\n",
    "- Generators\n",
    "- Object Oriented Programming"
   ]
  },
  {
   "cell_type": "markdown",
   "id": "6eb2a019",
   "metadata": {},
   "source": [
    "### Iterators\n",
    "\n",
    "list, string, tuple, set, dictionary"
   ]
  },
  {
   "cell_type": "markdown",
   "id": "9b711280",
   "metadata": {},
   "source": [
    "100 lines of code\n",
    "\n",
    "string with 50 character\n",
    "\n",
    "50 lines I need 25 character\n",
    "\n",
    "100 I need 25 char"
   ]
  },
  {
   "cell_type": "code",
   "execution_count": 1,
   "id": "c59c8e42",
   "metadata": {},
   "outputs": [],
   "source": [
    "s = \"\"\"Python is an interpreted high-level general-purpose programming language. Python's design philosophy emphasizes code readability with its notable use of significant indentation. Wikipedia\n",
    "Developer: Python Software Foundation\n",
    "Stable release: 3.9.5 / 3 May 2021; 29 days ago\n",
    "Preview release: 3.10.0b1 / 3 May 2021; 29 days ago\n",
    "Typing discipline: Duck, dynamic, strong typing; gradual (since 3.5, but ignored in CPython)\n",
    "First appeared: February 1991; 30 years ago\n",
    "Paradigm: Multi-paradigm: object-oriented, procedural (imperative), functional, structured, reflective\"\"\""
   ]
  },
  {
   "cell_type": "code",
   "execution_count": 3,
   "id": "439a9cfb",
   "metadata": {},
   "outputs": [
    {
     "name": "stdout",
     "output_type": "stream",
     "text": [
      "<str_iterator object at 0x00000286642C10D0>\n"
     ]
    }
   ],
   "source": [
    "it = iter(s)\n",
    "\n",
    "print(it)"
   ]
  },
  {
   "cell_type": "code",
   "execution_count": 4,
   "id": "dbd92be5",
   "metadata": {},
   "outputs": [
    {
     "data": {
      "text/plain": [
       "'P'"
      ]
     },
     "execution_count": 4,
     "metadata": {},
     "output_type": "execute_result"
    }
   ],
   "source": [
    "next(it)"
   ]
  },
  {
   "cell_type": "code",
   "execution_count": 5,
   "id": "76dd789d",
   "metadata": {},
   "outputs": [
    {
     "name": "stdout",
     "output_type": "stream",
     "text": [
      "y\n"
     ]
    }
   ],
   "source": [
    "print(next(it))"
   ]
  },
  {
   "cell_type": "code",
   "execution_count": 6,
   "id": "1300c44b",
   "metadata": {},
   "outputs": [
    {
     "name": "stdout",
     "output_type": "stream",
     "text": [
      "t\n",
      "h\n",
      "o\n",
      "n\n",
      " \n",
      "i\n",
      "s\n",
      " \n",
      "a\n",
      "n\n"
     ]
    }
   ],
   "source": [
    "for i in range(10):\n",
    "    print(next(it))"
   ]
  },
  {
   "cell_type": "code",
   "execution_count": 7,
   "id": "7326eae6",
   "metadata": {},
   "outputs": [
    {
     "name": "stdout",
     "output_type": "stream",
     "text": [
      " \n"
     ]
    }
   ],
   "source": [
    "print(next(it))"
   ]
  },
  {
   "cell_type": "code",
   "execution_count": 8,
   "id": "71cbf6a4",
   "metadata": {},
   "outputs": [
    {
     "name": "stdout",
     "output_type": "stream",
     "text": [
      "i\n"
     ]
    }
   ],
   "source": [
    "print(next(it))"
   ]
  },
  {
   "cell_type": "code",
   "execution_count": 9,
   "id": "cdb9f766",
   "metadata": {},
   "outputs": [
    {
     "name": "stdout",
     "output_type": "stream",
     "text": [
      "n\n"
     ]
    }
   ],
   "source": [
    "print(next(it))"
   ]
  },
  {
   "cell_type": "code",
   "execution_count": 10,
   "id": "11ca0dc2",
   "metadata": {},
   "outputs": [],
   "source": [
    "it1 = iter(\"Python\")\n",
    "it2 = \"python\""
   ]
  },
  {
   "cell_type": "code",
   "execution_count": 11,
   "id": "60b24043",
   "metadata": {},
   "outputs": [
    {
     "name": "stdout",
     "output_type": "stream",
     "text": [
      "P\n",
      "y\n",
      "t\n",
      "h\n",
      "o\n",
      "n\n"
     ]
    }
   ],
   "source": [
    "for i in it1:\n",
    "    print(i)"
   ]
  },
  {
   "cell_type": "code",
   "execution_count": 12,
   "id": "798809c4",
   "metadata": {},
   "outputs": [
    {
     "name": "stdout",
     "output_type": "stream",
     "text": [
      "p\n",
      "y\n",
      "t\n",
      "h\n",
      "o\n",
      "n\n"
     ]
    }
   ],
   "source": [
    "for i in it2:\n",
    "    print(i)"
   ]
  },
  {
   "cell_type": "code",
   "execution_count": 13,
   "id": "a4ad8d93",
   "metadata": {},
   "outputs": [
    {
     "ename": "StopIteration",
     "evalue": "",
     "output_type": "error",
     "traceback": [
      "\u001b[1;31m---------------------------------------------------------------------------\u001b[0m",
      "\u001b[1;31mStopIteration\u001b[0m                             Traceback (most recent call last)",
      "\u001b[1;32m<ipython-input-13-a1664e0d0ec1>\u001b[0m in \u001b[0;36m<module>\u001b[1;34m\u001b[0m\n\u001b[1;32m----> 1\u001b[1;33m \u001b[0mprint\u001b[0m\u001b[1;33m(\u001b[0m\u001b[0mnext\u001b[0m\u001b[1;33m(\u001b[0m\u001b[0mit1\u001b[0m\u001b[1;33m)\u001b[0m\u001b[1;33m)\u001b[0m\u001b[1;33m\u001b[0m\u001b[1;33m\u001b[0m\u001b[0m\n\u001b[0m",
      "\u001b[1;31mStopIteration\u001b[0m: "
     ]
    }
   ],
   "source": [
    "print(next(it1))"
   ]
  },
  {
   "cell_type": "code",
   "execution_count": 14,
   "id": "4183457e",
   "metadata": {},
   "outputs": [],
   "source": [
    "l1 = [1,2,3,4,5,6]\n",
    "\n",
    "l2 = iter([1,2,3,4,5,6])"
   ]
  },
  {
   "cell_type": "code",
   "execution_count": 15,
   "id": "ff0c42e1",
   "metadata": {},
   "outputs": [
    {
     "name": "stdout",
     "output_type": "stream",
     "text": [
      "[1, 2, 3, 4, 5, 6] <list_iterator object at 0x00000286642C1E20>\n"
     ]
    }
   ],
   "source": [
    "print(l1, l2)"
   ]
  },
  {
   "cell_type": "code",
   "execution_count": 16,
   "id": "973ef209",
   "metadata": {},
   "outputs": [
    {
     "data": {
      "text/plain": [
       "1"
      ]
     },
     "execution_count": 16,
     "metadata": {},
     "output_type": "execute_result"
    }
   ],
   "source": [
    "next(l2)"
   ]
  },
  {
   "cell_type": "code",
   "execution_count": 17,
   "id": "36bc80fc",
   "metadata": {},
   "outputs": [
    {
     "data": {
      "text/plain": [
       "2"
      ]
     },
     "execution_count": 17,
     "metadata": {},
     "output_type": "execute_result"
    }
   ],
   "source": [
    "next(l2)"
   ]
  },
  {
   "cell_type": "code",
   "execution_count": 18,
   "id": "fa79a91b",
   "metadata": {},
   "outputs": [
    {
     "data": {
      "text/plain": [
       "3"
      ]
     },
     "execution_count": 18,
     "metadata": {},
     "output_type": "execute_result"
    }
   ],
   "source": [
    "next(l2)"
   ]
  },
  {
   "cell_type": "code",
   "execution_count": 19,
   "id": "915c6db8",
   "metadata": {},
   "outputs": [
    {
     "data": {
      "text/plain": [
       "4"
      ]
     },
     "execution_count": 19,
     "metadata": {},
     "output_type": "execute_result"
    }
   ],
   "source": [
    "next(l2)"
   ]
  },
  {
   "cell_type": "code",
   "execution_count": 20,
   "id": "fac2271f",
   "metadata": {},
   "outputs": [
    {
     "data": {
      "text/plain": [
       "5"
      ]
     },
     "execution_count": 20,
     "metadata": {},
     "output_type": "execute_result"
    }
   ],
   "source": [
    "next(l2)"
   ]
  },
  {
   "cell_type": "code",
   "execution_count": 21,
   "id": "75f4172f",
   "metadata": {},
   "outputs": [
    {
     "data": {
      "text/plain": [
       "6"
      ]
     },
     "execution_count": 21,
     "metadata": {},
     "output_type": "execute_result"
    }
   ],
   "source": [
    "next(l2)"
   ]
  },
  {
   "cell_type": "code",
   "execution_count": 22,
   "id": "f6af42a8",
   "metadata": {},
   "outputs": [
    {
     "ename": "StopIteration",
     "evalue": "",
     "output_type": "error",
     "traceback": [
      "\u001b[1;31m---------------------------------------------------------------------------\u001b[0m",
      "\u001b[1;31mStopIteration\u001b[0m                             Traceback (most recent call last)",
      "\u001b[1;32m<ipython-input-22-37611c3e7a32>\u001b[0m in \u001b[0;36m<module>\u001b[1;34m\u001b[0m\n\u001b[1;32m----> 1\u001b[1;33m \u001b[0mnext\u001b[0m\u001b[1;33m(\u001b[0m\u001b[0ml2\u001b[0m\u001b[1;33m)\u001b[0m\u001b[1;33m\u001b[0m\u001b[1;33m\u001b[0m\u001b[0m\n\u001b[0m",
      "\u001b[1;31mStopIteration\u001b[0m: "
     ]
    }
   ],
   "source": [
    "next(l2)"
   ]
  },
  {
   "cell_type": "code",
   "execution_count": 24,
   "id": "717b8c32",
   "metadata": {},
   "outputs": [
    {
     "name": "stdout",
     "output_type": "stream",
     "text": [
      "1\n",
      "2\n",
      "3\n"
     ]
    }
   ],
   "source": [
    "l2 = iter([1,2,3,4,5,6])\n",
    "\n",
    "for i in range(3):\n",
    "    print(next(l2))"
   ]
  },
  {
   "cell_type": "code",
   "execution_count": 25,
   "id": "0f7955af",
   "metadata": {},
   "outputs": [
    {
     "name": "stdout",
     "output_type": "stream",
     "text": [
      "4\n",
      "5\n",
      "6\n"
     ]
    }
   ],
   "source": [
    "for i in range(3):\n",
    "    print(next(l2))"
   ]
  },
  {
   "cell_type": "code",
   "execution_count": 26,
   "id": "b9623161",
   "metadata": {},
   "outputs": [
    {
     "ename": "StopIteration",
     "evalue": "",
     "output_type": "error",
     "traceback": [
      "\u001b[1;31m---------------------------------------------------------------------------\u001b[0m",
      "\u001b[1;31mStopIteration\u001b[0m                             Traceback (most recent call last)",
      "\u001b[1;32m<ipython-input-26-d3178573aaa1>\u001b[0m in \u001b[0;36m<module>\u001b[1;34m\u001b[0m\n\u001b[0;32m      1\u001b[0m \u001b[1;32mfor\u001b[0m \u001b[0mi\u001b[0m \u001b[1;32min\u001b[0m \u001b[0mrange\u001b[0m\u001b[1;33m(\u001b[0m\u001b[1;36m3\u001b[0m\u001b[1;33m)\u001b[0m\u001b[1;33m:\u001b[0m\u001b[1;33m\u001b[0m\u001b[1;33m\u001b[0m\u001b[0m\n\u001b[1;32m----> 2\u001b[1;33m     \u001b[0mprint\u001b[0m\u001b[1;33m(\u001b[0m\u001b[0mnext\u001b[0m\u001b[1;33m(\u001b[0m\u001b[0ml2\u001b[0m\u001b[1;33m)\u001b[0m\u001b[1;33m)\u001b[0m\u001b[1;33m\u001b[0m\u001b[1;33m\u001b[0m\u001b[0m\n\u001b[0m",
      "\u001b[1;31mStopIteration\u001b[0m: "
     ]
    }
   ],
   "source": [
    "for i in range(3):\n",
    "    print(next(l2))"
   ]
  },
  {
   "cell_type": "markdown",
   "id": "8149f470",
   "metadata": {},
   "source": [
    "## Generator"
   ]
  },
  {
   "cell_type": "code",
   "execution_count": 27,
   "id": "54cb6d31",
   "metadata": {},
   "outputs": [],
   "source": [
    "def gen():\n",
    "    a = 10\n",
    "    yield a\n",
    "    \n",
    "    a **= 5\n",
    "    yield a\n",
    "    \n",
    "    a **= 10\n",
    "    yield a"
   ]
  },
  {
   "cell_type": "code",
   "execution_count": 28,
   "id": "38faf104",
   "metadata": {},
   "outputs": [],
   "source": [
    "g = gen()"
   ]
  },
  {
   "cell_type": "code",
   "execution_count": 29,
   "id": "bff8dd38",
   "metadata": {},
   "outputs": [
    {
     "data": {
      "text/plain": [
       "10"
      ]
     },
     "execution_count": 29,
     "metadata": {},
     "output_type": "execute_result"
    }
   ],
   "source": [
    "next(g)"
   ]
  },
  {
   "cell_type": "code",
   "execution_count": 30,
   "id": "aea7f167",
   "metadata": {},
   "outputs": [
    {
     "data": {
      "text/plain": [
       "100000"
      ]
     },
     "execution_count": 30,
     "metadata": {},
     "output_type": "execute_result"
    }
   ],
   "source": [
    "next(g)"
   ]
  },
  {
   "cell_type": "code",
   "execution_count": 31,
   "id": "e57ce5b9",
   "metadata": {},
   "outputs": [
    {
     "data": {
      "text/plain": [
       "100000000000000000000000000000000000000000000000000"
      ]
     },
     "execution_count": 31,
     "metadata": {},
     "output_type": "execute_result"
    }
   ],
   "source": [
    "next(g)"
   ]
  },
  {
   "cell_type": "code",
   "execution_count": 32,
   "id": "1098c6ac",
   "metadata": {},
   "outputs": [
    {
     "ename": "StopIteration",
     "evalue": "",
     "output_type": "error",
     "traceback": [
      "\u001b[1;31m---------------------------------------------------------------------------\u001b[0m",
      "\u001b[1;31mStopIteration\u001b[0m                             Traceback (most recent call last)",
      "\u001b[1;32m<ipython-input-32-e734f8aca5ac>\u001b[0m in \u001b[0;36m<module>\u001b[1;34m\u001b[0m\n\u001b[1;32m----> 1\u001b[1;33m \u001b[0mnext\u001b[0m\u001b[1;33m(\u001b[0m\u001b[0mg\u001b[0m\u001b[1;33m)\u001b[0m\u001b[1;33m\u001b[0m\u001b[1;33m\u001b[0m\u001b[0m\n\u001b[0m",
      "\u001b[1;31mStopIteration\u001b[0m: "
     ]
    }
   ],
   "source": [
    "next(g)"
   ]
  },
  {
   "cell_type": "code",
   "execution_count": 33,
   "id": "e9167217",
   "metadata": {},
   "outputs": [],
   "source": [
    "t1 = (i for i in range(100))"
   ]
  },
  {
   "cell_type": "code",
   "execution_count": 35,
   "id": "90bb812a",
   "metadata": {},
   "outputs": [
    {
     "name": "stdout",
     "output_type": "stream",
     "text": [
      "<generator object <genexpr> at 0x00000286643AC040>\n"
     ]
    }
   ],
   "source": [
    "print(t1)"
   ]
  },
  {
   "cell_type": "code",
   "execution_count": 36,
   "id": "6a8201d0",
   "metadata": {},
   "outputs": [
    {
     "data": {
      "text/plain": [
       "0"
      ]
     },
     "execution_count": 36,
     "metadata": {},
     "output_type": "execute_result"
    }
   ],
   "source": [
    "next(t1)"
   ]
  },
  {
   "cell_type": "code",
   "execution_count": 37,
   "id": "d17018cf",
   "metadata": {},
   "outputs": [],
   "source": [
    "l1 = range(0, 100)"
   ]
  },
  {
   "cell_type": "code",
   "execution_count": 38,
   "id": "a6331a42",
   "metadata": {},
   "outputs": [
    {
     "name": "stdout",
     "output_type": "stream",
     "text": [
      "0\n",
      "1\n",
      "2\n",
      "3\n",
      "4\n",
      "5\n",
      "6\n",
      "7\n",
      "8\n",
      "9\n",
      "10\n"
     ]
    }
   ],
   "source": [
    "for i in l1:\n",
    "    print(i)\n",
    "    if i == 10:\n",
    "        break"
   ]
  },
  {
   "cell_type": "code",
   "execution_count": 39,
   "id": "c66e6d66",
   "metadata": {},
   "outputs": [
    {
     "name": "stdout",
     "output_type": "stream",
     "text": [
      "1\n",
      "2\n",
      "3\n",
      "4\n",
      "5\n",
      "6\n",
      "7\n",
      "8\n",
      "9\n",
      "10\n"
     ]
    }
   ],
   "source": [
    "for i in t1:\n",
    "    print(i)\n",
    "    if i == 10:\n",
    "        break"
   ]
  },
  {
   "cell_type": "markdown",
   "id": "bac85572",
   "metadata": {},
   "source": [
    "### OOP in python\n",
    "\n",
    "- attributes -> variables created inside the class\n",
    "- method -> function created inside the class\n",
    "- class -> blueprint of the object\n",
    "- object -> instance of the class\n",
    "\n",
    "#### Syntax\n",
    "\n",
    "```python\n",
    "class className:\n",
    "    \"\"\"Doc strings\"\"\"\n",
    "    Attributes\n",
    "    Methods\n",
    "```"
   ]
  },
  {
   "cell_type": "code",
   "execution_count": 40,
   "id": "490fe960",
   "metadata": {},
   "outputs": [],
   "source": [
    "class Student:\n",
    "    \"\"\"its a blueprint of student\"\"\"\n",
    "    pass"
   ]
  },
  {
   "cell_type": "code",
   "execution_count": 41,
   "id": "cb81be5e",
   "metadata": {},
   "outputs": [],
   "source": [
    "jntu = Student()"
   ]
  },
  {
   "cell_type": "code",
   "execution_count": 42,
   "id": "66472bb3",
   "metadata": {},
   "outputs": [],
   "source": [
    "class Student:\n",
    "    \"\"\"its a blueprint of student\"\"\"\n",
    "    college = \"JNTUK\"\n",
    "    branch = \"Data Science\"\n",
    "    collegeAddress = \"KAKINADA\""
   ]
  },
  {
   "cell_type": "code",
   "execution_count": 43,
   "id": "e8ae5b67",
   "metadata": {},
   "outputs": [],
   "source": [
    "std1 = Student()\n",
    "std2 = Student()"
   ]
  },
  {
   "cell_type": "code",
   "execution_count": 44,
   "id": "b6db24d5",
   "metadata": {},
   "outputs": [
    {
     "data": {
      "text/plain": [
       "'JNTUK'"
      ]
     },
     "execution_count": 44,
     "metadata": {},
     "output_type": "execute_result"
    }
   ],
   "source": [
    "std1.college"
   ]
  },
  {
   "cell_type": "code",
   "execution_count": 45,
   "id": "1b9923cd",
   "metadata": {},
   "outputs": [
    {
     "data": {
      "text/plain": [
       "'JNTUK'"
      ]
     },
     "execution_count": 45,
     "metadata": {},
     "output_type": "execute_result"
    }
   ],
   "source": [
    "std2.college"
   ]
  },
  {
   "cell_type": "code",
   "execution_count": 48,
   "id": "e3fed76b",
   "metadata": {},
   "outputs": [],
   "source": [
    "class Student:\n",
    "    \"\"\"its a blueprint of student\"\"\"\n",
    "    college = \"JNTUK\"\n",
    "    branch = \"Data Science\"\n",
    "    collegeAddress = \"KAKINADA\"\n",
    "    \n",
    "    def __init__(self): ##underscore underscore itit.... is called dendur init, constructor, instance method\n",
    "        print(\"Student object is created\")"
   ]
  },
  {
   "cell_type": "code",
   "execution_count": 49,
   "id": "68d8e5b2",
   "metadata": {},
   "outputs": [
    {
     "name": "stdout",
     "output_type": "stream",
     "text": [
      "Student object is created\n",
      "Student object is created\n"
     ]
    }
   ],
   "source": [
    "std1 = Student()\n",
    "std2 = Student()"
   ]
  },
  {
   "cell_type": "code",
   "execution_count": 50,
   "id": "bdecebff",
   "metadata": {},
   "outputs": [],
   "source": [
    "class Student:\n",
    "    \"\"\"its a blueprint of student\"\"\"\n",
    "    college = \"JNTUK\"\n",
    "    branch = \"Data Science\"\n",
    "    collegeAddress = \"KAKINADA\"\n",
    "    \n",
    "    def __init__(self, name,rollNo, mobileNo): ##underscore underscore itit.... is called dendur init, constructor, instance method\n",
    "        self.name = name\n",
    "        self.rollNo = rollNo\n",
    "        self.mobileNo = mobileNo\n",
    "        \n",
    "        print(\"Student object is created\")"
   ]
  },
  {
   "cell_type": "code",
   "execution_count": 51,
   "id": "2e76a551",
   "metadata": {},
   "outputs": [
    {
     "name": "stdout",
     "output_type": "stream",
     "text": [
      "Student object is created\n",
      "Student object is created\n"
     ]
    }
   ],
   "source": [
    "std1 = Student(\"Python\", \"1234\",\"9876543210\")\n",
    "std2 = Student(\"Solo\", \"5678\",\"9988776655\")"
   ]
  },
  {
   "cell_type": "code",
   "execution_count": 52,
   "id": "f7904661",
   "metadata": {},
   "outputs": [
    {
     "name": "stdout",
     "output_type": "stream",
     "text": [
      "<__main__.Student object at 0x00000286643A9D90> <__main__.Student object at 0x00000286643A9E20>\n"
     ]
    }
   ],
   "source": [
    "print(std1, std2)"
   ]
  },
  {
   "cell_type": "code",
   "execution_count": 58,
   "id": "2d4b3e6b",
   "metadata": {},
   "outputs": [],
   "source": [
    "class Student:\n",
    "    \"\"\"its a blueprint of student\"\"\"\n",
    "    college = \"JNTUK\"\n",
    "    branch = \"Data Science\"\n",
    "    collegeAddress = \"KAKINADA\"\n",
    "    \n",
    "    def __init__(self, name,rollNo, mobileNo, python, java): ##underscore underscore itit.... is called dendur init, constructor, instance method\n",
    "        self.name = name\n",
    "        self.rollNo = rollNo\n",
    "        self.mobileNo = mobileNo\n",
    "        self.python = python\n",
    "        self.java = java\n",
    "        print(\"{} object is created\".format(self.name))\n",
    "#         print(\"Student object is created\")\n",
    "    def average(self):\n",
    "        avg = (self.python + self.java)/2\n",
    "        return avg\n",
    "    def py_status(self):\n",
    "        if self.python>= 40:\n",
    "            print(\"Hurrah!! You have passed python\")\n",
    "        else:\n",
    "            rint(\"Sorry!! You have failed python\")\n",
    "    def java_status(self):\n",
    "        if self.java>= 40:\n",
    "            print(\"Hurrah!! You have passed python\")\n",
    "        else:\n",
    "            rint(\"Sorry!! You have failed python\")"
   ]
  },
  {
   "cell_type": "code",
   "execution_count": 59,
   "id": "a6960685",
   "metadata": {},
   "outputs": [
    {
     "name": "stdout",
     "output_type": "stream",
     "text": [
      "Python object is created\n",
      "Solo object is created\n"
     ]
    }
   ],
   "source": [
    "std1 = Student(\"Python\", \"1234\",\"9876543210\", 85,65)\n",
    "std2 = Student(\"Solo\", \"5678\",\"9988776655\", 65,85)"
   ]
  },
  {
   "cell_type": "code",
   "execution_count": 60,
   "id": "efb39c0f",
   "metadata": {},
   "outputs": [
    {
     "name": "stdout",
     "output_type": "stream",
     "text": [
      "75.0\n"
     ]
    }
   ],
   "source": [
    "print(std1.average())"
   ]
  },
  {
   "cell_type": "code",
   "execution_count": 61,
   "id": "a430a847",
   "metadata": {},
   "outputs": [
    {
     "name": "stdout",
     "output_type": "stream",
     "text": [
      "75.0\n"
     ]
    }
   ],
   "source": [
    "print(std2.average())"
   ]
  },
  {
   "cell_type": "code",
   "execution_count": 62,
   "id": "ee727447",
   "metadata": {},
   "outputs": [
    {
     "name": "stdout",
     "output_type": "stream",
     "text": [
      "Hurrah!! You have passed python\n",
      "None\n"
     ]
    }
   ],
   "source": [
    "print(std1.java_status())"
   ]
  },
  {
   "cell_type": "code",
   "execution_count": 67,
   "id": "5f64ebd1",
   "metadata": {},
   "outputs": [],
   "source": [
    "class Student:\n",
    "    \"\"\"its a blueprint of student\"\"\"\n",
    "    college = \"JNTUK\"\n",
    "    branch = \"Data Science\"\n",
    "    collegeAddress = \"KAKINADA\"\n",
    "    \n",
    "    def __init__(self, name,rollNo, mobileNo, python, java): ##underscore underscore itit.... is called dendur init, constructor, instance method\n",
    "        self.name = name\n",
    "        self.rollNo = rollNo\n",
    "        self.mobileNo = mobileNo\n",
    "        self.python = python\n",
    "        self.java = java\n",
    "        print(\"{} object is created\".format(self.name))\n",
    "#         print(\"Student object is created\")\n",
    "    def average(self):\n",
    "        avg = (self.python + self.java)/2\n",
    "        return avg\n",
    "    def py_status(self, pyaddOn):\n",
    "        self.python += pyaddOn\n",
    "        if self.python>= 40:\n",
    "            print(\"Hurrah!! You have passed python\")\n",
    "        else:\n",
    "            rint(\"Sorry!! You have failed python\")\n",
    "    def java_status(self, jaddOn):\n",
    "        self.java += jaddOn\n",
    "        if self.java>= 40:\n",
    "            print(\"Hurrah!! You have passed java\")\n",
    "        else:\n",
    "            print(\"Sorry!! You have failed java\")"
   ]
  },
  {
   "cell_type": "code",
   "execution_count": 68,
   "id": "ef955ce3",
   "metadata": {},
   "outputs": [
    {
     "name": "stdout",
     "output_type": "stream",
     "text": [
      "Raj object is created\n",
      "Sita object is created\n"
     ]
    }
   ],
   "source": [
    "std1 = Student(\"Raj\", \"1234\",\"9876543210\", 85,65)\n",
    "std2 = Student(\"Sita\", \"5678\",\"9988776655\", 65,85)"
   ]
  },
  {
   "cell_type": "code",
   "execution_count": 69,
   "id": "cd84473f",
   "metadata": {},
   "outputs": [
    {
     "name": "stdout",
     "output_type": "stream",
     "text": [
      "Hurrah!! You have passed python\n"
     ]
    }
   ],
   "source": [
    "std1.py_status(5)"
   ]
  },
  {
   "cell_type": "code",
   "execution_count": 70,
   "id": "e082afb4",
   "metadata": {},
   "outputs": [
    {
     "name": "stdout",
     "output_type": "stream",
     "text": [
      "Hurrah!! You have passed python\n"
     ]
    }
   ],
   "source": [
    "std2.py_status(5)"
   ]
  },
  {
   "cell_type": "code",
   "execution_count": 71,
   "id": "7a4a25ab",
   "metadata": {},
   "outputs": [
    {
     "ename": "AttributeError",
     "evalue": "'Student' object has no attribute 'pyaddOn'",
     "output_type": "error",
     "traceback": [
      "\u001b[1;31m---------------------------------------------------------------------------\u001b[0m",
      "\u001b[1;31mAttributeError\u001b[0m                            Traceback (most recent call last)",
      "\u001b[1;32m<ipython-input-71-21f15b7f9a1d>\u001b[0m in \u001b[0;36m<module>\u001b[1;34m\u001b[0m\n\u001b[1;32m----> 1\u001b[1;33m \u001b[0mstd1\u001b[0m\u001b[1;33m.\u001b[0m\u001b[0mpyaddOn\u001b[0m\u001b[1;33m(\u001b[0m\u001b[1;33m)\u001b[0m\u001b[1;33m\u001b[0m\u001b[1;33m\u001b[0m\u001b[0m\n\u001b[0m",
      "\u001b[1;31mAttributeError\u001b[0m: 'Student' object has no attribute 'pyaddOn'"
     ]
    }
   ],
   "source": [
    "std1.pyaddOn()"
   ]
  },
  {
   "cell_type": "code",
   "execution_count": 72,
   "id": "c8605b67",
   "metadata": {},
   "outputs": [
    {
     "name": "stdout",
     "output_type": "stream",
     "text": [
      "Hurrah!! You have passed python\n"
     ]
    }
   ],
   "source": [
    "std1.py_status(0)"
   ]
  },
  {
   "cell_type": "code",
   "execution_count": 73,
   "id": "b3df1c98",
   "metadata": {},
   "outputs": [],
   "source": [
    "std1.name = \"Ram\" "
   ]
  },
  {
   "cell_type": "code",
   "execution_count": 75,
   "id": "bb8cf953",
   "metadata": {},
   "outputs": [
    {
     "data": {
      "text/plain": [
       "'Ram'"
      ]
     },
     "execution_count": 75,
     "metadata": {},
     "output_type": "execute_result"
    }
   ],
   "source": [
    "std1.name"
   ]
  },
  {
   "cell_type": "code",
   "execution_count": 76,
   "id": "ee1b25ed",
   "metadata": {},
   "outputs": [
    {
     "name": "stdout",
     "output_type": "stream",
     "text": [
      "<__main__.Student object at 0x00000286641F8C10> <__main__.Student object at 0x00000286641D1CD0>\n"
     ]
    }
   ],
   "source": [
    "print(std1, std2)"
   ]
  },
  {
   "cell_type": "code",
   "execution_count": 78,
   "id": "6b7de414",
   "metadata": {},
   "outputs": [],
   "source": [
    "class Student:\n",
    "    \"\"\"its a blueprint of student\"\"\"\n",
    "    college = \"JNTUK\"\n",
    "    branch = \"Data Science\"\n",
    "    collegeAddress = \"KAKINADA\"\n",
    "    \n",
    "    def __init__(self, name,rollNo, mobileNo, python, java): ##underscore underscore itit.... is called dendur init, constructor, instance method\n",
    "        self.name = name\n",
    "        self.rollNo = rollNo\n",
    "        self.mobileNo = mobileNo\n",
    "        self.python = python\n",
    "        self.java = java\n",
    "        print(\"{} object is created\".format(self.name))\n",
    "#         print(\"Student object is created\")\n",
    "    def average(self):\n",
    "        avg = (self.python + self.java)/2\n",
    "        return avg\n",
    "    def py_status(self, pyaddOn):\n",
    "        self.python += pyaddOn\n",
    "        if self.python>= 40:\n",
    "            print(\"Hurrah!! You have passed python\")\n",
    "        else:\n",
    "            rint(\"Sorry!! You have failed python\")\n",
    "    def java_status(self, jaddOn):\n",
    "        self.java += jaddOn\n",
    "        if self.java>= 40:\n",
    "            print(\"Hurrah!! You have passed java\")\n",
    "        else:\n",
    "            print(\"Sorry!! You have failed java\")\n",
    "    def __str__(self):\n",
    "        return \"This class belongs to {}\".format(self.name)"
   ]
  },
  {
   "cell_type": "code",
   "execution_count": 79,
   "id": "c6929c20",
   "metadata": {},
   "outputs": [
    {
     "name": "stdout",
     "output_type": "stream",
     "text": [
      "Ram object is created\n",
      "Sita object is created\n"
     ]
    }
   ],
   "source": [
    "std1 = Student(\"Ram\", \"1234\",\"9876543210\", 85,65)\n",
    "std2 = Student(\"Sita\", \"5678\",\"9988776655\", 65,85)"
   ]
  },
  {
   "cell_type": "code",
   "execution_count": 80,
   "id": "cb3b01fa",
   "metadata": {},
   "outputs": [
    {
     "name": "stdout",
     "output_type": "stream",
     "text": [
      "This class belongs to Ram This class belongs to Sita\n"
     ]
    }
   ],
   "source": [
    "print(std1, std2)"
   ]
  },
  {
   "cell_type": "code",
   "execution_count": 86,
   "id": "14f3b961",
   "metadata": {},
   "outputs": [],
   "source": [
    "class Student:\n",
    "    \"\"\"its a blueprint of student\"\"\"\n",
    "    college = \"JNTUK\"\n",
    "    branch = \"Data Science\"\n",
    "    collegeAddress = \"KAKINADA\"\n",
    "    \n",
    "    def __init__(self, name,rollNo, mobileNo, python, java): ##underscore underscore itit.... is called dendur init, constructor, instance method\n",
    "        self.name = name\n",
    "        self.rollNo = rollNo\n",
    "        self.mobileNo = mobileNo\n",
    "        self.python = python\n",
    "        self.java = java\n",
    "        print(\"{} object is created\".format(self.name))\n",
    "#         print(\"Student object is created\")\n",
    "    def average(self):\n",
    "        avg = (self.python + self.java)/2\n",
    "        return avg\n",
    "    def py_status(self, pyaddOn):\n",
    "        self.python += pyaddOn\n",
    "        if self.python>= 40:\n",
    "            print(\"Hurrah!! You have passed python\")\n",
    "        else:\n",
    "            rint(\"Sorry!! You have failed python\")\n",
    "    def java_status(self, jaddOn):\n",
    "        self.java += jaddOn\n",
    "        if self.java>= 40:\n",
    "            print(\"Hurrah!! You have passed java\")\n",
    "        else:\n",
    "            print(\"Sorry!! You have failed java\")\n",
    "    def __str__(self):\n",
    "        return \"This class belongs to {}\".format(self.name)\n",
    "    def __del__(self): #destructor\n",
    "        print(\"{} data has been deleted\".format(self.name))     "
   ]
  },
  {
   "cell_type": "code",
   "execution_count": 87,
   "id": "ccb047a9",
   "metadata": {},
   "outputs": [
    {
     "name": "stdout",
     "output_type": "stream",
     "text": [
      "Ram object is created\n",
      "Ram data has been deleted\n",
      "Sita object is created\n",
      "Sita data has been deleted\n"
     ]
    }
   ],
   "source": [
    "std1 = Student(\"Ram\", \"1234\",\"9876543210\", 85,65)\n",
    "std2 = Student(\"Sita\", \"5678\",\"9988776655\", 65,85)"
   ]
  },
  {
   "cell_type": "markdown",
   "id": "f9e8c588",
   "metadata": {},
   "source": [
    "## Types of methods\n",
    "\n",
    "- Instance method\n",
    "- Static methods\n",
    "- Class methods"
   ]
  },
  {
   "cell_type": "code",
   "execution_count": 88,
   "id": "1ad29a41",
   "metadata": {},
   "outputs": [],
   "source": [
    "class Student:\n",
    "    \"\"\"its a blueprint of student\"\"\"\n",
    "    college = \"JNTUK\"\n",
    "    branch = \"Data Science\"\n",
    "    collegeAddress = \"KAKINADA\"\n",
    "    \n",
    "    def __init__(self, name,rollNo, mobileNo, python, java): ##underscore underscore itit.... is called dendur init, constructor, instance method\n",
    "        self.name = name\n",
    "        self.rollNo = rollNo\n",
    "        self.mobileNo = mobileNo\n",
    "        self.python = python\n",
    "        self.java = java\n",
    "        print(\"{} object is created\".format(self.name))\n",
    "#         print(\"Student object is created\")\n",
    "    def average(self):\n",
    "        avg = (self.python + self.java)/2\n",
    "        return avg\n",
    "    def py_status(self, pyaddOn):\n",
    "        self.python += pyaddOn\n",
    "        if self.python>= 40:\n",
    "            print(\"Hurrah!! You have passed python\")\n",
    "        else:\n",
    "            rint(\"Sorry!! You have failed python\")\n",
    "    def java_status(self, jaddOn):\n",
    "        self.java += jaddOn\n",
    "        if self.java>= 40:\n",
    "            print(\"Hurrah!! You have passed java\")\n",
    "        else:\n",
    "            print(\"Sorry!! You have failed java\")\n",
    "    def __str__(self):\n",
    "        return \"This class belongs to {}\".format(self.name)\n",
    "    def __del__(self): #destructor\n",
    "        print(\"{} data has been deleted\".format(self.name))     \n",
    "        \n",
    "    @staticmethod #decorator - it is a function which creates another function as argument\n",
    "    def clgNo():\n",
    "        return 533003"
   ]
  },
  {
   "cell_type": "code",
   "execution_count": 89,
   "id": "8eb6cae2",
   "metadata": {},
   "outputs": [
    {
     "data": {
      "text/plain": [
       "533003"
      ]
     },
     "execution_count": 89,
     "metadata": {},
     "output_type": "execute_result"
    }
   ],
   "source": [
    "Student.clgNo()"
   ]
  },
  {
   "cell_type": "code",
   "execution_count": 90,
   "id": "80dcf976",
   "metadata": {},
   "outputs": [],
   "source": [
    "class Student:\n",
    "    \"\"\"its a blueprint of student\"\"\"\n",
    "    college = \"JNTUK\"\n",
    "    branch = \"Data Science\"\n",
    "    collegeAddress = \"KAKINADA\"\n",
    "    \n",
    "    def __init__(self, name,rollNo, mobileNo, python, java): ##underscore underscore itit.... is called dendur init, constructor, instance method\n",
    "        self.name = name\n",
    "        self.rollNo = rollNo\n",
    "        self.mobileNo = mobileNo\n",
    "        self.python = python\n",
    "        self.java = java\n",
    "        print(\"{} object is created\".format(self.name))\n",
    "#         print(\"Student object is created\")\n",
    "    def average(self):\n",
    "        avg = (self.python + self.java)/2\n",
    "        return avg\n",
    "    def py_status(self, pyaddOn):\n",
    "        self.python += pyaddOn\n",
    "        if self.python>= 40:\n",
    "            print(\"Hurrah!! You have passed python\")\n",
    "        else:\n",
    "            rint(\"Sorry!! You have failed python\")\n",
    "    def java_status(self, jaddOn):\n",
    "        self.java += jaddOn\n",
    "        if self.java>= 40:\n",
    "            print(\"Hurrah!! You have passed java\")\n",
    "        else:\n",
    "            print(\"Sorry!! You have failed java\")\n",
    "    def __str__(self):\n",
    "        return \"This class belongs to {}\".format(self.name)\n",
    "    def __del__(self): #destructor\n",
    "        print(\"{} data has been deleted\".format(self.name))     \n",
    "        \n",
    "    @staticmethod #decorator - it is a function which creates another function as argument\n",
    "    def clgNo():\n",
    "        return 533003\n",
    "    \n",
    "    @classmethod\n",
    "    def clgName(cls):\n",
    "        return cls.college"
   ]
  },
  {
   "cell_type": "code",
   "execution_count": 91,
   "id": "c486087d",
   "metadata": {},
   "outputs": [
    {
     "data": {
      "text/plain": [
       "'JNTUK'"
      ]
     },
     "execution_count": 91,
     "metadata": {},
     "output_type": "execute_result"
    }
   ],
   "source": [
    "Student.clgName()"
   ]
  },
  {
   "cell_type": "markdown",
   "id": "e6f81238",
   "metadata": {},
   "source": [
    "- Encapsulation\n",
    "- Polymorphism\n",
    "- Inheritance\n",
    "    - Multi-level\n",
    "    - Hybrid\n",
    "    - Multiple\n",
    "    - Herirarchical\n",
    "- Abstraction\n",
    "- Operator overloading and overiding\n",
    "- Method Overloading"
   ]
  },
  {
   "cell_type": "code",
   "execution_count": null,
   "id": "1065aa50",
   "metadata": {},
   "outputs": [],
   "source": []
  }
 ],
 "metadata": {
  "kernelspec": {
   "display_name": "Python 3",
   "language": "python",
   "name": "python3"
  },
  "language_info": {
   "codemirror_mode": {
    "name": "ipython",
    "version": 3
   },
   "file_extension": ".py",
   "mimetype": "text/x-python",
   "name": "python",
   "nbconvert_exporter": "python",
   "pygments_lexer": "ipython3",
   "version": "3.8.8"
  }
 },
 "nbformat": 4,
 "nbformat_minor": 5
}
